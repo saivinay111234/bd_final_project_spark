{
 "cells": [
  {
   "cell_type": "markdown",
   "id": "e0b8858e-814e-408e-81c7-e7ee774d59be",
   "metadata": {},
   "source": [
    "### Initializing and Starting Pyspark Session"
   ]
  },
  {
   "cell_type": "code",
   "execution_count": 1,
   "id": "541cf2ea-9bc2-4c81-9df6-f75b537d8414",
   "metadata": {},
   "outputs": [
    {
     "name": "stderr",
     "output_type": "stream",
     "text": [
      "23/11/08 15:11:09 WARN Utils: Your hostname, localhost.localdomain resolves to a loopback address: 127.0.0.1; using 10.21.10.132 instead (on interface eth0)\n",
      "23/11/08 15:11:09 WARN Utils: Set SPARK_LOCAL_IP if you need to bind to another address\n",
      "Setting default log level to \"WARN\".\n",
      "To adjust logging level use sc.setLogLevel(newLevel). For SparkR, use setLogLevel(newLevel).\n",
      "23/11/08 15:11:10 WARN NativeCodeLoader: Unable to load native-hadoop library for your platform... using builtin-java classes where applicable\n"
     ]
    },
    {
     "name": "stdout",
     "output_type": "stream",
     "text": [
      "Spark Session WebUI Port: 4040\n"
     ]
    }
   ],
   "source": [
    "from pyspark.sql import SparkSession;\n",
    "from pyspark.context import SparkContext;\n",
    "\n",
    "# warehouse_location points to the default location for managed databases and tables\n",
    "from os.path import abspath\n",
    "warehouse_location = abspath('spark-warehouse')\n",
    "\n",
    "spark = SparkSession \\\n",
    "    . builder \\\n",
    "    .master(\"local[*]\") \\\n",
    "    .appName(\"ISM6562 PySpark Tutorials\") \\\n",
    "    .config(\"spark.sql.warehouse.dir\", warehouse_location) \\\n",
    "    .enableHiveSupport() \\\n",
    "    .getOrCreate()\n",
    "\n",
    "sc =spark.sparkContext\n",
    "sc.setLogLevel(\"ERROR\") # only display errors (not warnings)\n",
    "\n",
    "# note: If you have multiple spark sessions running (like from a previous notebook you've run), \n",
    "# this spark session webUI will be on a different port than the default (4040). One way to \n",
    "# identify this part is with the following line. If there was only one spark session running, \n",
    "# this will be 4040. If it's higher, it means there are still other spark sesssions still running.\n",
    "spark_session_port = spark.sparkContext.uiWebUrl.split(\":\")[-1]\n",
    "print(\"Spark Session WebUI Port: \" + spark_session_port)"
   ]
  },
  {
   "cell_type": "code",
   "execution_count": 2,
   "id": "39f1a69c-8b65-4734-a021-26fd1d99cf07",
   "metadata": {},
   "outputs": [
    {
     "data": {
      "text/html": [
       "\n",
       "            <div>\n",
       "                <p><b>SparkSession - hive</b></p>\n",
       "                \n",
       "        <div>\n",
       "            <p><b>SparkContext</b></p>\n",
       "\n",
       "            <p><a href=\"http://linux:4040\">Spark UI</a></p>\n",
       "\n",
       "            <dl>\n",
       "              <dt>Version</dt>\n",
       "                <dd><code>v3.5.0</code></dd>\n",
       "              <dt>Master</dt>\n",
       "                <dd><code>local[*]</code></dd>\n",
       "              <dt>AppName</dt>\n",
       "                <dd><code>ISM6562 PySpark Tutorials</code></dd>\n",
       "            </dl>\n",
       "        </div>\n",
       "        \n",
       "            </div>\n",
       "        "
      ],
      "text/plain": [
       "<pyspark.sql.session.SparkSession at 0x7f0880489810>"
      ]
     },
     "execution_count": 2,
     "metadata": {},
     "output_type": "execute_result"
    }
   ],
   "source": [
    "spark"
   ]
  },
  {
   "cell_type": "markdown",
   "id": "a831c8ba-7866-4a08-aafb-ae5591da4b3e",
   "metadata": {},
   "source": [
    "### Importing Libraries and reading csv files"
   ]
  },
  {
   "cell_type": "code",
   "execution_count": 3,
   "id": "a233a7c3-b104-4243-b3aa-9d60a12a48b8",
   "metadata": {},
   "outputs": [],
   "source": [
    "import pandas as pd"
   ]
  },
  {
   "cell_type": "code",
   "execution_count": 4,
   "id": "102f1418-fb2e-4b78-ad2a-abe5a386d908",
   "metadata": {},
   "outputs": [
    {
     "data": {
      "text/html": [
       "<div>\n",
       "<style scoped>\n",
       "    .dataframe tbody tr th:only-of-type {\n",
       "        vertical-align: middle;\n",
       "    }\n",
       "\n",
       "    .dataframe tbody tr th {\n",
       "        vertical-align: top;\n",
       "    }\n",
       "\n",
       "    .dataframe thead th {\n",
       "        text-align: right;\n",
       "    }\n",
       "</style>\n",
       "<table border=\"1\" class=\"dataframe\">\n",
       "  <thead>\n",
       "    <tr style=\"text-align: right;\">\n",
       "      <th></th>\n",
       "      <th>ID</th>\n",
       "      <th>LIMIT_BAL</th>\n",
       "      <th>SEX</th>\n",
       "      <th>EDUCATION</th>\n",
       "      <th>MARRIAGE</th>\n",
       "      <th>AGE</th>\n",
       "      <th>PAY_0</th>\n",
       "      <th>PAY_2</th>\n",
       "      <th>PAY_3</th>\n",
       "      <th>PAY_4</th>\n",
       "      <th>...</th>\n",
       "      <th>BILL_AMT4</th>\n",
       "      <th>BILL_AMT5</th>\n",
       "      <th>BILL_AMT6</th>\n",
       "      <th>PAY_AMT1</th>\n",
       "      <th>PAY_AMT2</th>\n",
       "      <th>PAY_AMT3</th>\n",
       "      <th>PAY_AMT4</th>\n",
       "      <th>PAY_AMT5</th>\n",
       "      <th>PAY_AMT6</th>\n",
       "      <th>default payment next month</th>\n",
       "    </tr>\n",
       "  </thead>\n",
       "  <tbody>\n",
       "    <tr>\n",
       "      <th>0</th>\n",
       "      <td>1</td>\n",
       "      <td>20000</td>\n",
       "      <td>2</td>\n",
       "      <td>2</td>\n",
       "      <td>1</td>\n",
       "      <td>24</td>\n",
       "      <td>2</td>\n",
       "      <td>2</td>\n",
       "      <td>-1</td>\n",
       "      <td>-1</td>\n",
       "      <td>...</td>\n",
       "      <td>0</td>\n",
       "      <td>0</td>\n",
       "      <td>0</td>\n",
       "      <td>0</td>\n",
       "      <td>689</td>\n",
       "      <td>0</td>\n",
       "      <td>0</td>\n",
       "      <td>0</td>\n",
       "      <td>0</td>\n",
       "      <td>1</td>\n",
       "    </tr>\n",
       "    <tr>\n",
       "      <th>1</th>\n",
       "      <td>2</td>\n",
       "      <td>120000</td>\n",
       "      <td>2</td>\n",
       "      <td>2</td>\n",
       "      <td>2</td>\n",
       "      <td>26</td>\n",
       "      <td>-1</td>\n",
       "      <td>2</td>\n",
       "      <td>0</td>\n",
       "      <td>0</td>\n",
       "      <td>...</td>\n",
       "      <td>3272</td>\n",
       "      <td>3455</td>\n",
       "      <td>3261</td>\n",
       "      <td>0</td>\n",
       "      <td>1000</td>\n",
       "      <td>1000</td>\n",
       "      <td>1000</td>\n",
       "      <td>0</td>\n",
       "      <td>2000</td>\n",
       "      <td>1</td>\n",
       "    </tr>\n",
       "    <tr>\n",
       "      <th>2</th>\n",
       "      <td>3</td>\n",
       "      <td>90000</td>\n",
       "      <td>2</td>\n",
       "      <td>2</td>\n",
       "      <td>2</td>\n",
       "      <td>34</td>\n",
       "      <td>0</td>\n",
       "      <td>0</td>\n",
       "      <td>0</td>\n",
       "      <td>0</td>\n",
       "      <td>...</td>\n",
       "      <td>14331</td>\n",
       "      <td>14948</td>\n",
       "      <td>15549</td>\n",
       "      <td>1518</td>\n",
       "      <td>1500</td>\n",
       "      <td>1000</td>\n",
       "      <td>1000</td>\n",
       "      <td>1000</td>\n",
       "      <td>5000</td>\n",
       "      <td>0</td>\n",
       "    </tr>\n",
       "    <tr>\n",
       "      <th>3</th>\n",
       "      <td>4</td>\n",
       "      <td>50000</td>\n",
       "      <td>2</td>\n",
       "      <td>2</td>\n",
       "      <td>1</td>\n",
       "      <td>37</td>\n",
       "      <td>0</td>\n",
       "      <td>0</td>\n",
       "      <td>0</td>\n",
       "      <td>0</td>\n",
       "      <td>...</td>\n",
       "      <td>28314</td>\n",
       "      <td>28959</td>\n",
       "      <td>29547</td>\n",
       "      <td>2000</td>\n",
       "      <td>2019</td>\n",
       "      <td>1200</td>\n",
       "      <td>1100</td>\n",
       "      <td>1069</td>\n",
       "      <td>1000</td>\n",
       "      <td>0</td>\n",
       "    </tr>\n",
       "    <tr>\n",
       "      <th>4</th>\n",
       "      <td>5</td>\n",
       "      <td>50000</td>\n",
       "      <td>1</td>\n",
       "      <td>2</td>\n",
       "      <td>1</td>\n",
       "      <td>57</td>\n",
       "      <td>-1</td>\n",
       "      <td>0</td>\n",
       "      <td>-1</td>\n",
       "      <td>0</td>\n",
       "      <td>...</td>\n",
       "      <td>20940</td>\n",
       "      <td>19146</td>\n",
       "      <td>19131</td>\n",
       "      <td>2000</td>\n",
       "      <td>36681</td>\n",
       "      <td>10000</td>\n",
       "      <td>9000</td>\n",
       "      <td>689</td>\n",
       "      <td>679</td>\n",
       "      <td>0</td>\n",
       "    </tr>\n",
       "  </tbody>\n",
       "</table>\n",
       "<p>5 rows × 25 columns</p>\n",
       "</div>"
      ],
      "text/plain": [
       "   ID  LIMIT_BAL  SEX  EDUCATION  MARRIAGE  AGE  PAY_0  PAY_2  PAY_3  PAY_4  \\\n",
       "0   1      20000    2          2         1   24      2      2     -1     -1   \n",
       "1   2     120000    2          2         2   26     -1      2      0      0   \n",
       "2   3      90000    2          2         2   34      0      0      0      0   \n",
       "3   4      50000    2          2         1   37      0      0      0      0   \n",
       "4   5      50000    1          2         1   57     -1      0     -1      0   \n",
       "\n",
       "   ...  BILL_AMT4  BILL_AMT5  BILL_AMT6  PAY_AMT1  PAY_AMT2  PAY_AMT3  \\\n",
       "0  ...          0          0          0         0       689         0   \n",
       "1  ...       3272       3455       3261         0      1000      1000   \n",
       "2  ...      14331      14948      15549      1518      1500      1000   \n",
       "3  ...      28314      28959      29547      2000      2019      1200   \n",
       "4  ...      20940      19146      19131      2000     36681     10000   \n",
       "\n",
       "   PAY_AMT4  PAY_AMT5  PAY_AMT6  default payment next month  \n",
       "0         0         0         0                           1  \n",
       "1      1000         0      2000                           1  \n",
       "2      1000      1000      5000                           0  \n",
       "3      1100      1069      1000                           0  \n",
       "4      9000       689       679                           0  \n",
       "\n",
       "[5 rows x 25 columns]"
      ]
     },
     "execution_count": 4,
     "metadata": {},
     "output_type": "execute_result"
    }
   ],
   "source": [
    "df = pd.read_csv(\"data/Credit_Card_Default.csv\")\n",
    "df.head()"
   ]
  },
  {
   "cell_type": "markdown",
   "id": "6dda28f4-25a8-4637-8af4-cdfe91012e2b",
   "metadata": {},
   "source": [
    "Create dataframe in Spark"
   ]
  },
  {
   "cell_type": "code",
   "execution_count": 5,
   "id": "063228fd-4bbe-4083-a5fc-6e2fdb79d47c",
   "metadata": {},
   "outputs": [
    {
     "name": "stderr",
     "output_type": "stream",
     "text": [
      "                                                                                \r"
     ]
    },
    {
     "name": "stdout",
     "output_type": "stream",
     "text": [
      "+---+---------+---+---------+--------+---+-----+-----+-----+-----+-----+-----+---------+---------+---------+---------+---------+---------+--------+--------+--------+--------+--------+--------+--------------------------+\n",
      "| ID|LIMIT_BAL|SEX|EDUCATION|MARRIAGE|AGE|PAY_0|PAY_2|PAY_3|PAY_4|PAY_5|PAY_6|BILL_AMT1|BILL_AMT2|BILL_AMT3|BILL_AMT4|BILL_AMT5|BILL_AMT6|PAY_AMT1|PAY_AMT2|PAY_AMT3|PAY_AMT4|PAY_AMT5|PAY_AMT6|default payment next month|\n",
      "+---+---------+---+---------+--------+---+-----+-----+-----+-----+-----+-----+---------+---------+---------+---------+---------+---------+--------+--------+--------+--------+--------+--------+--------------------------+\n",
      "|  1|    20000|  2|        2|       1| 24|    2|    2|   -1|   -1|   -2|   -2|     3913|     3102|      689|        0|        0|        0|       0|     689|       0|       0|       0|       0|                         1|\n",
      "|  2|   120000|  2|        2|       2| 26|   -1|    2|    0|    0|    0|    2|     2682|     1725|     2682|     3272|     3455|     3261|       0|    1000|    1000|    1000|       0|    2000|                         1|\n",
      "|  3|    90000|  2|        2|       2| 34|    0|    0|    0|    0|    0|    0|    29239|    14027|    13559|    14331|    14948|    15549|    1518|    1500|    1000|    1000|    1000|    5000|                         0|\n",
      "|  4|    50000|  2|        2|       1| 37|    0|    0|    0|    0|    0|    0|    46990|    48233|    49291|    28314|    28959|    29547|    2000|    2019|    1200|    1100|    1069|    1000|                         0|\n",
      "|  5|    50000|  1|        2|       1| 57|   -1|    0|   -1|    0|    0|    0|     8617|     5670|    35835|    20940|    19146|    19131|    2000|   36681|   10000|    9000|     689|     679|                         0|\n",
      "|  6|    50000|  1|        1|       2| 37|    0|    0|    0|    0|    0|    0|    64400|    57069|    57608|    19394|    19619|    20024|    2500|    1815|     657|    1000|    1000|     800|                         0|\n",
      "|  7|   500000|  1|        1|       2| 29|    0|    0|    0|    0|    0|    0|   367965|   412023|   445007|   542653|   483003|   473944|   55000|   40000|   38000|   20239|   13750|   13770|                         0|\n",
      "|  8|   100000|  2|        2|       2| 23|    0|   -1|   -1|    0|    0|   -1|    11876|      380|      601|      221|     -159|      567|     380|     601|       0|     581|    1687|    1542|                         0|\n",
      "|  9|   140000|  2|        3|       1| 28|    0|    0|    2|    0|    0|    0|    11285|    14096|    12108|    12211|    11793|     3719|    3329|       0|     432|    1000|    1000|    1000|                         0|\n",
      "| 10|    20000|  1|        3|       2| 35|   -2|   -2|   -2|   -2|   -1|   -1|        0|        0|        0|        0|    13007|    13912|       0|       0|       0|   13007|    1122|       0|                         0|\n",
      "| 11|   200000|  2|        3|       2| 34|    0|    0|    2|    0|    0|   -1|    11073|     9787|     5535|     2513|     1828|     3731|    2306|      12|      50|     300|    3738|      66|                         0|\n",
      "| 12|   260000|  2|        1|       2| 51|   -1|   -1|   -1|   -1|   -1|    2|    12261|    21670|     9966|     8517|    22287|    13668|   21818|    9966|    8583|   22301|       0|    3640|                         0|\n",
      "| 13|   630000|  2|        2|       2| 41|   -1|    0|   -1|   -1|   -1|   -1|    12137|     6500|     6500|     6500|     6500|     2870|    1000|    6500|    6500|    6500|    2870|       0|                         0|\n",
      "| 14|    70000|  1|        2|       2| 30|    1|    2|    2|    0|    0|    2|    65802|    67369|    65701|    66782|    36137|    36894|    3200|       0|    3000|    3000|    1500|       0|                         1|\n",
      "| 15|   250000|  1|        1|       2| 29|    0|    0|    0|    0|    0|    0|    70887|    67060|    63561|    59696|    56875|    55512|    3000|    3000|    3000|    3000|    3000|    3000|                         0|\n",
      "| 16|    50000|  2|        3|       3| 23|    1|    2|    0|    0|    0|    0|    50614|    29173|    28116|    28771|    29531|    30211|       0|    1500|    1100|    1200|    1300|    1100|                         0|\n",
      "| 17|    20000|  1|        1|       2| 24|    0|    0|    2|    2|    2|    2|    15376|    18010|    17428|    18338|    17905|    19104|    3200|       0|    1500|       0|    1650|       0|                         1|\n",
      "| 18|   320000|  1|        1|       1| 49|    0|    0|    0|   -1|   -1|   -1|   253286|   246536|   194663|    70074|     5856|   195599|   10358|   10000|   75940|   20000|  195599|   50000|                         0|\n",
      "| 19|   360000|  2|        1|       1| 49|    1|   -2|   -2|   -2|   -2|   -2|        0|        0|        0|        0|        0|        0|       0|       0|       0|       0|       0|       0|                         0|\n",
      "| 20|   180000|  2|        1|       2| 29|    1|   -2|   -2|   -2|   -2|   -2|        0|        0|        0|        0|        0|        0|       0|       0|       0|       0|       0|       0|                         0|\n",
      "+---+---------+---+---------+--------+---+-----+-----+-----+-----+-----+-----+---------+---------+---------+---------+---------+---------+--------+--------+--------+--------+--------+--------+--------------------------+\n",
      "only showing top 20 rows\n",
      "\n"
     ]
    }
   ],
   "source": [
    "df_spark = spark.createDataFrame(df)\n",
    "df_spark.show()"
   ]
  },
  {
   "cell_type": "raw",
   "id": "93cecccc-d020-4d37-beb4-8e4343168715",
   "metadata": {},
   "source": [
    "Print Schema of the Table. This schema shows each feature present in the dataframe \n",
    "and its data tyoe of the each feature."
   ]
  },
  {
   "cell_type": "code",
   "execution_count": 6,
   "id": "03e36b0d-eae3-41e6-b285-1ecbbc74014b",
   "metadata": {},
   "outputs": [
    {
     "name": "stdout",
     "output_type": "stream",
     "text": [
      "root\n",
      " |-- ID: long (nullable = true)\n",
      " |-- LIMIT_BAL: long (nullable = true)\n",
      " |-- SEX: long (nullable = true)\n",
      " |-- EDUCATION: long (nullable = true)\n",
      " |-- MARRIAGE: long (nullable = true)\n",
      " |-- AGE: long (nullable = true)\n",
      " |-- PAY_0: long (nullable = true)\n",
      " |-- PAY_2: long (nullable = true)\n",
      " |-- PAY_3: long (nullable = true)\n",
      " |-- PAY_4: long (nullable = true)\n",
      " |-- PAY_5: long (nullable = true)\n",
      " |-- PAY_6: long (nullable = true)\n",
      " |-- BILL_AMT1: long (nullable = true)\n",
      " |-- BILL_AMT2: long (nullable = true)\n",
      " |-- BILL_AMT3: long (nullable = true)\n",
      " |-- BILL_AMT4: long (nullable = true)\n",
      " |-- BILL_AMT5: long (nullable = true)\n",
      " |-- BILL_AMT6: long (nullable = true)\n",
      " |-- PAY_AMT1: long (nullable = true)\n",
      " |-- PAY_AMT2: long (nullable = true)\n",
      " |-- PAY_AMT3: long (nullable = true)\n",
      " |-- PAY_AMT4: long (nullable = true)\n",
      " |-- PAY_AMT5: long (nullable = true)\n",
      " |-- PAY_AMT6: long (nullable = true)\n",
      " |-- default payment next month: long (nullable = true)\n",
      "\n"
     ]
    }
   ],
   "source": [
    "df_spark.printSchema()"
   ]
  },
  {
   "cell_type": "markdown",
   "id": "c5efa953-5bfd-455c-8a68-ed4f9690ee0f",
   "metadata": {},
   "source": [
    "### Data Description"
   ]
  },
  {
   "cell_type": "raw",
   "id": "044ad71c-fa0d-47a2-9175-ecb887369091",
   "metadata": {},
   "source": [
    "There are 25 variables:\n",
    "\n",
    "-ID: ID of each client\n",
    "-LIMIT_BAL: Amount of given credit in NT dollars (includes individual and family/supplementary credit\n",
    "-SEX: Gender (1=male, 2=female)\n",
    "-EDUCATION: (1=graduate school, 2=university, 3=high school, 4=others, 5=unknown, 6=unknown)\n",
    "-MARRIAGE: Marital status (1=married, 2=single, 3=others)\n",
    "-AGE: Age in years\n",
    "-PAY_0: Repayment status in September, 2005 (-1=pay duly, 1=payment delay for one month, 2=payment delay for two months, ... 8=payment delay for eight months, 9=payment delay for nine months and above)\n",
    "-PAY_2: Repayment status in August, 2005 (scale same as above)\n",
    "-PAY_3: Repayment status in July, 2005 (scale same as above)\n",
    "-PAY_4: Repayment status in June, 2005 (scale same as above)\n",
    "-PAY_5: Repayment status in May, 2005 (scale same as above)\n",
    "-PAY_6: Repayment status in April, 2005 (scale same as above)\n",
    "-BILL_AMT1: Amount of bill statement in September, 2005 (NT dollar)\n",
    "-BILL_AMT2: Amount of bill statement in August, 2005 (NT dollar)\n",
    "-BILL_AMT3: Amount of bill statement in July, 2005 (NT dollar)\n",
    "-BILL_AMT4: Amount of bill statement in June, 2005 (NT dollar)\n",
    "-BILL_AMT5: Amount of bill statement in May, 2005 (NT dollar)\n",
    "-BILL_AMT6: Amount of bill statement in April, 2005 (NT dollar)\n",
    "-PAY_AMT1: Amount of previous payment in September, 2005 (NT dollar)\n",
    "-PAY_AMT2: Amount of previous payment in August, 2005 (NT dollar)\n",
    "-PAY_AMT3: Amount of previous payment in July, 2005 (NT dollar)\n",
    "-PAY_AMT4: Amount of previous payment in June, 2005 (NT dollar)\n",
    "-PAY_AMT5: Amount of previous payment in May, 2005 (NT dollar)\n",
    "-PAY_AMT6: Amount of previous payment in April, 2005 (NT dollar)\n",
    "-default.payment.next.month: Default payment (1=yes, 0=no)"
   ]
  },
  {
   "cell_type": "raw",
   "id": "68ced88b-2e4d-4ca5-b2e6-552f549a2b0b",
   "metadata": {
    "tags": []
   },
   "source": [
    "We can also export the Pyspark dataframe into pandas dataframe using toPandas()"
   ]
  },
  {
   "cell_type": "code",
   "execution_count": 7,
   "id": "87c7473f-c095-40a0-a1d9-923d24ae2338",
   "metadata": {
    "tags": []
   },
   "outputs": [
    {
     "data": {
      "text/html": [
       "<div>\n",
       "<style scoped>\n",
       "    .dataframe tbody tr th:only-of-type {\n",
       "        vertical-align: middle;\n",
       "    }\n",
       "\n",
       "    .dataframe tbody tr th {\n",
       "        vertical-align: top;\n",
       "    }\n",
       "\n",
       "    .dataframe thead th {\n",
       "        text-align: right;\n",
       "    }\n",
       "</style>\n",
       "<table border=\"1\" class=\"dataframe\">\n",
       "  <thead>\n",
       "    <tr style=\"text-align: right;\">\n",
       "      <th></th>\n",
       "      <th>ID</th>\n",
       "      <th>LIMIT_BAL</th>\n",
       "      <th>SEX</th>\n",
       "      <th>EDUCATION</th>\n",
       "      <th>MARRIAGE</th>\n",
       "      <th>AGE</th>\n",
       "      <th>PAY_0</th>\n",
       "      <th>PAY_2</th>\n",
       "      <th>PAY_3</th>\n",
       "      <th>PAY_4</th>\n",
       "      <th>...</th>\n",
       "      <th>BILL_AMT4</th>\n",
       "      <th>BILL_AMT5</th>\n",
       "      <th>BILL_AMT6</th>\n",
       "      <th>PAY_AMT1</th>\n",
       "      <th>PAY_AMT2</th>\n",
       "      <th>PAY_AMT3</th>\n",
       "      <th>PAY_AMT4</th>\n",
       "      <th>PAY_AMT5</th>\n",
       "      <th>PAY_AMT6</th>\n",
       "      <th>default payment next month</th>\n",
       "    </tr>\n",
       "  </thead>\n",
       "  <tbody>\n",
       "    <tr>\n",
       "      <th>0</th>\n",
       "      <td>1</td>\n",
       "      <td>20000</td>\n",
       "      <td>2</td>\n",
       "      <td>2</td>\n",
       "      <td>1</td>\n",
       "      <td>24</td>\n",
       "      <td>2</td>\n",
       "      <td>2</td>\n",
       "      <td>-1</td>\n",
       "      <td>-1</td>\n",
       "      <td>...</td>\n",
       "      <td>0</td>\n",
       "      <td>0</td>\n",
       "      <td>0</td>\n",
       "      <td>0</td>\n",
       "      <td>689</td>\n",
       "      <td>0</td>\n",
       "      <td>0</td>\n",
       "      <td>0</td>\n",
       "      <td>0</td>\n",
       "      <td>1</td>\n",
       "    </tr>\n",
       "    <tr>\n",
       "      <th>1</th>\n",
       "      <td>2</td>\n",
       "      <td>120000</td>\n",
       "      <td>2</td>\n",
       "      <td>2</td>\n",
       "      <td>2</td>\n",
       "      <td>26</td>\n",
       "      <td>-1</td>\n",
       "      <td>2</td>\n",
       "      <td>0</td>\n",
       "      <td>0</td>\n",
       "      <td>...</td>\n",
       "      <td>3272</td>\n",
       "      <td>3455</td>\n",
       "      <td>3261</td>\n",
       "      <td>0</td>\n",
       "      <td>1000</td>\n",
       "      <td>1000</td>\n",
       "      <td>1000</td>\n",
       "      <td>0</td>\n",
       "      <td>2000</td>\n",
       "      <td>1</td>\n",
       "    </tr>\n",
       "    <tr>\n",
       "      <th>2</th>\n",
       "      <td>3</td>\n",
       "      <td>90000</td>\n",
       "      <td>2</td>\n",
       "      <td>2</td>\n",
       "      <td>2</td>\n",
       "      <td>34</td>\n",
       "      <td>0</td>\n",
       "      <td>0</td>\n",
       "      <td>0</td>\n",
       "      <td>0</td>\n",
       "      <td>...</td>\n",
       "      <td>14331</td>\n",
       "      <td>14948</td>\n",
       "      <td>15549</td>\n",
       "      <td>1518</td>\n",
       "      <td>1500</td>\n",
       "      <td>1000</td>\n",
       "      <td>1000</td>\n",
       "      <td>1000</td>\n",
       "      <td>5000</td>\n",
       "      <td>0</td>\n",
       "    </tr>\n",
       "    <tr>\n",
       "      <th>3</th>\n",
       "      <td>4</td>\n",
       "      <td>50000</td>\n",
       "      <td>2</td>\n",
       "      <td>2</td>\n",
       "      <td>1</td>\n",
       "      <td>37</td>\n",
       "      <td>0</td>\n",
       "      <td>0</td>\n",
       "      <td>0</td>\n",
       "      <td>0</td>\n",
       "      <td>...</td>\n",
       "      <td>28314</td>\n",
       "      <td>28959</td>\n",
       "      <td>29547</td>\n",
       "      <td>2000</td>\n",
       "      <td>2019</td>\n",
       "      <td>1200</td>\n",
       "      <td>1100</td>\n",
       "      <td>1069</td>\n",
       "      <td>1000</td>\n",
       "      <td>0</td>\n",
       "    </tr>\n",
       "    <tr>\n",
       "      <th>4</th>\n",
       "      <td>5</td>\n",
       "      <td>50000</td>\n",
       "      <td>1</td>\n",
       "      <td>2</td>\n",
       "      <td>1</td>\n",
       "      <td>57</td>\n",
       "      <td>-1</td>\n",
       "      <td>0</td>\n",
       "      <td>-1</td>\n",
       "      <td>0</td>\n",
       "      <td>...</td>\n",
       "      <td>20940</td>\n",
       "      <td>19146</td>\n",
       "      <td>19131</td>\n",
       "      <td>2000</td>\n",
       "      <td>36681</td>\n",
       "      <td>10000</td>\n",
       "      <td>9000</td>\n",
       "      <td>689</td>\n",
       "      <td>679</td>\n",
       "      <td>0</td>\n",
       "    </tr>\n",
       "    <tr>\n",
       "      <th>...</th>\n",
       "      <td>...</td>\n",
       "      <td>...</td>\n",
       "      <td>...</td>\n",
       "      <td>...</td>\n",
       "      <td>...</td>\n",
       "      <td>...</td>\n",
       "      <td>...</td>\n",
       "      <td>...</td>\n",
       "      <td>...</td>\n",
       "      <td>...</td>\n",
       "      <td>...</td>\n",
       "      <td>...</td>\n",
       "      <td>...</td>\n",
       "      <td>...</td>\n",
       "      <td>...</td>\n",
       "      <td>...</td>\n",
       "      <td>...</td>\n",
       "      <td>...</td>\n",
       "      <td>...</td>\n",
       "      <td>...</td>\n",
       "      <td>...</td>\n",
       "    </tr>\n",
       "    <tr>\n",
       "      <th>29995</th>\n",
       "      <td>29996</td>\n",
       "      <td>220000</td>\n",
       "      <td>1</td>\n",
       "      <td>3</td>\n",
       "      <td>1</td>\n",
       "      <td>39</td>\n",
       "      <td>0</td>\n",
       "      <td>0</td>\n",
       "      <td>0</td>\n",
       "      <td>0</td>\n",
       "      <td>...</td>\n",
       "      <td>88004</td>\n",
       "      <td>31237</td>\n",
       "      <td>15980</td>\n",
       "      <td>8500</td>\n",
       "      <td>20000</td>\n",
       "      <td>5003</td>\n",
       "      <td>3047</td>\n",
       "      <td>5000</td>\n",
       "      <td>1000</td>\n",
       "      <td>0</td>\n",
       "    </tr>\n",
       "    <tr>\n",
       "      <th>29996</th>\n",
       "      <td>29997</td>\n",
       "      <td>150000</td>\n",
       "      <td>1</td>\n",
       "      <td>3</td>\n",
       "      <td>2</td>\n",
       "      <td>43</td>\n",
       "      <td>-1</td>\n",
       "      <td>-1</td>\n",
       "      <td>-1</td>\n",
       "      <td>-1</td>\n",
       "      <td>...</td>\n",
       "      <td>8979</td>\n",
       "      <td>5190</td>\n",
       "      <td>0</td>\n",
       "      <td>1837</td>\n",
       "      <td>3526</td>\n",
       "      <td>8998</td>\n",
       "      <td>129</td>\n",
       "      <td>0</td>\n",
       "      <td>0</td>\n",
       "      <td>0</td>\n",
       "    </tr>\n",
       "    <tr>\n",
       "      <th>29997</th>\n",
       "      <td>29998</td>\n",
       "      <td>30000</td>\n",
       "      <td>1</td>\n",
       "      <td>2</td>\n",
       "      <td>2</td>\n",
       "      <td>37</td>\n",
       "      <td>4</td>\n",
       "      <td>3</td>\n",
       "      <td>2</td>\n",
       "      <td>-1</td>\n",
       "      <td>...</td>\n",
       "      <td>20878</td>\n",
       "      <td>20582</td>\n",
       "      <td>19357</td>\n",
       "      <td>0</td>\n",
       "      <td>0</td>\n",
       "      <td>22000</td>\n",
       "      <td>4200</td>\n",
       "      <td>2000</td>\n",
       "      <td>3100</td>\n",
       "      <td>1</td>\n",
       "    </tr>\n",
       "    <tr>\n",
       "      <th>29998</th>\n",
       "      <td>29999</td>\n",
       "      <td>80000</td>\n",
       "      <td>1</td>\n",
       "      <td>3</td>\n",
       "      <td>1</td>\n",
       "      <td>41</td>\n",
       "      <td>1</td>\n",
       "      <td>-1</td>\n",
       "      <td>0</td>\n",
       "      <td>0</td>\n",
       "      <td>...</td>\n",
       "      <td>52774</td>\n",
       "      <td>11855</td>\n",
       "      <td>48944</td>\n",
       "      <td>85900</td>\n",
       "      <td>3409</td>\n",
       "      <td>1178</td>\n",
       "      <td>1926</td>\n",
       "      <td>52964</td>\n",
       "      <td>1804</td>\n",
       "      <td>1</td>\n",
       "    </tr>\n",
       "    <tr>\n",
       "      <th>29999</th>\n",
       "      <td>30000</td>\n",
       "      <td>50000</td>\n",
       "      <td>1</td>\n",
       "      <td>2</td>\n",
       "      <td>1</td>\n",
       "      <td>46</td>\n",
       "      <td>0</td>\n",
       "      <td>0</td>\n",
       "      <td>0</td>\n",
       "      <td>0</td>\n",
       "      <td>...</td>\n",
       "      <td>36535</td>\n",
       "      <td>32428</td>\n",
       "      <td>15313</td>\n",
       "      <td>2078</td>\n",
       "      <td>1800</td>\n",
       "      <td>1430</td>\n",
       "      <td>1000</td>\n",
       "      <td>1000</td>\n",
       "      <td>1000</td>\n",
       "      <td>1</td>\n",
       "    </tr>\n",
       "  </tbody>\n",
       "</table>\n",
       "<p>30000 rows × 25 columns</p>\n",
       "</div>"
      ],
      "text/plain": [
       "          ID  LIMIT_BAL  SEX  EDUCATION  MARRIAGE  AGE  PAY_0  PAY_2  PAY_3  \\\n",
       "0          1      20000    2          2         1   24      2      2     -1   \n",
       "1          2     120000    2          2         2   26     -1      2      0   \n",
       "2          3      90000    2          2         2   34      0      0      0   \n",
       "3          4      50000    2          2         1   37      0      0      0   \n",
       "4          5      50000    1          2         1   57     -1      0     -1   \n",
       "...      ...        ...  ...        ...       ...  ...    ...    ...    ...   \n",
       "29995  29996     220000    1          3         1   39      0      0      0   \n",
       "29996  29997     150000    1          3         2   43     -1     -1     -1   \n",
       "29997  29998      30000    1          2         2   37      4      3      2   \n",
       "29998  29999      80000    1          3         1   41      1     -1      0   \n",
       "29999  30000      50000    1          2         1   46      0      0      0   \n",
       "\n",
       "       PAY_4  ...  BILL_AMT4  BILL_AMT5  BILL_AMT6  PAY_AMT1  PAY_AMT2  \\\n",
       "0         -1  ...          0          0          0         0       689   \n",
       "1          0  ...       3272       3455       3261         0      1000   \n",
       "2          0  ...      14331      14948      15549      1518      1500   \n",
       "3          0  ...      28314      28959      29547      2000      2019   \n",
       "4          0  ...      20940      19146      19131      2000     36681   \n",
       "...      ...  ...        ...        ...        ...       ...       ...   \n",
       "29995      0  ...      88004      31237      15980      8500     20000   \n",
       "29996     -1  ...       8979       5190          0      1837      3526   \n",
       "29997     -1  ...      20878      20582      19357         0         0   \n",
       "29998      0  ...      52774      11855      48944     85900      3409   \n",
       "29999      0  ...      36535      32428      15313      2078      1800   \n",
       "\n",
       "       PAY_AMT3  PAY_AMT4  PAY_AMT5  PAY_AMT6  default payment next month  \n",
       "0             0         0         0         0                           1  \n",
       "1          1000      1000         0      2000                           1  \n",
       "2          1000      1000      1000      5000                           0  \n",
       "3          1200      1100      1069      1000                           0  \n",
       "4         10000      9000       689       679                           0  \n",
       "...         ...       ...       ...       ...                         ...  \n",
       "29995      5003      3047      5000      1000                           0  \n",
       "29996      8998       129         0         0                           0  \n",
       "29997     22000      4200      2000      3100                           1  \n",
       "29998      1178      1926     52964      1804                           1  \n",
       "29999      1430      1000      1000      1000                           1  \n",
       "\n",
       "[30000 rows x 25 columns]"
      ]
     },
     "execution_count": 7,
     "metadata": {},
     "output_type": "execute_result"
    }
   ],
   "source": [
    "df2 = df_spark.toPandas()\n",
    "df2"
   ]
  },
  {
   "cell_type": "markdown",
   "id": "42df0832-b77c-456d-bf99-49a7e49c8158",
   "metadata": {},
   "source": [
    "### Adding Data to the PySpark Datawarehouse"
   ]
  },
  {
   "cell_type": "code",
   "execution_count": 8,
   "id": "b6d0a5e1-fc90-4ca7-87e2-bd0de367d0de",
   "metadata": {},
   "outputs": [
    {
     "data": {
      "text/plain": [
       "[Table(name='fake_friends', catalog='spark_catalog', namespace=['default'], description=None, tableType='MANAGED', isTemporary=False),\n",
       " Table(name='movieratings', catalog='spark_catalog', namespace=['default'], description=None, tableType='MANAGED', isTemporary=False),\n",
       " Table(name='movies', catalog='spark_catalog', namespace=['default'], description=None, tableType='MANAGED', isTemporary=False)]"
      ]
     },
     "execution_count": 8,
     "metadata": {},
     "output_type": "execute_result"
    }
   ],
   "source": [
    "spark.catalog.listTables() # tables already exists in the spark warehouse"
   ]
  },
  {
   "cell_type": "code",
   "execution_count": 9,
   "id": "587eaf61-430d-465f-8570-1cc0847df822",
   "metadata": {
    "tags": []
   },
   "outputs": [
    {
     "name": "stdout",
     "output_type": "stream",
     "text": [
      "+-------------+\n",
      "|    namespace|\n",
      "+-------------+\n",
      "|bd_project_db|\n",
      "|      default|\n",
      "|       w10_db|\n",
      "+-------------+\n",
      "\n"
     ]
    }
   ],
   "source": [
    "db=spark.sql(\"show databases\")\n",
    "db.show() # shows current databases present in the warehouse. "
   ]
  },
  {
   "cell_type": "raw",
   "id": "2195d206-20d5-4297-aad1-a734165d414e",
   "metadata": {},
   "source": [
    "List the tables in the database. If this is a new install (haven't run this notebook before), there shouldn't be any tables."
   ]
  },
  {
   "cell_type": "code",
   "execution_count": 10,
   "id": "68bcf279-a806-49e1-8e56-9ab74880e4d4",
   "metadata": {
    "tags": []
   },
   "outputs": [
    {
     "name": "stdout",
     "output_type": "stream",
     "text": [
      "+---------+------------+-----------+\n",
      "|namespace|   tableName|isTemporary|\n",
      "+---------+------------+-----------+\n",
      "|  default|fake_friends|      false|\n",
      "|  default|movieratings|      false|\n",
      "|  default|      movies|      false|\n",
      "+---------+------------+-----------+\n",
      "\n"
     ]
    }
   ],
   "source": [
    "tables=spark.sql(\"show tables\").show()"
   ]
  },
  {
   "cell_type": "raw",
   "id": "597ce1c5-6433-4e55-97aa-f3c95634f502",
   "metadata": {},
   "source": [
    "As we can see above tables are not temporary in the datawarehouse. There are stored in datawarehouse. we can add \n",
    "our data into the warehouse temporarlily and perform data analysis. This data is stored in warehouse until the spark is up. if we shutdown the spark, this data will be lost.\n",
    "\n",
    "\n",
    "Now, let's load the credit default dataset into the datawarehouse. We will use the spark dataframe API to load the data. We will then use the spark sql API to create a table from the dataframe."
   ]
  },
  {
   "cell_type": "code",
   "execution_count": 11,
   "id": "a85b519d-33ef-433e-aafe-fb45cded1661",
   "metadata": {
    "tags": []
   },
   "outputs": [
    {
     "name": "stdout",
     "output_type": "stream",
     "text": [
      "+---+---------+---+---------+--------+---+-----+-----+-----+-----+-----+-----+---------+---------+---------+---------+---------+---------+--------+--------+--------+--------+--------+--------+--------------------------+\n",
      "| ID|LIMIT_BAL|SEX|EDUCATION|MARRIAGE|AGE|PAY_0|PAY_2|PAY_3|PAY_4|PAY_5|PAY_6|BILL_AMT1|BILL_AMT2|BILL_AMT3|BILL_AMT4|BILL_AMT5|BILL_AMT6|PAY_AMT1|PAY_AMT2|PAY_AMT3|PAY_AMT4|PAY_AMT5|PAY_AMT6|default payment next month|\n",
      "+---+---------+---+---------+--------+---+-----+-----+-----+-----+-----+-----+---------+---------+---------+---------+---------+---------+--------+--------+--------+--------+--------+--------+--------------------------+\n",
      "|  1|    20000|  2|        2|       1| 24|    2|    2|   -1|   -1|   -2|   -2|     3913|     3102|      689|        0|        0|        0|       0|     689|       0|       0|       0|       0|                         1|\n",
      "|  2|   120000|  2|        2|       2| 26|   -1|    2|    0|    0|    0|    2|     2682|     1725|     2682|     3272|     3455|     3261|       0|    1000|    1000|    1000|       0|    2000|                         1|\n",
      "|  3|    90000|  2|        2|       2| 34|    0|    0|    0|    0|    0|    0|    29239|    14027|    13559|    14331|    14948|    15549|    1518|    1500|    1000|    1000|    1000|    5000|                         0|\n",
      "|  4|    50000|  2|        2|       1| 37|    0|    0|    0|    0|    0|    0|    46990|    48233|    49291|    28314|    28959|    29547|    2000|    2019|    1200|    1100|    1069|    1000|                         0|\n",
      "|  5|    50000|  1|        2|       1| 57|   -1|    0|   -1|    0|    0|    0|     8617|     5670|    35835|    20940|    19146|    19131|    2000|   36681|   10000|    9000|     689|     679|                         0|\n",
      "|  6|    50000|  1|        1|       2| 37|    0|    0|    0|    0|    0|    0|    64400|    57069|    57608|    19394|    19619|    20024|    2500|    1815|     657|    1000|    1000|     800|                         0|\n",
      "|  7|   500000|  1|        1|       2| 29|    0|    0|    0|    0|    0|    0|   367965|   412023|   445007|   542653|   483003|   473944|   55000|   40000|   38000|   20239|   13750|   13770|                         0|\n",
      "|  8|   100000|  2|        2|       2| 23|    0|   -1|   -1|    0|    0|   -1|    11876|      380|      601|      221|     -159|      567|     380|     601|       0|     581|    1687|    1542|                         0|\n",
      "|  9|   140000|  2|        3|       1| 28|    0|    0|    2|    0|    0|    0|    11285|    14096|    12108|    12211|    11793|     3719|    3329|       0|     432|    1000|    1000|    1000|                         0|\n",
      "| 10|    20000|  1|        3|       2| 35|   -2|   -2|   -2|   -2|   -1|   -1|        0|        0|        0|        0|    13007|    13912|       0|       0|       0|   13007|    1122|       0|                         0|\n",
      "| 11|   200000|  2|        3|       2| 34|    0|    0|    2|    0|    0|   -1|    11073|     9787|     5535|     2513|     1828|     3731|    2306|      12|      50|     300|    3738|      66|                         0|\n",
      "| 12|   260000|  2|        1|       2| 51|   -1|   -1|   -1|   -1|   -1|    2|    12261|    21670|     9966|     8517|    22287|    13668|   21818|    9966|    8583|   22301|       0|    3640|                         0|\n",
      "| 13|   630000|  2|        2|       2| 41|   -1|    0|   -1|   -1|   -1|   -1|    12137|     6500|     6500|     6500|     6500|     2870|    1000|    6500|    6500|    6500|    2870|       0|                         0|\n",
      "| 14|    70000|  1|        2|       2| 30|    1|    2|    2|    0|    0|    2|    65802|    67369|    65701|    66782|    36137|    36894|    3200|       0|    3000|    3000|    1500|       0|                         1|\n",
      "| 15|   250000|  1|        1|       2| 29|    0|    0|    0|    0|    0|    0|    70887|    67060|    63561|    59696|    56875|    55512|    3000|    3000|    3000|    3000|    3000|    3000|                         0|\n",
      "| 16|    50000|  2|        3|       3| 23|    1|    2|    0|    0|    0|    0|    50614|    29173|    28116|    28771|    29531|    30211|       0|    1500|    1100|    1200|    1300|    1100|                         0|\n",
      "| 17|    20000|  1|        1|       2| 24|    0|    0|    2|    2|    2|    2|    15376|    18010|    17428|    18338|    17905|    19104|    3200|       0|    1500|       0|    1650|       0|                         1|\n",
      "| 18|   320000|  1|        1|       1| 49|    0|    0|    0|   -1|   -1|   -1|   253286|   246536|   194663|    70074|     5856|   195599|   10358|   10000|   75940|   20000|  195599|   50000|                         0|\n",
      "| 19|   360000|  2|        1|       1| 49|    1|   -2|   -2|   -2|   -2|   -2|        0|        0|        0|        0|        0|        0|       0|       0|       0|       0|       0|       0|                         0|\n",
      "| 20|   180000|  2|        1|       2| 29|    1|   -2|   -2|   -2|   -2|   -2|        0|        0|        0|        0|        0|        0|       0|       0|       0|       0|       0|       0|                         0|\n",
      "+---+---------+---+---------+--------+---+-----+-----+-----+-----+-----+-----+---------+---------+---------+---------+---------+---------+--------+--------+--------+--------+--------+--------+--------------------------+\n",
      "only showing top 20 rows\n",
      "\n"
     ]
    }
   ],
   "source": [
    "creditdefault=spark.read.csv(\"data/Credit_Card_Default.csv\", header=True, inferSchema=True);\n",
    "creditdefault.show()"
   ]
  },
  {
   "cell_type": "raw",
   "id": "16440bbf-a055-4153-8a7d-03d41cc09466",
   "metadata": {},
   "source": [
    "createOrReplaceTempView:\n",
    "\n",
    "The createOrReplaceTempView function in Apache Spark allows us to create a temporary view of a DataFrame. This view exists only for the duration of your Spark application and is not stored in a persistent manner. It's useful for quickly querying or manipulating DataFrames within our Spark program. Temporary views are especially handy for one-off transformations or SQL-like queries that we need during your Spark session but don't need to persist after our application finishes.\n",
    "\n",
    "\n",
    "\n",
    "saveAsTable:\n",
    "\n",
    "The saveAsTable function in Apache Spark is used to save DataFrames as persistent tables in the Hive metastore. It doesn't require an existing Hive deployment, as Spark can create a default local Hive metastore (using Derby) if needed. Unlike createOrReplaceTempView, saveAsTable materializes the contents of the DataFrame and establishes a pointer to the data in the Hive metastore. These persistent tables continue to exist even after your Spark program is restarted, as long as we maintain your connection to the same metastore. To work with a DataFrame associated with a persistent table, we can use the table method on a SparkSession with the name of the table. This allows us to manage and query your data in a structured and durable manner.\n",
    "\n",
    "\n",
    "\n",
    "\n",
    "\n"
   ]
  },
  {
   "cell_type": "code",
   "execution_count": 12,
   "id": "661ed6dc-6b72-411c-bd18-5a4184abb105",
   "metadata": {
    "tags": []
   },
   "outputs": [],
   "source": [
    "creditdefault.createOrReplaceTempView(\"credit_tmp_view\")"
   ]
  },
  {
   "cell_type": "code",
   "execution_count": 13,
   "id": "b4fd5a2e-02e0-4a1b-8922-f3821ff9aa2e",
   "metadata": {
    "tags": []
   },
   "outputs": [
    {
     "name": "stdout",
     "output_type": "stream",
     "text": [
      "+---+---------+---+---------+--------+---+-----+-----+-----+-----+-----+-----+---------+---------+---------+---------+---------+---------+--------+--------+--------+--------+--------+--------+--------------------------+\n",
      "| ID|LIMIT_BAL|SEX|EDUCATION|MARRIAGE|AGE|PAY_0|PAY_2|PAY_3|PAY_4|PAY_5|PAY_6|BILL_AMT1|BILL_AMT2|BILL_AMT3|BILL_AMT4|BILL_AMT5|BILL_AMT6|PAY_AMT1|PAY_AMT2|PAY_AMT3|PAY_AMT4|PAY_AMT5|PAY_AMT6|default payment next month|\n",
      "+---+---------+---+---------+--------+---+-----+-----+-----+-----+-----+-----+---------+---------+---------+---------+---------+---------+--------+--------+--------+--------+--------+--------+--------------------------+\n",
      "|  1|    20000|  2|        2|       1| 24|    2|    2|   -1|   -1|   -2|   -2|     3913|     3102|      689|        0|        0|        0|       0|     689|       0|       0|       0|       0|                         1|\n",
      "|  2|   120000|  2|        2|       2| 26|   -1|    2|    0|    0|    0|    2|     2682|     1725|     2682|     3272|     3455|     3261|       0|    1000|    1000|    1000|       0|    2000|                         1|\n",
      "|  3|    90000|  2|        2|       2| 34|    0|    0|    0|    0|    0|    0|    29239|    14027|    13559|    14331|    14948|    15549|    1518|    1500|    1000|    1000|    1000|    5000|                         0|\n",
      "|  4|    50000|  2|        2|       1| 37|    0|    0|    0|    0|    0|    0|    46990|    48233|    49291|    28314|    28959|    29547|    2000|    2019|    1200|    1100|    1069|    1000|                         0|\n",
      "|  5|    50000|  1|        2|       1| 57|   -1|    0|   -1|    0|    0|    0|     8617|     5670|    35835|    20940|    19146|    19131|    2000|   36681|   10000|    9000|     689|     679|                         0|\n",
      "+---+---------+---+---------+--------+---+-----+-----+-----+-----+-----+-----+---------+---------+---------+---------+---------+---------+--------+--------+--------+--------+--------+--------+--------------------------+\n",
      "only showing top 5 rows\n",
      "\n"
     ]
    }
   ],
   "source": [
    "# Get 5 rows using temp view created.\n",
    "q1=spark.sql(\"SELECT * FROM credit_tmp_view;\")\n",
    "q1.show(5)"
   ]
  },
  {
   "cell_type": "code",
   "execution_count": 14,
   "id": "2ba3b5d5-d03e-42cc-afbf-871ce5e26d0b",
   "metadata": {
    "tags": []
   },
   "outputs": [
    {
     "name": "stdout",
     "output_type": "stream",
     "text": [
      "+---------+---------------+-----------+\n",
      "|namespace|      tableName|isTemporary|\n",
      "+---------+---------------+-----------+\n",
      "|  default|   fake_friends|      false|\n",
      "|  default|   movieratings|      false|\n",
      "|  default|         movies|      false|\n",
      "|         |credit_tmp_view|       true|\n",
      "+---------+---------------+-----------+\n",
      "\n"
     ]
    }
   ],
   "source": [
    "# list the tables present in the warehouse\n",
    "tables=spark.sql(\"show tables\").show()"
   ]
  },
  {
   "cell_type": "code",
   "execution_count": 15,
   "id": "6ab51d02-6c1f-4985-afdb-4cce3f220aaf",
   "metadata": {
    "tags": []
   },
   "outputs": [
    {
     "data": {
      "text/plain": [
       "pyspark.sql.dataframe.DataFrame"
      ]
     },
     "execution_count": 15,
     "metadata": {},
     "output_type": "execute_result"
    }
   ],
   "source": [
    "type(creditdefault)"
   ]
  },
  {
   "cell_type": "code",
   "execution_count": 16,
   "id": "f8ae864d-b4de-4bfc-a69c-5848d449a2b3",
   "metadata": {
    "tags": []
   },
   "outputs": [
    {
     "data": {
      "text/plain": [
       "DataFrame[]"
      ]
     },
     "execution_count": 16,
     "metadata": {},
     "output_type": "execute_result"
    }
   ],
   "source": [
    "# add the credit data to the database in warehouse, after creating a new database named \"BD_Project_DB\"\n",
    "\n",
    "spark.sql(\"CREATE DATABASE IF NOT EXISTS bd_project_db;\")"
   ]
  },
  {
   "cell_type": "raw",
   "id": "ab116553-2f11-45dd-9757-cbf18f740975",
   "metadata": {},
   "source": [
    "Adding the credit default data into the warehouse"
   ]
  },
  {
   "cell_type": "code",
   "execution_count": 17,
   "id": "aef1bfd3-c7de-47fe-907d-ba51918b15bc",
   "metadata": {
    "tags": []
   },
   "outputs": [
    {
     "name": "stderr",
     "output_type": "stream",
     "text": [
      "                                                                                \r"
     ]
    }
   ],
   "source": [
    "creditdefault.write.mode(\"overwrite\").saveAsTable(\"bd_project_db.creditdefault\")"
   ]
  },
  {
   "cell_type": "markdown",
   "id": "71445707-bd1b-486c-88bf-3a525d0f59c5",
   "metadata": {},
   "source": [
    "### Perform SQL Operation to list and get the first 5 rows from the warehouse"
   ]
  },
  {
   "cell_type": "code",
   "execution_count": 18,
   "id": "e8eb298e-253f-4490-83cb-0b4ca8424a83",
   "metadata": {
    "tags": []
   },
   "outputs": [
    {
     "data": {
      "text/plain": [
       "[Table(name='creditdefault', catalog='spark_catalog', namespace=['bd_project_db'], description=None, tableType='MANAGED', isTemporary=False),\n",
       " Table(name='credit_tmp_view', catalog=None, namespace=[], description=None, tableType='TEMPORARY', isTemporary=True)]"
      ]
     },
     "execution_count": 18,
     "metadata": {},
     "output_type": "execute_result"
    }
   ],
   "source": [
    "spark.catalog.listTables(\"bd_project_db\")"
   ]
  },
  {
   "cell_type": "code",
   "execution_count": 19,
   "id": "767a7e05-a3ed-431d-b36d-af77dda8f70c",
   "metadata": {
    "tags": []
   },
   "outputs": [
    {
     "name": "stdout",
     "output_type": "stream",
     "text": [
      "+---+---------+---+---------+--------+---+-----+-----+-----+-----+-----+-----+---------+---------+---------+---------+---------+---------+--------+--------+--------+--------+--------+--------+--------------------------+\n",
      "| ID|LIMIT_BAL|SEX|EDUCATION|MARRIAGE|AGE|PAY_0|PAY_2|PAY_3|PAY_4|PAY_5|PAY_6|BILL_AMT1|BILL_AMT2|BILL_AMT3|BILL_AMT4|BILL_AMT5|BILL_AMT6|PAY_AMT1|PAY_AMT2|PAY_AMT3|PAY_AMT4|PAY_AMT5|PAY_AMT6|default payment next month|\n",
      "+---+---------+---+---------+--------+---+-----+-----+-----+-----+-----+-----+---------+---------+---------+---------+---------+---------+--------+--------+--------+--------+--------+--------+--------------------------+\n",
      "|  1|    20000|  2|        2|       1| 24|    2|    2|   -1|   -1|   -2|   -2|     3913|     3102|      689|        0|        0|        0|       0|     689|       0|       0|       0|       0|                         1|\n",
      "|  2|   120000|  2|        2|       2| 26|   -1|    2|    0|    0|    0|    2|     2682|     1725|     2682|     3272|     3455|     3261|       0|    1000|    1000|    1000|       0|    2000|                         1|\n",
      "|  3|    90000|  2|        2|       2| 34|    0|    0|    0|    0|    0|    0|    29239|    14027|    13559|    14331|    14948|    15549|    1518|    1500|    1000|    1000|    1000|    5000|                         0|\n",
      "|  4|    50000|  2|        2|       1| 37|    0|    0|    0|    0|    0|    0|    46990|    48233|    49291|    28314|    28959|    29547|    2000|    2019|    1200|    1100|    1069|    1000|                         0|\n",
      "|  5|    50000|  1|        2|       1| 57|   -1|    0|   -1|    0|    0|    0|     8617|     5670|    35835|    20940|    19146|    19131|    2000|   36681|   10000|    9000|     689|     679|                         0|\n",
      "+---+---------+---+---------+--------+---+-----+-----+-----+-----+-----+-----+---------+---------+---------+---------+---------+---------+--------+--------+--------+--------+--------+--------+--------------------------+\n",
      "only showing top 5 rows\n",
      "\n"
     ]
    }
   ],
   "source": [
    "q2=spark.sql(\"SELECT * FROM bd_project_db.creditdefault;\").show(5)"
   ]
  },
  {
   "cell_type": "markdown",
   "id": "5f5f21f4-3ad3-4a79-991b-a7c57f273c58",
   "metadata": {},
   "source": [
    "### Data Cleaning"
   ]
  },
  {
   "cell_type": "code",
   "execution_count": 20,
   "id": "c534c7af-26dd-410a-ad39-78d3332f3aa6",
   "metadata": {
    "tags": []
   },
   "outputs": [
    {
     "name": "stdout",
     "output_type": "stream",
     "text": [
      "root\n",
      " |-- ID: integer (nullable = true)\n",
      " |-- LIMIT_BAL: integer (nullable = true)\n",
      " |-- SEX: integer (nullable = true)\n",
      " |-- EDUCATION: integer (nullable = true)\n",
      " |-- MARRIAGE: integer (nullable = true)\n",
      " |-- AGE: integer (nullable = true)\n",
      " |-- PAY_0: integer (nullable = true)\n",
      " |-- PAY_2: integer (nullable = true)\n",
      " |-- PAY_3: integer (nullable = true)\n",
      " |-- PAY_4: integer (nullable = true)\n",
      " |-- PAY_5: integer (nullable = true)\n",
      " |-- PAY_6: integer (nullable = true)\n",
      " |-- BILL_AMT1: integer (nullable = true)\n",
      " |-- BILL_AMT2: integer (nullable = true)\n",
      " |-- BILL_AMT3: integer (nullable = true)\n",
      " |-- BILL_AMT4: integer (nullable = true)\n",
      " |-- BILL_AMT5: integer (nullable = true)\n",
      " |-- BILL_AMT6: integer (nullable = true)\n",
      " |-- PAY_AMT1: integer (nullable = true)\n",
      " |-- PAY_AMT2: integer (nullable = true)\n",
      " |-- PAY_AMT3: integer (nullable = true)\n",
      " |-- PAY_AMT4: integer (nullable = true)\n",
      " |-- PAY_AMT5: integer (nullable = true)\n",
      " |-- PAY_AMT6: integer (nullable = true)\n",
      " |-- default payment next month: integer (nullable = true)\n",
      "\n"
     ]
    }
   ],
   "source": [
    "creditdefault.printSchema()"
   ]
  },
  {
   "cell_type": "code",
   "execution_count": 21,
   "id": "f04df765-6ab6-4fb9-b8d1-7eeed77a16ce",
   "metadata": {
    "tags": []
   },
   "outputs": [],
   "source": [
    "df=creditdefault"
   ]
  },
  {
   "cell_type": "code",
   "execution_count": 22,
   "id": "54bec1a3-7151-4839-9f85-bed45fa1822d",
   "metadata": {
    "tags": []
   },
   "outputs": [],
   "source": [
    "from pyspark.sql.functions import when\n",
    "\n",
    "# Gender (SEX) mapping\n",
    "gender_mapping = {1: \"male\", 2: \"female\"}\n",
    "df = df.withColumn(\"SEX\", when(df[\"SEX\"] == 1, \"male\").otherwise(\"female\"))\n",
    "\n",
    "# Education (EDUCATION) mapping\n",
    "education_mapping = {\n",
    "    1: \"graduate school\",\n",
    "    2: \"university\",\n",
    "    3: \"high school\",\n",
    "    4: \"others\",\n",
    "    5: \"unknown\",\n",
    "    6: \"unknown\"\n",
    "}\n",
    "df = df.withColumn(\"EDUCATION\", when(df[\"EDUCATION\"] == 1, \"graduate school\").when(df[\"EDUCATION\"] == 2, \"university\").when(df[\"EDUCATION\"] == 3, \"high school\").when(df[\"EDUCATION\"] == 4, \"others\").when(df[\"EDUCATION\"] == 5, \"unknown\").when(df[\"EDUCATION\"] == 6, \"unknown\").otherwise(\"unknown\"))\n",
    "\n",
    "# Marriage (MARRIAGE) mapping\n",
    "marriage_mapping = {1: \"married\", 2: \"single\", 3: \"others\"}\n",
    "df = df.withColumn(\"MARRIAGE\", when(df[\"MARRIAGE\"] == 1, \"married\").when(df[\"MARRIAGE\"] == 2, \"single\").otherwise(\"others\"))"
   ]
  },
  {
   "cell_type": "code",
   "execution_count": 23,
   "id": "7fb2b3ff-ac3a-4801-b309-2ffbaefe586a",
   "metadata": {
    "tags": []
   },
   "outputs": [
    {
     "data": {
      "text/html": [
       "<div>\n",
       "<style scoped>\n",
       "    .dataframe tbody tr th:only-of-type {\n",
       "        vertical-align: middle;\n",
       "    }\n",
       "\n",
       "    .dataframe tbody tr th {\n",
       "        vertical-align: top;\n",
       "    }\n",
       "\n",
       "    .dataframe thead th {\n",
       "        text-align: right;\n",
       "    }\n",
       "</style>\n",
       "<table border=\"1\" class=\"dataframe\">\n",
       "  <thead>\n",
       "    <tr style=\"text-align: right;\">\n",
       "      <th></th>\n",
       "      <th>ID</th>\n",
       "      <th>LIMIT_BAL</th>\n",
       "      <th>SEX</th>\n",
       "      <th>EDUCATION</th>\n",
       "      <th>MARRIAGE</th>\n",
       "      <th>AGE</th>\n",
       "      <th>PAY_0</th>\n",
       "      <th>PAY_2</th>\n",
       "      <th>PAY_3</th>\n",
       "      <th>PAY_4</th>\n",
       "      <th>...</th>\n",
       "      <th>BILL_AMT4</th>\n",
       "      <th>BILL_AMT5</th>\n",
       "      <th>BILL_AMT6</th>\n",
       "      <th>PAY_AMT1</th>\n",
       "      <th>PAY_AMT2</th>\n",
       "      <th>PAY_AMT3</th>\n",
       "      <th>PAY_AMT4</th>\n",
       "      <th>PAY_AMT5</th>\n",
       "      <th>PAY_AMT6</th>\n",
       "      <th>default payment next month</th>\n",
       "    </tr>\n",
       "  </thead>\n",
       "  <tbody>\n",
       "    <tr>\n",
       "      <th>0</th>\n",
       "      <td>1</td>\n",
       "      <td>20000</td>\n",
       "      <td>female</td>\n",
       "      <td>university</td>\n",
       "      <td>married</td>\n",
       "      <td>24</td>\n",
       "      <td>2</td>\n",
       "      <td>2</td>\n",
       "      <td>-1</td>\n",
       "      <td>-1</td>\n",
       "      <td>...</td>\n",
       "      <td>0</td>\n",
       "      <td>0</td>\n",
       "      <td>0</td>\n",
       "      <td>0</td>\n",
       "      <td>689</td>\n",
       "      <td>0</td>\n",
       "      <td>0</td>\n",
       "      <td>0</td>\n",
       "      <td>0</td>\n",
       "      <td>1</td>\n",
       "    </tr>\n",
       "    <tr>\n",
       "      <th>1</th>\n",
       "      <td>2</td>\n",
       "      <td>120000</td>\n",
       "      <td>female</td>\n",
       "      <td>university</td>\n",
       "      <td>single</td>\n",
       "      <td>26</td>\n",
       "      <td>-1</td>\n",
       "      <td>2</td>\n",
       "      <td>0</td>\n",
       "      <td>0</td>\n",
       "      <td>...</td>\n",
       "      <td>3272</td>\n",
       "      <td>3455</td>\n",
       "      <td>3261</td>\n",
       "      <td>0</td>\n",
       "      <td>1000</td>\n",
       "      <td>1000</td>\n",
       "      <td>1000</td>\n",
       "      <td>0</td>\n",
       "      <td>2000</td>\n",
       "      <td>1</td>\n",
       "    </tr>\n",
       "    <tr>\n",
       "      <th>2</th>\n",
       "      <td>3</td>\n",
       "      <td>90000</td>\n",
       "      <td>female</td>\n",
       "      <td>university</td>\n",
       "      <td>single</td>\n",
       "      <td>34</td>\n",
       "      <td>0</td>\n",
       "      <td>0</td>\n",
       "      <td>0</td>\n",
       "      <td>0</td>\n",
       "      <td>...</td>\n",
       "      <td>14331</td>\n",
       "      <td>14948</td>\n",
       "      <td>15549</td>\n",
       "      <td>1518</td>\n",
       "      <td>1500</td>\n",
       "      <td>1000</td>\n",
       "      <td>1000</td>\n",
       "      <td>1000</td>\n",
       "      <td>5000</td>\n",
       "      <td>0</td>\n",
       "    </tr>\n",
       "    <tr>\n",
       "      <th>3</th>\n",
       "      <td>4</td>\n",
       "      <td>50000</td>\n",
       "      <td>female</td>\n",
       "      <td>university</td>\n",
       "      <td>married</td>\n",
       "      <td>37</td>\n",
       "      <td>0</td>\n",
       "      <td>0</td>\n",
       "      <td>0</td>\n",
       "      <td>0</td>\n",
       "      <td>...</td>\n",
       "      <td>28314</td>\n",
       "      <td>28959</td>\n",
       "      <td>29547</td>\n",
       "      <td>2000</td>\n",
       "      <td>2019</td>\n",
       "      <td>1200</td>\n",
       "      <td>1100</td>\n",
       "      <td>1069</td>\n",
       "      <td>1000</td>\n",
       "      <td>0</td>\n",
       "    </tr>\n",
       "    <tr>\n",
       "      <th>4</th>\n",
       "      <td>5</td>\n",
       "      <td>50000</td>\n",
       "      <td>male</td>\n",
       "      <td>university</td>\n",
       "      <td>married</td>\n",
       "      <td>57</td>\n",
       "      <td>-1</td>\n",
       "      <td>0</td>\n",
       "      <td>-1</td>\n",
       "      <td>0</td>\n",
       "      <td>...</td>\n",
       "      <td>20940</td>\n",
       "      <td>19146</td>\n",
       "      <td>19131</td>\n",
       "      <td>2000</td>\n",
       "      <td>36681</td>\n",
       "      <td>10000</td>\n",
       "      <td>9000</td>\n",
       "      <td>689</td>\n",
       "      <td>679</td>\n",
       "      <td>0</td>\n",
       "    </tr>\n",
       "  </tbody>\n",
       "</table>\n",
       "<p>5 rows × 25 columns</p>\n",
       "</div>"
      ],
      "text/plain": [
       "   ID  LIMIT_BAL     SEX   EDUCATION MARRIAGE  AGE  PAY_0  PAY_2  PAY_3  \\\n",
       "0   1      20000  female  university  married   24      2      2     -1   \n",
       "1   2     120000  female  university   single   26     -1      2      0   \n",
       "2   3      90000  female  university   single   34      0      0      0   \n",
       "3   4      50000  female  university  married   37      0      0      0   \n",
       "4   5      50000    male  university  married   57     -1      0     -1   \n",
       "\n",
       "   PAY_4  ...  BILL_AMT4  BILL_AMT5  BILL_AMT6  PAY_AMT1  PAY_AMT2  PAY_AMT3  \\\n",
       "0     -1  ...          0          0          0         0       689         0   \n",
       "1      0  ...       3272       3455       3261         0      1000      1000   \n",
       "2      0  ...      14331      14948      15549      1518      1500      1000   \n",
       "3      0  ...      28314      28959      29547      2000      2019      1200   \n",
       "4      0  ...      20940      19146      19131      2000     36681     10000   \n",
       "\n",
       "   PAY_AMT4  PAY_AMT5  PAY_AMT6  default payment next month  \n",
       "0         0         0         0                           1  \n",
       "1      1000         0      2000                           1  \n",
       "2      1000      1000      5000                           0  \n",
       "3      1100      1069      1000                           0  \n",
       "4      9000       689       679                           0  \n",
       "\n",
       "[5 rows x 25 columns]"
      ]
     },
     "execution_count": 23,
     "metadata": {},
     "output_type": "execute_result"
    }
   ],
   "source": [
    "df.toPandas().head()"
   ]
  },
  {
   "cell_type": "code",
   "execution_count": 24,
   "id": "4945fc4d-3975-4117-95db-5f5c317e51e1",
   "metadata": {
    "tags": []
   },
   "outputs": [
    {
     "data": {
      "text/html": [
       "<div>\n",
       "<style scoped>\n",
       "    .dataframe tbody tr th:only-of-type {\n",
       "        vertical-align: middle;\n",
       "    }\n",
       "\n",
       "    .dataframe tbody tr th {\n",
       "        vertical-align: top;\n",
       "    }\n",
       "\n",
       "    .dataframe thead th {\n",
       "        text-align: right;\n",
       "    }\n",
       "</style>\n",
       "<table border=\"1\" class=\"dataframe\">\n",
       "  <thead>\n",
       "    <tr style=\"text-align: right;\">\n",
       "      <th></th>\n",
       "      <th>ID</th>\n",
       "      <th>LIMIT_BAL</th>\n",
       "      <th>SEX</th>\n",
       "      <th>EDUCATION</th>\n",
       "      <th>MARRIAGE</th>\n",
       "      <th>AGE</th>\n",
       "      <th>PAY_1</th>\n",
       "      <th>PAY_2</th>\n",
       "      <th>PAY_3</th>\n",
       "      <th>PAY_4</th>\n",
       "      <th>...</th>\n",
       "      <th>BILL_AMT4</th>\n",
       "      <th>BILL_AMT5</th>\n",
       "      <th>BILL_AMT6</th>\n",
       "      <th>PAY_AMT1</th>\n",
       "      <th>PAY_AMT2</th>\n",
       "      <th>PAY_AMT3</th>\n",
       "      <th>PAY_AMT4</th>\n",
       "      <th>PAY_AMT5</th>\n",
       "      <th>PAY_AMT6</th>\n",
       "      <th>def_pay</th>\n",
       "    </tr>\n",
       "  </thead>\n",
       "  <tbody>\n",
       "    <tr>\n",
       "      <th>0</th>\n",
       "      <td>1</td>\n",
       "      <td>20000</td>\n",
       "      <td>female</td>\n",
       "      <td>university</td>\n",
       "      <td>married</td>\n",
       "      <td>24</td>\n",
       "      <td>2</td>\n",
       "      <td>2</td>\n",
       "      <td>-1</td>\n",
       "      <td>-1</td>\n",
       "      <td>...</td>\n",
       "      <td>0</td>\n",
       "      <td>0</td>\n",
       "      <td>0</td>\n",
       "      <td>0</td>\n",
       "      <td>689</td>\n",
       "      <td>0</td>\n",
       "      <td>0</td>\n",
       "      <td>0</td>\n",
       "      <td>0</td>\n",
       "      <td>1</td>\n",
       "    </tr>\n",
       "    <tr>\n",
       "      <th>1</th>\n",
       "      <td>2</td>\n",
       "      <td>120000</td>\n",
       "      <td>female</td>\n",
       "      <td>university</td>\n",
       "      <td>single</td>\n",
       "      <td>26</td>\n",
       "      <td>-1</td>\n",
       "      <td>2</td>\n",
       "      <td>0</td>\n",
       "      <td>0</td>\n",
       "      <td>...</td>\n",
       "      <td>3272</td>\n",
       "      <td>3455</td>\n",
       "      <td>3261</td>\n",
       "      <td>0</td>\n",
       "      <td>1000</td>\n",
       "      <td>1000</td>\n",
       "      <td>1000</td>\n",
       "      <td>0</td>\n",
       "      <td>2000</td>\n",
       "      <td>1</td>\n",
       "    </tr>\n",
       "    <tr>\n",
       "      <th>2</th>\n",
       "      <td>3</td>\n",
       "      <td>90000</td>\n",
       "      <td>female</td>\n",
       "      <td>university</td>\n",
       "      <td>single</td>\n",
       "      <td>34</td>\n",
       "      <td>0</td>\n",
       "      <td>0</td>\n",
       "      <td>0</td>\n",
       "      <td>0</td>\n",
       "      <td>...</td>\n",
       "      <td>14331</td>\n",
       "      <td>14948</td>\n",
       "      <td>15549</td>\n",
       "      <td>1518</td>\n",
       "      <td>1500</td>\n",
       "      <td>1000</td>\n",
       "      <td>1000</td>\n",
       "      <td>1000</td>\n",
       "      <td>5000</td>\n",
       "      <td>0</td>\n",
       "    </tr>\n",
       "    <tr>\n",
       "      <th>3</th>\n",
       "      <td>4</td>\n",
       "      <td>50000</td>\n",
       "      <td>female</td>\n",
       "      <td>university</td>\n",
       "      <td>married</td>\n",
       "      <td>37</td>\n",
       "      <td>0</td>\n",
       "      <td>0</td>\n",
       "      <td>0</td>\n",
       "      <td>0</td>\n",
       "      <td>...</td>\n",
       "      <td>28314</td>\n",
       "      <td>28959</td>\n",
       "      <td>29547</td>\n",
       "      <td>2000</td>\n",
       "      <td>2019</td>\n",
       "      <td>1200</td>\n",
       "      <td>1100</td>\n",
       "      <td>1069</td>\n",
       "      <td>1000</td>\n",
       "      <td>0</td>\n",
       "    </tr>\n",
       "    <tr>\n",
       "      <th>4</th>\n",
       "      <td>5</td>\n",
       "      <td>50000</td>\n",
       "      <td>male</td>\n",
       "      <td>university</td>\n",
       "      <td>married</td>\n",
       "      <td>57</td>\n",
       "      <td>-1</td>\n",
       "      <td>0</td>\n",
       "      <td>-1</td>\n",
       "      <td>0</td>\n",
       "      <td>...</td>\n",
       "      <td>20940</td>\n",
       "      <td>19146</td>\n",
       "      <td>19131</td>\n",
       "      <td>2000</td>\n",
       "      <td>36681</td>\n",
       "      <td>10000</td>\n",
       "      <td>9000</td>\n",
       "      <td>689</td>\n",
       "      <td>679</td>\n",
       "      <td>0</td>\n",
       "    </tr>\n",
       "  </tbody>\n",
       "</table>\n",
       "<p>5 rows × 25 columns</p>\n",
       "</div>"
      ],
      "text/plain": [
       "   ID  LIMIT_BAL     SEX   EDUCATION MARRIAGE  AGE  PAY_1  PAY_2  PAY_3  \\\n",
       "0   1      20000  female  university  married   24      2      2     -1   \n",
       "1   2     120000  female  university   single   26     -1      2      0   \n",
       "2   3      90000  female  university   single   34      0      0      0   \n",
       "3   4      50000  female  university  married   37      0      0      0   \n",
       "4   5      50000    male  university  married   57     -1      0     -1   \n",
       "\n",
       "   PAY_4  ...  BILL_AMT4  BILL_AMT5  BILL_AMT6  PAY_AMT1  PAY_AMT2  PAY_AMT3  \\\n",
       "0     -1  ...          0          0          0         0       689         0   \n",
       "1      0  ...       3272       3455       3261         0      1000      1000   \n",
       "2      0  ...      14331      14948      15549      1518      1500      1000   \n",
       "3      0  ...      28314      28959      29547      2000      2019      1200   \n",
       "4      0  ...      20940      19146      19131      2000     36681     10000   \n",
       "\n",
       "   PAY_AMT4  PAY_AMT5  PAY_AMT6  def_pay  \n",
       "0         0         0         0        1  \n",
       "1      1000         0      2000        1  \n",
       "2      1000      1000      5000        0  \n",
       "3      1100      1069      1000        0  \n",
       "4      9000       689       679        0  \n",
       "\n",
       "[5 rows x 25 columns]"
      ]
     },
     "execution_count": 24,
     "metadata": {},
     "output_type": "execute_result"
    }
   ],
   "source": [
    "# Rename columns PAY_0 to PAY_1 and default payment next month to def_pay\n",
    "# We can also use 'df.selectExpr' \n",
    "\n",
    "df = df.withColumnRenamed('PAY_0', 'PAY_1').withColumnRenamed('default payment next month', 'def_pay')\n",
    "df.toPandas().head()"
   ]
  },
  {
   "cell_type": "code",
   "execution_count": 25,
   "id": "8b286892-697a-4be6-8bc1-9f1043a0efdc",
   "metadata": {
    "tags": []
   },
   "outputs": [
    {
     "data": {
      "text/plain": [
       "pyspark.sql.dataframe.DataFrame"
      ]
     },
     "execution_count": 25,
     "metadata": {},
     "output_type": "execute_result"
    }
   ],
   "source": [
    "type(df)"
   ]
  },
  {
   "cell_type": "raw",
   "id": "7b0673e9-99f9-4325-8d40-74363a395f7b",
   "metadata": {},
   "source": [
    "Checking Null Values"
   ]
  },
  {
   "cell_type": "code",
   "execution_count": 26,
   "id": "969aa571-f781-4cd3-9126-b6e565974616",
   "metadata": {
    "tags": []
   },
   "outputs": [
    {
     "name": "stderr",
     "output_type": "stream",
     "text": [
      "[Stage 17:>                                                         (0 + 1) / 1]\r"
     ]
    },
    {
     "name": "stdout",
     "output_type": "stream",
     "text": [
      "+---+---------+---+---------+--------+---+-----+-----+-----+-----+-----+-----+---------+---------+---------+---------+---------+---------+--------+--------+--------+--------+--------+--------+-------+\n",
      "| ID|LIMIT_BAL|SEX|EDUCATION|MARRIAGE|AGE|PAY_1|PAY_2|PAY_3|PAY_4|PAY_5|PAY_6|BILL_AMT1|BILL_AMT2|BILL_AMT3|BILL_AMT4|BILL_AMT5|BILL_AMT6|PAY_AMT1|PAY_AMT2|PAY_AMT3|PAY_AMT4|PAY_AMT5|PAY_AMT6|def_pay|\n",
      "+---+---------+---+---------+--------+---+-----+-----+-----+-----+-----+-----+---------+---------+---------+---------+---------+---------+--------+--------+--------+--------+--------+--------+-------+\n",
      "|  0|        0|  0|        0|       0|  0|    0|    0|    0|    0|    0|    0|        0|        0|        0|        0|        0|        0|       0|       0|       0|       0|       0|       0|      0|\n",
      "+---+---------+---+---------+--------+---+-----+-----+-----+-----+-----+-----+---------+---------+---------+---------+---------+---------+--------+--------+--------+--------+--------+--------+-------+\n",
      "\n"
     ]
    },
    {
     "name": "stderr",
     "output_type": "stream",
     "text": [
      "                                                                                \r"
     ]
    }
   ],
   "source": [
    "from pyspark.sql.functions import col,isnan, when, count\n",
    "\n",
    "# Check for null values in each column\n",
    "null_counts = df.select([count(when(isnan(c), c)).alias(c) for c in df.columns])\n",
    "\n",
    "# Show the counts of null values in each column\n",
    "null_counts.show()"
   ]
  },
  {
   "cell_type": "markdown",
   "id": "523fd6f5-3e16-4627-86d2-ecfd341f0e26",
   "metadata": {},
   "source": [
    "### Data Exploration"
   ]
  },
  {
   "cell_type": "code",
   "execution_count": 27,
   "id": "ca411eb2-5546-4c44-8e9a-a4d927496eb6",
   "metadata": {
    "tags": []
   },
   "outputs": [
    {
     "name": "stdout",
     "output_type": "stream",
     "text": [
      "+------+-----+\n",
      "|   SEX|count|\n",
      "+------+-----+\n",
      "|female|18112|\n",
      "|  male|11888|\n",
      "+------+-----+\n",
      "\n",
      "+--------+-----+\n",
      "|MARRIAGE|count|\n",
      "+--------+-----+\n",
      "|  others|  377|\n",
      "| married|13659|\n",
      "|  single|15964|\n",
      "+--------+-----+\n",
      "\n",
      "+---------------+-----+\n",
      "|      EDUCATION|count|\n",
      "+---------------+-----+\n",
      "|     university|14030|\n",
      "|        unknown|  345|\n",
      "|         others|  123|\n",
      "|graduate school|10585|\n",
      "|    high school| 4917|\n",
      "+---------------+-----+\n",
      "\n"
     ]
    }
   ],
   "source": [
    "# For the 'SEX' column\n",
    "sex_counts = df.groupBy(\"SEX\").count()\n",
    "sex_counts.show()\n",
    "\n",
    "# For the 'MARRIAGE' column\n",
    "marriage_counts = df.groupBy(\"MARRIAGE\").count()\n",
    "marriage_counts.show()\n",
    "\n",
    "# For the 'EDUCATION' column\n",
    "education_counts = df.groupBy(\"EDUCATION\").count()\n",
    "education_counts.show()"
   ]
  },
  {
   "cell_type": "code",
   "execution_count": 28,
   "id": "7be7ffeb-8950-40a9-a7b8-9c51af2bf15d",
   "metadata": {
    "tags": []
   },
   "outputs": [
    {
     "data": {
      "image/png": "[encoded data removed]",
      "text/plain": [
       "<Figure size 640x480 with 1 Axes>"
      ]
     },
     "metadata": {},
     "output_type": "display_data"
    }
   ],
   "source": [
    "import matplotlib.pyplot as plt\n",
    "import pandas as pd\n",
    "\n",
    "# Count the occurrences of unique values in the 'MARRIAGE' column\n",
    "marriage_counts = df.groupBy(\"MARRIAGE\").count().orderBy(\"MARRIAGE\")\n",
    "\n",
    "# Convert the result to a Pandas DataFrame for plotting\n",
    "marriage_counts_df = marriage_counts.toPandas()\n",
    "\n",
    "# Define a custom color palette for the bars\n",
    "colors = ['#FF5733', '#33FF57', '#3366FF']\n",
    "\n",
    "# Create a bar plot with custom colors\n",
    "marriage_counts_df.plot(kind='bar', x='MARRIAGE', y='count', color=colors)\n",
    "plt.xlabel('MARRIAGE')\n",
    "plt.ylabel('Count')\n",
    "plt.title('MARRIAGE Value Counts')\n",
    "plt.show()"
   ]
  },
  {
   "cell_type": "code",
   "execution_count": 29,
   "id": "3cfd7f25-169f-4ab7-bae2-4c6996650bcf",
   "metadata": {},
   "outputs": [
    {
     "data": {
      "image/png": "[encoded data removed]",
      "text/plain": [
       "<Figure size 800x800 with 1 Axes>"
      ]
     },
     "metadata": {},
     "output_type": "display_data"
    }
   ],
   "source": [
    "education_counts = df.groupBy('EDUCATION').count().orderBy('EDUCATION')\n",
    "\n",
    "# Convert the result to a Pandas DataFrame for plotting\n",
    "education_counts_df = education_counts.toPandas()\n",
    "\n",
    "education_colors = ['#FF5733', '#33FF57', '#3366FF', '#FFFF33', '#FF33FF', '#33FFFF']\n",
    "\n",
    "# Create a pie chart for 'EDUCATION' with custom colors\n",
    "plt.figure(figsize=(8, 8))\n",
    "plt.pie(education_counts_df['count'], labels=education_counts_df['EDUCATION'], autopct='%1.1f%%', colors=education_colors)\n",
    "plt.title('EDUCATION Value Counts')\n",
    "plt.show()"
   ]
  },
  {
   "cell_type": "code",
   "execution_count": 30,
   "id": "48f2d398-b572-496b-a664-783807026f0a",
   "metadata": {
    "tags": []
   },
   "outputs": [
    {
     "data": {
      "image/png": "[encoded data removed]",
      "text/plain": [
       "<Figure size 640x480 with 1 Axes>"
      ]
     },
     "metadata": {},
     "output_type": "display_data"
    }
   ],
   "source": [
    "# Count the occurrences of unique values in the 'SEX' column\n",
    "sex_counts = df.groupBy(\"SEX\").count().orderBy(\"SEX\")\n",
    "\n",
    "# Convert the result to a Pandas DataFrame for plotting\n",
    "sex_counts_df = sex_counts.toPandas()\n",
    "\n",
    "# Define custom colors for the horizontal bar plot\n",
    "colors = ['#FF5733', '#33FF57']\n",
    "\n",
    "# Create a horizontal bar plot for 'SEX' with custom colors\n",
    "plt.barh(sex_counts_df['SEX'], sex_counts_df['count'], color=colors)\n",
    "plt.ylabel('SEX')\n",
    "plt.xlabel('Count')\n",
    "plt.title('SEX Value Counts (Horizontal Bar Plot)')\n",
    "plt.show()"
   ]
  },
  {
   "cell_type": "markdown",
   "id": "2301df47-2030-4cf5-b51b-d401b0e99176",
   "metadata": {},
   "source": [
    "### Outlier Presence and Elimination"
   ]
  },
  {
   "cell_type": "code",
   "execution_count": 31,
   "id": "0f549f8c-e997-48cf-ae72-7ec343415044",
   "metadata": {
    "tags": []
   },
   "outputs": [
    {
     "data": {
      "image/png": "[encoded data removed]",
      "text/plain": [
       "<Figure size 800x600 with 1 Axes>"
      ]
     },
     "metadata": {},
     "output_type": "display_data"
    }
   ],
   "source": [
    "# In this code, we first select the 'AGE' column from your DataFrame and convert it to a Pandas DataFrame. \n",
    "# Then, we use Matplotlib to create a histogram of the 'AGE' values.\n",
    "\n",
    "\n",
    "age_df = df.select(\"AGE\").toPandas()\n",
    "\n",
    "# Create a histogram using Matplotlib\n",
    "plt.figure(figsize=(8, 6))\n",
    "plt.hist(age_df['AGE'], bins=50, color='skyblue', edgecolor='black')\n",
    "plt.xlabel('AGE')\n",
    "plt.ylabel('Frequency')\n",
    "plt.title('Histogram of AGE')\n",
    "plt.show()"
   ]
  },
  {
   "cell_type": "code",
   "execution_count": 32,
   "id": "9615ce40-2653-411f-bec8-857b5c39904e",
   "metadata": {
    "tags": []
   },
   "outputs": [
    {
     "data": {
      "image/png": "[encoded data removed]",
      "text/plain": [
       "<Figure size 800x600 with 1 Axes>"
      ]
     },
     "metadata": {},
     "output_type": "display_data"
    }
   ],
   "source": [
    "# Select the 'LIMIT_BAL' column and convert it to a Pandas DataFrame\n",
    "limit_bal_df = df.select('LIMIT_BAL').toPandas()\n",
    "\n",
    "# Create a histogram using Matplotlib\n",
    "plt.figure(figsize=(8, 6))\n",
    "limit_bal_df['LIMIT_BAL'].plot.hist(bins=20, color='skyblue', edgecolor='black')\n",
    "plt.xlabel('LIMIT_BAL')\n",
    "plt.ylabel('Frequency')\n",
    "plt.title('Histogram of LIMIT_BAL')\n",
    "plt.show()"
   ]
  },
  {
   "cell_type": "code",
   "execution_count": 33,
   "id": "1718e659-eb00-4c89-9a9b-8814fa7d4e2f",
   "metadata": {
    "tags": []
   },
   "outputs": [
    {
     "data": {
      "image/png": "[encoded data removed]",
      "text/plain": [
       "<Figure size 1200x800 with 6 Axes>"
      ]
     },
     "metadata": {},
     "output_type": "display_data"
    }
   ],
   "source": [
    "# Histogram plot for Bills amount\n",
    "\n",
    "def draw_histograms(df, variables, n_rows, n_cols, n_bins, color):\n",
    "    fig = plt.figure(figsize=(12, 8))\n",
    "    for i, var_name in enumerate(variables):\n",
    "        ax = fig.add_subplot(n_rows, n_cols, i + 1)\n",
    "        \n",
    "        # Select the column from the DataFrame and convert it to a Pandas DataFrame\n",
    "        var_df = df.select(var_name).toPandas()\n",
    "        \n",
    "        # Create a histogram for the selected column\n",
    "        var_df[var_name].plot.hist(bins=n_bins, color=color, edgecolor='black', ax=ax)\n",
    "        ax.set_title(var_name)\n",
    "    \n",
    "    fig.tight_layout()\n",
    "    plt.show()\n",
    "\n",
    "# Select the columns you want to create histograms for\n",
    "bills = df.select('BILL_AMT1', 'BILL_AMT2', 'BILL_AMT3', 'BILL_AMT4', 'BILL_AMT5', 'BILL_AMT6')\n",
    "\n",
    "# Specify the number of rows, columns, and bins\n",
    "draw_histograms(bills, bills.columns, 2, 3, 20, 'skyblue')"
   ]
  },
  {
   "cell_type": "code",
   "execution_count": 34,
   "id": "31dbdac7-f1cf-4f9e-ac8e-d40ec5c63b1a",
   "metadata": {
    "tags": []
   },
   "outputs": [
    {
     "data": {
      "image/png": "[encoded data removed]",
      "text/plain": [
       "<Figure size 1200x800 with 6 Axes>"
      ]
     },
     "metadata": {},
     "output_type": "display_data"
    }
   ],
   "source": [
    "# Histogram plot for repayment amount paid by the each user \n",
    "\n",
    "pay_df = df.select('PAY_1', 'PAY_2', 'PAY_3', 'PAY_4', 'PAY_5', 'PAY_6')\n",
    "draw_histograms(pay_df, pay_df.columns, 2, 3, 20, 'purple')"
   ]
  },
  {
   "cell_type": "code",
   "execution_count": 35,
   "id": "b445312b-84e7-4ffb-a80c-9824f115a88e",
   "metadata": {
    "tags": []
   },
   "outputs": [
    {
     "data": {
      "image/png": "[encoded data removed]",
      "text/plain": [
       "<Figure size 1200x800 with 6 Axes>"
      ]
     },
     "metadata": {},
     "output_type": "display_data"
    }
   ],
   "source": [
    "# histogram distribution plot for previous payment\n",
    "\n",
    "pay_amt_df = df.select('BILL_AMT1','BILL_AMT2', 'BILL_AMT3', 'BILL_AMT4', 'BILL_AMT5', 'BILL_AMT6')\n",
    "draw_histograms(pay_amt_df, pay_amt_df.columns, 2, 3, 20, 'orange')"
   ]
  },
  {
   "cell_type": "raw",
   "id": "5e6515d3-df10-4976-b5d4-8c7aa5986965",
   "metadata": {},
   "source": [
    "What I observe is that the quantities to some amount of money have a very large range, which can cause problems to some models (for example in linear regression models)"
   ]
  },
  {
   "cell_type": "code",
   "execution_count": 36,
   "id": "12da5161-67c0-44ca-8627-7c64d98e5468",
   "metadata": {
    "tags": []
   },
   "outputs": [],
   "source": [
    "def calculate_bounds(df):\n",
    "    bounds = {\n",
    "        c: dict(\n",
    "            zip([\"q1\", \"q3\"], df.approxQuantile(c, [0.25, 0.75], 0))\n",
    "        )\n",
    "        for c,d in zip(df.columns, df.dtypes) if d[1] == \"int\"\n",
    "    }\n",
    "\n",
    "    for c in bounds:\n",
    "        iqr = bounds[c]['q3'] - bounds[c]['q1']\n",
    "        bounds[c]['min'] = bounds[c]['q1'] - (iqr * 1.5)\n",
    "        bounds[c]['max'] = bounds[c]['q3'] + (iqr * 1.5)\n",
    "\n",
    "    return bounds\n",
    "\n",
    "\n",
    "bounds=calculate_bounds(df)"
   ]
  },
  {
   "cell_type": "raw",
   "id": "002e0823-ef48-46c0-a7ed-d20663194533",
   "metadata": {},
   "source": [
    "The above dictionary contains the calculated bounds (Q1, Q3, min, and max) for various columns in your DataFrame, which can be used to identify potential outliers based on the Interquartile Range (IQR) method. "
   ]
  },
  {
   "cell_type": "code",
   "execution_count": 37,
   "id": "87536cdd-322e-40e7-9a72-bb96908a015b",
   "metadata": {
    "tags": []
   },
   "outputs": [
    {
     "name": "stdout",
     "output_type": "stream",
     "text": [
      "Bounds for ID: {'q1': 7500.0, 'q3': 22500.0, 'min': -15000.0, 'max': 45000.0}\n",
      "Bounds for LIMIT_BAL: {'q1': 50000.0, 'q3': 240000.0, 'min': -235000.0, 'max': 525000.0}\n",
      "Bounds for AGE: {'q1': 28.0, 'q3': 41.0, 'min': 8.5, 'max': 60.5}\n",
      "Bounds for PAY_1: {'q1': -1.0, 'q3': 0.0, 'min': -2.5, 'max': 1.5}\n",
      "Bounds for PAY_2: {'q1': -1.0, 'q3': 0.0, 'min': -2.5, 'max': 1.5}\n",
      "Bounds for PAY_3: {'q1': -1.0, 'q3': 0.0, 'min': -2.5, 'max': 1.5}\n",
      "Bounds for PAY_4: {'q1': -1.0, 'q3': 0.0, 'min': -2.5, 'max': 1.5}\n",
      "Bounds for PAY_5: {'q1': -1.0, 'q3': 0.0, 'min': -2.5, 'max': 1.5}\n",
      "Bounds for PAY_6: {'q1': -1.0, 'q3': 0.0, 'min': -2.5, 'max': 1.5}\n",
      "Bounds for BILL_AMT1: {'q1': 3558.0, 'q3': 67090.0, 'min': -91740.0, 'max': 162388.0}\n",
      "Bounds for BILL_AMT2: {'q1': 2984.0, 'q3': 64004.0, 'min': -88546.0, 'max': 155534.0}\n",
      "Bounds for BILL_AMT3: {'q1': 2664.0, 'q3': 60164.0, 'min': -83586.0, 'max': 146414.0}\n",
      "Bounds for BILL_AMT4: {'q1': 2326.0, 'q3': 54503.0, 'min': -75939.5, 'max': 132768.5}\n",
      "Bounds for BILL_AMT5: {'q1': 1763.0, 'q3': 50185.0, 'min': -70870.0, 'max': 122818.0}\n",
      "Bounds for BILL_AMT6: {'q1': 1256.0, 'q3': 49196.0, 'min': -70654.0, 'max': 121106.0}\n",
      "Bounds for PAY_AMT1: {'q1': 1000.0, 'q3': 5006.0, 'min': -5009.0, 'max': 11015.0}\n",
      "Bounds for PAY_AMT2: {'q1': 833.0, 'q3': 5000.0, 'min': -5417.5, 'max': 11250.5}\n",
      "Bounds for PAY_AMT3: {'q1': 390.0, 'q3': 4505.0, 'min': -5782.5, 'max': 10677.5}\n",
      "Bounds for PAY_AMT4: {'q1': 296.0, 'q3': 4013.0, 'min': -5279.5, 'max': 9588.5}\n",
      "Bounds for PAY_AMT5: {'q1': 251.0, 'q3': 4031.0, 'min': -5419.0, 'max': 9701.0}\n",
      "Bounds for PAY_AMT6: {'q1': 117.0, 'q3': 4000.0, 'min': -5707.5, 'max': 9824.5}\n",
      "Bounds for def_pay: {'q1': 0.0, 'q3': 0.0, 'min': 0.0, 'max': 0.0}\n"
     ]
    }
   ],
   "source": [
    "# Display the calculated bounds\n",
    "for col, col_bounds in bounds.items():\n",
    "    print(f\"Bounds for {col}: {col_bounds}\")"
   ]
  },
  {
   "cell_type": "markdown",
   "id": "43259a2d-f3cf-481e-a065-88ddfc12a646",
   "metadata": {},
   "source": [
    "### Data Cleaning - 2"
   ]
  },
  {
   "cell_type": "code",
   "execution_count": 38,
   "id": "53feaa22-edcc-4699-86a3-fb5c11c43267",
   "metadata": {
    "tags": []
   },
   "outputs": [
    {
     "data": {
      "text/html": [
       "<div>\n",
       "<style scoped>\n",
       "    .dataframe tbody tr th:only-of-type {\n",
       "        vertical-align: middle;\n",
       "    }\n",
       "\n",
       "    .dataframe tbody tr th {\n",
       "        vertical-align: top;\n",
       "    }\n",
       "\n",
       "    .dataframe thead th {\n",
       "        text-align: right;\n",
       "    }\n",
       "</style>\n",
       "<table border=\"1\" class=\"dataframe\">\n",
       "  <thead>\n",
       "    <tr style=\"text-align: right;\">\n",
       "      <th></th>\n",
       "      <th>ID</th>\n",
       "      <th>LIMIT_BAL</th>\n",
       "      <th>SEX</th>\n",
       "      <th>EDUCATION</th>\n",
       "      <th>MARRIAGE</th>\n",
       "      <th>AGE</th>\n",
       "      <th>PAY_1</th>\n",
       "      <th>PAY_2</th>\n",
       "      <th>PAY_3</th>\n",
       "      <th>PAY_4</th>\n",
       "      <th>...</th>\n",
       "      <th>BILL_AMT4</th>\n",
       "      <th>BILL_AMT5</th>\n",
       "      <th>BILL_AMT6</th>\n",
       "      <th>PAY_AMT1</th>\n",
       "      <th>PAY_AMT2</th>\n",
       "      <th>PAY_AMT3</th>\n",
       "      <th>PAY_AMT4</th>\n",
       "      <th>PAY_AMT5</th>\n",
       "      <th>PAY_AMT6</th>\n",
       "      <th>def_pay</th>\n",
       "    </tr>\n",
       "  </thead>\n",
       "  <tbody>\n",
       "    <tr>\n",
       "      <th>0</th>\n",
       "      <td>1</td>\n",
       "      <td>20000</td>\n",
       "      <td>female</td>\n",
       "      <td>university</td>\n",
       "      <td>married</td>\n",
       "      <td>24</td>\n",
       "      <td>2</td>\n",
       "      <td>2</td>\n",
       "      <td>-1</td>\n",
       "      <td>-1</td>\n",
       "      <td>...</td>\n",
       "      <td>0</td>\n",
       "      <td>0</td>\n",
       "      <td>0</td>\n",
       "      <td>0</td>\n",
       "      <td>689</td>\n",
       "      <td>0</td>\n",
       "      <td>0</td>\n",
       "      <td>0</td>\n",
       "      <td>0</td>\n",
       "      <td>1</td>\n",
       "    </tr>\n",
       "    <tr>\n",
       "      <th>1</th>\n",
       "      <td>2</td>\n",
       "      <td>120000</td>\n",
       "      <td>female</td>\n",
       "      <td>university</td>\n",
       "      <td>single</td>\n",
       "      <td>26</td>\n",
       "      <td>-1</td>\n",
       "      <td>2</td>\n",
       "      <td>0</td>\n",
       "      <td>0</td>\n",
       "      <td>...</td>\n",
       "      <td>3272</td>\n",
       "      <td>3455</td>\n",
       "      <td>3261</td>\n",
       "      <td>0</td>\n",
       "      <td>1000</td>\n",
       "      <td>1000</td>\n",
       "      <td>1000</td>\n",
       "      <td>0</td>\n",
       "      <td>2000</td>\n",
       "      <td>1</td>\n",
       "    </tr>\n",
       "    <tr>\n",
       "      <th>2</th>\n",
       "      <td>3</td>\n",
       "      <td>90000</td>\n",
       "      <td>female</td>\n",
       "      <td>university</td>\n",
       "      <td>single</td>\n",
       "      <td>34</td>\n",
       "      <td>0</td>\n",
       "      <td>0</td>\n",
       "      <td>0</td>\n",
       "      <td>0</td>\n",
       "      <td>...</td>\n",
       "      <td>14331</td>\n",
       "      <td>14948</td>\n",
       "      <td>15549</td>\n",
       "      <td>1518</td>\n",
       "      <td>1500</td>\n",
       "      <td>1000</td>\n",
       "      <td>1000</td>\n",
       "      <td>1000</td>\n",
       "      <td>5000</td>\n",
       "      <td>0</td>\n",
       "    </tr>\n",
       "    <tr>\n",
       "      <th>3</th>\n",
       "      <td>4</td>\n",
       "      <td>50000</td>\n",
       "      <td>female</td>\n",
       "      <td>university</td>\n",
       "      <td>married</td>\n",
       "      <td>37</td>\n",
       "      <td>0</td>\n",
       "      <td>0</td>\n",
       "      <td>0</td>\n",
       "      <td>0</td>\n",
       "      <td>...</td>\n",
       "      <td>28314</td>\n",
       "      <td>28959</td>\n",
       "      <td>29547</td>\n",
       "      <td>2000</td>\n",
       "      <td>2019</td>\n",
       "      <td>1200</td>\n",
       "      <td>1100</td>\n",
       "      <td>1069</td>\n",
       "      <td>1000</td>\n",
       "      <td>0</td>\n",
       "    </tr>\n",
       "    <tr>\n",
       "      <th>4</th>\n",
       "      <td>5</td>\n",
       "      <td>50000</td>\n",
       "      <td>male</td>\n",
       "      <td>university</td>\n",
       "      <td>married</td>\n",
       "      <td>57</td>\n",
       "      <td>-1</td>\n",
       "      <td>0</td>\n",
       "      <td>-1</td>\n",
       "      <td>0</td>\n",
       "      <td>...</td>\n",
       "      <td>20940</td>\n",
       "      <td>19146</td>\n",
       "      <td>19131</td>\n",
       "      <td>2000</td>\n",
       "      <td>36681</td>\n",
       "      <td>10000</td>\n",
       "      <td>9000</td>\n",
       "      <td>689</td>\n",
       "      <td>679</td>\n",
       "      <td>0</td>\n",
       "    </tr>\n",
       "    <tr>\n",
       "      <th>...</th>\n",
       "      <td>...</td>\n",
       "      <td>...</td>\n",
       "      <td>...</td>\n",
       "      <td>...</td>\n",
       "      <td>...</td>\n",
       "      <td>...</td>\n",
       "      <td>...</td>\n",
       "      <td>...</td>\n",
       "      <td>...</td>\n",
       "      <td>...</td>\n",
       "      <td>...</td>\n",
       "      <td>...</td>\n",
       "      <td>...</td>\n",
       "      <td>...</td>\n",
       "      <td>...</td>\n",
       "      <td>...</td>\n",
       "      <td>...</td>\n",
       "      <td>...</td>\n",
       "      <td>...</td>\n",
       "      <td>...</td>\n",
       "      <td>...</td>\n",
       "    </tr>\n",
       "    <tr>\n",
       "      <th>29995</th>\n",
       "      <td>29996</td>\n",
       "      <td>220000</td>\n",
       "      <td>male</td>\n",
       "      <td>high school</td>\n",
       "      <td>married</td>\n",
       "      <td>39</td>\n",
       "      <td>0</td>\n",
       "      <td>0</td>\n",
       "      <td>0</td>\n",
       "      <td>0</td>\n",
       "      <td>...</td>\n",
       "      <td>88004</td>\n",
       "      <td>31237</td>\n",
       "      <td>15980</td>\n",
       "      <td>8500</td>\n",
       "      <td>20000</td>\n",
       "      <td>5003</td>\n",
       "      <td>3047</td>\n",
       "      <td>5000</td>\n",
       "      <td>1000</td>\n",
       "      <td>0</td>\n",
       "    </tr>\n",
       "    <tr>\n",
       "      <th>29996</th>\n",
       "      <td>29997</td>\n",
       "      <td>150000</td>\n",
       "      <td>male</td>\n",
       "      <td>high school</td>\n",
       "      <td>single</td>\n",
       "      <td>43</td>\n",
       "      <td>-1</td>\n",
       "      <td>-1</td>\n",
       "      <td>-1</td>\n",
       "      <td>-1</td>\n",
       "      <td>...</td>\n",
       "      <td>8979</td>\n",
       "      <td>5190</td>\n",
       "      <td>0</td>\n",
       "      <td>1837</td>\n",
       "      <td>3526</td>\n",
       "      <td>8998</td>\n",
       "      <td>129</td>\n",
       "      <td>0</td>\n",
       "      <td>0</td>\n",
       "      <td>0</td>\n",
       "    </tr>\n",
       "    <tr>\n",
       "      <th>29997</th>\n",
       "      <td>29998</td>\n",
       "      <td>30000</td>\n",
       "      <td>male</td>\n",
       "      <td>university</td>\n",
       "      <td>single</td>\n",
       "      <td>37</td>\n",
       "      <td>4</td>\n",
       "      <td>3</td>\n",
       "      <td>2</td>\n",
       "      <td>-1</td>\n",
       "      <td>...</td>\n",
       "      <td>20878</td>\n",
       "      <td>20582</td>\n",
       "      <td>19357</td>\n",
       "      <td>0</td>\n",
       "      <td>0</td>\n",
       "      <td>22000</td>\n",
       "      <td>4200</td>\n",
       "      <td>2000</td>\n",
       "      <td>3100</td>\n",
       "      <td>1</td>\n",
       "    </tr>\n",
       "    <tr>\n",
       "      <th>29998</th>\n",
       "      <td>29999</td>\n",
       "      <td>80000</td>\n",
       "      <td>male</td>\n",
       "      <td>high school</td>\n",
       "      <td>married</td>\n",
       "      <td>41</td>\n",
       "      <td>1</td>\n",
       "      <td>-1</td>\n",
       "      <td>0</td>\n",
       "      <td>0</td>\n",
       "      <td>...</td>\n",
       "      <td>52774</td>\n",
       "      <td>11855</td>\n",
       "      <td>48944</td>\n",
       "      <td>85900</td>\n",
       "      <td>3409</td>\n",
       "      <td>1178</td>\n",
       "      <td>1926</td>\n",
       "      <td>52964</td>\n",
       "      <td>1804</td>\n",
       "      <td>1</td>\n",
       "    </tr>\n",
       "    <tr>\n",
       "      <th>29999</th>\n",
       "      <td>30000</td>\n",
       "      <td>50000</td>\n",
       "      <td>male</td>\n",
       "      <td>university</td>\n",
       "      <td>married</td>\n",
       "      <td>46</td>\n",
       "      <td>0</td>\n",
       "      <td>0</td>\n",
       "      <td>0</td>\n",
       "      <td>0</td>\n",
       "      <td>...</td>\n",
       "      <td>36535</td>\n",
       "      <td>32428</td>\n",
       "      <td>15313</td>\n",
       "      <td>2078</td>\n",
       "      <td>1800</td>\n",
       "      <td>1430</td>\n",
       "      <td>1000</td>\n",
       "      <td>1000</td>\n",
       "      <td>1000</td>\n",
       "      <td>1</td>\n",
       "    </tr>\n",
       "  </tbody>\n",
       "</table>\n",
       "<p>30000 rows × 25 columns</p>\n",
       "</div>"
      ],
      "text/plain": [
       "          ID  LIMIT_BAL     SEX    EDUCATION MARRIAGE  AGE  PAY_1  PAY_2  \\\n",
       "0          1      20000  female   university  married   24      2      2   \n",
       "1          2     120000  female   university   single   26     -1      2   \n",
       "2          3      90000  female   university   single   34      0      0   \n",
       "3          4      50000  female   university  married   37      0      0   \n",
       "4          5      50000    male   university  married   57     -1      0   \n",
       "...      ...        ...     ...          ...      ...  ...    ...    ...   \n",
       "29995  29996     220000    male  high school  married   39      0      0   \n",
       "29996  29997     150000    male  high school   single   43     -1     -1   \n",
       "29997  29998      30000    male   university   single   37      4      3   \n",
       "29998  29999      80000    male  high school  married   41      1     -1   \n",
       "29999  30000      50000    male   university  married   46      0      0   \n",
       "\n",
       "       PAY_3  PAY_4  ...  BILL_AMT4  BILL_AMT5  BILL_AMT6  PAY_AMT1  PAY_AMT2  \\\n",
       "0         -1     -1  ...          0          0          0         0       689   \n",
       "1          0      0  ...       3272       3455       3261         0      1000   \n",
       "2          0      0  ...      14331      14948      15549      1518      1500   \n",
       "3          0      0  ...      28314      28959      29547      2000      2019   \n",
       "4         -1      0  ...      20940      19146      19131      2000     36681   \n",
       "...      ...    ...  ...        ...        ...        ...       ...       ...   \n",
       "29995      0      0  ...      88004      31237      15980      8500     20000   \n",
       "29996     -1     -1  ...       8979       5190          0      1837      3526   \n",
       "29997      2     -1  ...      20878      20582      19357         0         0   \n",
       "29998      0      0  ...      52774      11855      48944     85900      3409   \n",
       "29999      0      0  ...      36535      32428      15313      2078      1800   \n",
       "\n",
       "       PAY_AMT3  PAY_AMT4  PAY_AMT5  PAY_AMT6  def_pay  \n",
       "0             0         0         0         0        1  \n",
       "1          1000      1000         0      2000        1  \n",
       "2          1000      1000      1000      5000        0  \n",
       "3          1200      1100      1069      1000        0  \n",
       "4         10000      9000       689       679        0  \n",
       "...         ...       ...       ...       ...      ...  \n",
       "29995      5003      3047      5000      1000        0  \n",
       "29996      8998       129         0         0        0  \n",
       "29997     22000      4200      2000      3100        1  \n",
       "29998      1178      1926     52964      1804        1  \n",
       "29999      1430      1000      1000      1000        1  \n",
       "\n",
       "[30000 rows x 25 columns]"
      ]
     },
     "execution_count": 38,
     "metadata": {},
     "output_type": "execute_result"
    }
   ],
   "source": [
    "df.toPandas()"
   ]
  },
  {
   "cell_type": "code",
   "execution_count": 39,
   "id": "d2d0990f-5906-4c07-a2a4-c8fa9dd03cca",
   "metadata": {
    "tags": []
   },
   "outputs": [
    {
     "name": "stdout",
     "output_type": "stream",
     "text": [
      "+---+---------+------+---------------+--------+---+-----+-----+-----+-----+-----+-----+---------+---------+---------+---------+---------+---------+--------+--------+--------+--------+--------+--------+-------+---------+---------------+--------------+\n",
      "| ID|LIMIT_BAL|   SEX|      EDUCATION|MARRIAGE|AGE|PAY_1|PAY_2|PAY_3|PAY_4|PAY_5|PAY_6|BILL_AMT1|BILL_AMT2|BILL_AMT3|BILL_AMT4|BILL_AMT5|BILL_AMT6|PAY_AMT1|PAY_AMT2|PAY_AMT3|PAY_AMT4|PAY_AMT5|PAY_AMT6|def_pay|SEX_index|EDUCATION_index|MARRIAGE_index|\n",
      "+---+---------+------+---------------+--------+---+-----+-----+-----+-----+-----+-----+---------+---------+---------+---------+---------+---------+--------+--------+--------+--------+--------+--------+-------+---------+---------------+--------------+\n",
      "|  1|    20000|female|     university| married| 24|    2|    2|   -1|   -1|   -2|   -2|     3913|     3102|      689|        0|        0|        0|       0|     689|       0|       0|       0|       0|      1|      0.0|            0.0|           1.0|\n",
      "|  2|   120000|female|     university|  single| 26|   -1|    2|    0|    0|    0|    2|     2682|     1725|     2682|     3272|     3455|     3261|       0|    1000|    1000|    1000|       0|    2000|      1|      0.0|            0.0|           0.0|\n",
      "|  3|    90000|female|     university|  single| 34|    0|    0|    0|    0|    0|    0|    29239|    14027|    13559|    14331|    14948|    15549|    1518|    1500|    1000|    1000|    1000|    5000|      0|      0.0|            0.0|           0.0|\n",
      "|  4|    50000|female|     university| married| 37|    0|    0|    0|    0|    0|    0|    46990|    48233|    49291|    28314|    28959|    29547|    2000|    2019|    1200|    1100|    1069|    1000|      0|      0.0|            0.0|           1.0|\n",
      "|  5|    50000|  male|     university| married| 57|   -1|    0|   -1|    0|    0|    0|     8617|     5670|    35835|    20940|    19146|    19131|    2000|   36681|   10000|    9000|     689|     679|      0|      1.0|            0.0|           1.0|\n",
      "|  6|    50000|  male|graduate school|  single| 37|    0|    0|    0|    0|    0|    0|    64400|    57069|    57608|    19394|    19619|    20024|    2500|    1815|     657|    1000|    1000|     800|      0|      1.0|            1.0|           0.0|\n",
      "|  7|   500000|  male|graduate school|  single| 29|    0|    0|    0|    0|    0|    0|   367965|   412023|   445007|   542653|   483003|   473944|   55000|   40000|   38000|   20239|   13750|   13770|      0|      1.0|            1.0|           0.0|\n",
      "|  8|   100000|female|     university|  single| 23|    0|   -1|   -1|    0|    0|   -1|    11876|      380|      601|      221|     -159|      567|     380|     601|       0|     581|    1687|    1542|      0|      0.0|            0.0|           0.0|\n",
      "|  9|   140000|female|    high school| married| 28|    0|    0|    2|    0|    0|    0|    11285|    14096|    12108|    12211|    11793|     3719|    3329|       0|     432|    1000|    1000|    1000|      0|      0.0|            2.0|           1.0|\n",
      "| 10|    20000|  male|    high school|  single| 35|   -2|   -2|   -2|   -2|   -1|   -1|        0|        0|        0|        0|    13007|    13912|       0|       0|       0|   13007|    1122|       0|      0|      1.0|            2.0|           0.0|\n",
      "| 11|   200000|female|    high school|  single| 34|    0|    0|    2|    0|    0|   -1|    11073|     9787|     5535|     2513|     1828|     3731|    2306|      12|      50|     300|    3738|      66|      0|      0.0|            2.0|           0.0|\n",
      "| 12|   260000|female|graduate school|  single| 51|   -1|   -1|   -1|   -1|   -1|    2|    12261|    21670|     9966|     8517|    22287|    13668|   21818|    9966|    8583|   22301|       0|    3640|      0|      0.0|            1.0|           0.0|\n",
      "| 13|   630000|female|     university|  single| 41|   -1|    0|   -1|   -1|   -1|   -1|    12137|     6500|     6500|     6500|     6500|     2870|    1000|    6500|    6500|    6500|    2870|       0|      0|      0.0|            0.0|           0.0|\n",
      "| 14|    70000|  male|     university|  single| 30|    1|    2|    2|    0|    0|    2|    65802|    67369|    65701|    66782|    36137|    36894|    3200|       0|    3000|    3000|    1500|       0|      1|      1.0|            0.0|           0.0|\n",
      "| 15|   250000|  male|graduate school|  single| 29|    0|    0|    0|    0|    0|    0|    70887|    67060|    63561|    59696|    56875|    55512|    3000|    3000|    3000|    3000|    3000|    3000|      0|      1.0|            1.0|           0.0|\n",
      "| 16|    50000|female|    high school|  others| 23|    1|    2|    0|    0|    0|    0|    50614|    29173|    28116|    28771|    29531|    30211|       0|    1500|    1100|    1200|    1300|    1100|      0|      0.0|            2.0|           2.0|\n",
      "| 17|    20000|  male|graduate school|  single| 24|    0|    0|    2|    2|    2|    2|    15376|    18010|    17428|    18338|    17905|    19104|    3200|       0|    1500|       0|    1650|       0|      1|      1.0|            1.0|           0.0|\n",
      "| 18|   320000|  male|graduate school| married| 49|    0|    0|    0|   -1|   -1|   -1|   253286|   246536|   194663|    70074|     5856|   195599|   10358|   10000|   75940|   20000|  195599|   50000|      0|      1.0|            1.0|           1.0|\n",
      "| 19|   360000|female|graduate school| married| 49|    1|   -2|   -2|   -2|   -2|   -2|        0|        0|        0|        0|        0|        0|       0|       0|       0|       0|       0|       0|      0|      0.0|            1.0|           1.0|\n",
      "| 20|   180000|female|graduate school|  single| 29|    1|   -2|   -2|   -2|   -2|   -2|        0|        0|        0|        0|        0|        0|       0|       0|       0|       0|       0|       0|      0|      0.0|            1.0|           0.0|\n",
      "+---+---------+------+---------------+--------+---+-----+-----+-----+-----+-----+-----+---------+---------+---------+---------+---------+---------+--------+--------+--------+--------+--------+--------+-------+---------+---------------+--------------+\n",
      "only showing top 20 rows\n",
      "\n"
     ]
    }
   ],
   "source": [
    "from pyspark.ml.feature import StringIndexer\n",
    "from pyspark.ml import Pipeline\n",
    "\n",
    "# List of categorical columns\n",
    "categorical_columns = [\"SEX\", \"EDUCATION\", \"MARRIAGE\"]\n",
    "\n",
    "# Create a list of StringIndexers and a list of output column names\n",
    "indexers = [StringIndexer(inputCol=col_name, outputCol=f\"{col_name}_index\") for col_name in categorical_columns]\n",
    "output_cols = [indexer.getOutputCol() for indexer in indexers]\n",
    "\n",
    "# Create a pipeline to index all categorical columns\n",
    "pipeline = Pipeline(stages=indexers)\n",
    "\n",
    "# Fit and transform the DataFrame\n",
    "model = pipeline.fit(df)\n",
    "df = model.transform(df)\n",
    "\n",
    "# Show the resulting DataFrame with numerical values in the same columns\n",
    "df.show()\n"
   ]
  },
  {
   "cell_type": "code",
   "execution_count": 40,
   "id": "19237740-296b-47e1-8cdc-466ac508dc89",
   "metadata": {
    "tags": []
   },
   "outputs": [],
   "source": [
    "from pyspark.sql.functions import col\n",
    "\n",
    "# Drop the original categorical columns\n",
    "df = df.drop(\"SEX\", \"EDUCATION\", \"MARRIAGE\")\n",
    "\n",
    "# Rename the indexed columns\n",
    "df = df.withColumnRenamed(\"SEX_index\", \"SEX\")\n",
    "df = df.withColumnRenamed(\"MARRIAGE_index\", \"MARRIAGE\")\n",
    "df = df.withColumnRenamed(\"EDUCATION_index\", \"EDUCATION\")\n",
    "\n"
   ]
  },
  {
   "cell_type": "code",
   "execution_count": 41,
   "id": "cc3b8ff2-def4-46e5-8206-a7ff433c4e6d",
   "metadata": {
    "tags": []
   },
   "outputs": [
    {
     "data": {
      "text/html": [
       "<div>\n",
       "<style scoped>\n",
       "    .dataframe tbody tr th:only-of-type {\n",
       "        vertical-align: middle;\n",
       "    }\n",
       "\n",
       "    .dataframe tbody tr th {\n",
       "        vertical-align: top;\n",
       "    }\n",
       "\n",
       "    .dataframe thead th {\n",
       "        text-align: right;\n",
       "    }\n",
       "</style>\n",
       "<table border=\"1\" class=\"dataframe\">\n",
       "  <thead>\n",
       "    <tr style=\"text-align: right;\">\n",
       "      <th></th>\n",
       "      <th>ID</th>\n",
       "      <th>LIMIT_BAL</th>\n",
       "      <th>AGE</th>\n",
       "      <th>PAY_1</th>\n",
       "      <th>PAY_2</th>\n",
       "      <th>PAY_3</th>\n",
       "      <th>PAY_4</th>\n",
       "      <th>PAY_5</th>\n",
       "      <th>PAY_6</th>\n",
       "      <th>BILL_AMT1</th>\n",
       "      <th>...</th>\n",
       "      <th>PAY_AMT1</th>\n",
       "      <th>PAY_AMT2</th>\n",
       "      <th>PAY_AMT3</th>\n",
       "      <th>PAY_AMT4</th>\n",
       "      <th>PAY_AMT5</th>\n",
       "      <th>PAY_AMT6</th>\n",
       "      <th>def_pay</th>\n",
       "      <th>SEX</th>\n",
       "      <th>EDUCATION</th>\n",
       "      <th>MARRIAGE</th>\n",
       "    </tr>\n",
       "  </thead>\n",
       "  <tbody>\n",
       "    <tr>\n",
       "      <th>0</th>\n",
       "      <td>1</td>\n",
       "      <td>20000</td>\n",
       "      <td>24</td>\n",
       "      <td>2</td>\n",
       "      <td>2</td>\n",
       "      <td>-1</td>\n",
       "      <td>-1</td>\n",
       "      <td>-2</td>\n",
       "      <td>-2</td>\n",
       "      <td>3913</td>\n",
       "      <td>...</td>\n",
       "      <td>0</td>\n",
       "      <td>689</td>\n",
       "      <td>0</td>\n",
       "      <td>0</td>\n",
       "      <td>0</td>\n",
       "      <td>0</td>\n",
       "      <td>1</td>\n",
       "      <td>0.0</td>\n",
       "      <td>0.0</td>\n",
       "      <td>1.0</td>\n",
       "    </tr>\n",
       "    <tr>\n",
       "      <th>1</th>\n",
       "      <td>2</td>\n",
       "      <td>120000</td>\n",
       "      <td>26</td>\n",
       "      <td>-1</td>\n",
       "      <td>2</td>\n",
       "      <td>0</td>\n",
       "      <td>0</td>\n",
       "      <td>0</td>\n",
       "      <td>2</td>\n",
       "      <td>2682</td>\n",
       "      <td>...</td>\n",
       "      <td>0</td>\n",
       "      <td>1000</td>\n",
       "      <td>1000</td>\n",
       "      <td>1000</td>\n",
       "      <td>0</td>\n",
       "      <td>2000</td>\n",
       "      <td>1</td>\n",
       "      <td>0.0</td>\n",
       "      <td>0.0</td>\n",
       "      <td>0.0</td>\n",
       "    </tr>\n",
       "    <tr>\n",
       "      <th>2</th>\n",
       "      <td>3</td>\n",
       "      <td>90000</td>\n",
       "      <td>34</td>\n",
       "      <td>0</td>\n",
       "      <td>0</td>\n",
       "      <td>0</td>\n",
       "      <td>0</td>\n",
       "      <td>0</td>\n",
       "      <td>0</td>\n",
       "      <td>29239</td>\n",
       "      <td>...</td>\n",
       "      <td>1518</td>\n",
       "      <td>1500</td>\n",
       "      <td>1000</td>\n",
       "      <td>1000</td>\n",
       "      <td>1000</td>\n",
       "      <td>5000</td>\n",
       "      <td>0</td>\n",
       "      <td>0.0</td>\n",
       "      <td>0.0</td>\n",
       "      <td>0.0</td>\n",
       "    </tr>\n",
       "    <tr>\n",
       "      <th>3</th>\n",
       "      <td>4</td>\n",
       "      <td>50000</td>\n",
       "      <td>37</td>\n",
       "      <td>0</td>\n",
       "      <td>0</td>\n",
       "      <td>0</td>\n",
       "      <td>0</td>\n",
       "      <td>0</td>\n",
       "      <td>0</td>\n",
       "      <td>46990</td>\n",
       "      <td>...</td>\n",
       "      <td>2000</td>\n",
       "      <td>2019</td>\n",
       "      <td>1200</td>\n",
       "      <td>1100</td>\n",
       "      <td>1069</td>\n",
       "      <td>1000</td>\n",
       "      <td>0</td>\n",
       "      <td>0.0</td>\n",
       "      <td>0.0</td>\n",
       "      <td>1.0</td>\n",
       "    </tr>\n",
       "    <tr>\n",
       "      <th>4</th>\n",
       "      <td>5</td>\n",
       "      <td>50000</td>\n",
       "      <td>57</td>\n",
       "      <td>-1</td>\n",
       "      <td>0</td>\n",
       "      <td>-1</td>\n",
       "      <td>0</td>\n",
       "      <td>0</td>\n",
       "      <td>0</td>\n",
       "      <td>8617</td>\n",
       "      <td>...</td>\n",
       "      <td>2000</td>\n",
       "      <td>36681</td>\n",
       "      <td>10000</td>\n",
       "      <td>9000</td>\n",
       "      <td>689</td>\n",
       "      <td>679</td>\n",
       "      <td>0</td>\n",
       "      <td>1.0</td>\n",
       "      <td>0.0</td>\n",
       "      <td>1.0</td>\n",
       "    </tr>\n",
       "  </tbody>\n",
       "</table>\n",
       "<p>5 rows × 25 columns</p>\n",
       "</div>"
      ],
      "text/plain": [
       "   ID  LIMIT_BAL  AGE  PAY_1  PAY_2  PAY_3  PAY_4  PAY_5  PAY_6  BILL_AMT1  \\\n",
       "0   1      20000   24      2      2     -1     -1     -2     -2       3913   \n",
       "1   2     120000   26     -1      2      0      0      0      2       2682   \n",
       "2   3      90000   34      0      0      0      0      0      0      29239   \n",
       "3   4      50000   37      0      0      0      0      0      0      46990   \n",
       "4   5      50000   57     -1      0     -1      0      0      0       8617   \n",
       "\n",
       "   ...  PAY_AMT1  PAY_AMT2  PAY_AMT3  PAY_AMT4  PAY_AMT5  PAY_AMT6  def_pay  \\\n",
       "0  ...         0       689         0         0         0         0        1   \n",
       "1  ...         0      1000      1000      1000         0      2000        1   \n",
       "2  ...      1518      1500      1000      1000      1000      5000        0   \n",
       "3  ...      2000      2019      1200      1100      1069      1000        0   \n",
       "4  ...      2000     36681     10000      9000       689       679        0   \n",
       "\n",
       "   SEX  EDUCATION  MARRIAGE  \n",
       "0  0.0        0.0       1.0  \n",
       "1  0.0        0.0       0.0  \n",
       "2  0.0        0.0       0.0  \n",
       "3  0.0        0.0       1.0  \n",
       "4  1.0        0.0       1.0  \n",
       "\n",
       "[5 rows x 25 columns]"
      ]
     },
     "execution_count": 41,
     "metadata": {},
     "output_type": "execute_result"
    }
   ],
   "source": [
    "df.toPandas().head()"
   ]
  },
  {
   "cell_type": "raw",
   "id": "aac2bd05-ea3f-4d41-a0a9-682790f3ed0f",
   "metadata": {},
   "source": [
    "EDUCATION: (1=graduate school, 2=university, 3=high school, 4=others, 5=unknown, 6=unknown)\n",
    "MARRIAGE: Marital status (1=married, 2=single, 3=others)\n",
    "\n",
    "As seen previously, some categories are mislabeled or undocumented. Before proceeding, it is time to fix it.\n",
    "\n",
    "1. The 0 in MARRIAGE can be safely categorized as 'Other' (thus 3).\n",
    "2. The 0 (undocumented), 5 and 6 (label unknown) in EDUCATION can also be put in a 'Other' cathegory (thus 4)"
   ]
  },
  {
   "cell_type": "code",
   "execution_count": 42,
   "id": "f6d4778c-fa5c-4e6c-bc8b-746f0ee22b5c",
   "metadata": {
    "tags": []
   },
   "outputs": [],
   "source": [
    "df=creditdefault"
   ]
  },
  {
   "cell_type": "code",
   "execution_count": 43,
   "id": "06adc7bb-6e47-4150-9f2c-5a2679fd0779",
   "metadata": {
    "tags": []
   },
   "outputs": [
    {
     "name": "stdout",
     "output_type": "stream",
     "text": [
      "+---------+-----+\n",
      "|EDUCATION|count|\n",
      "+---------+-----+\n",
      "|        1|10585|\n",
      "|        6|   51|\n",
      "|        3| 4917|\n",
      "|        5|  280|\n",
      "|        4|  123|\n",
      "|        2|14030|\n",
      "|        0|   14|\n",
      "+---------+-----+\n",
      "\n",
      "+--------+-----+\n",
      "|MARRIAGE|count|\n",
      "+--------+-----+\n",
      "|       1|13659|\n",
      "|       3|  323|\n",
      "|       2|15964|\n",
      "|       0|   54|\n",
      "+--------+-----+\n",
      "\n"
     ]
    }
   ],
   "source": [
    "# Show the value counts after replacement\n",
    "df.groupBy(\"EDUCATION\").count().show()\n",
    "df.groupBy(\"MARRIAGE\").count().show()"
   ]
  },
  {
   "cell_type": "raw",
   "id": "05480221-ab42-47f3-94b2-d04dddf64df7",
   "metadata": {},
   "source": [
    "Here we are performing data cleaning for the columns 'Education' and 'Marriage'\n",
    "\n",
    "1. Since the 6, 5 and 0 are unknown, we are combining all this into other, which is 4. \n",
    "2. In marriage columns, we are combining 0(Unknown) into 3(other)"
   ]
  },
  {
   "cell_type": "code",
   "execution_count": 44,
   "id": "eae67e75-b5a5-45bb-be46-361e48892f9a",
   "metadata": {
    "tags": []
   },
   "outputs": [
    {
     "name": "stdout",
     "output_type": "stream",
     "text": [
      "+---------+-----+\n",
      "|EDUCATION|count|\n",
      "+---------+-----+\n",
      "|        1|10585|\n",
      "|        3| 4917|\n",
      "|        4|  468|\n",
      "|        2|14030|\n",
      "+---------+-----+\n",
      "\n",
      "+--------+-----+\n",
      "|MARRIAGE|count|\n",
      "+--------+-----+\n",
      "|       1|13659|\n",
      "|       3|  377|\n",
      "|       2|15964|\n",
      "+--------+-----+\n",
      "\n"
     ]
    }
   ],
   "source": [
    "from pyspark.sql.functions import when\n",
    "\n",
    "# Replace values in the EDUCATION column\n",
    "df = df.withColumn(\"EDUCATION\", when((df[\"EDUCATION\"] == 5) | (df[\"EDUCATION\"] == 6) | (df[\"EDUCATION\"] == 0), 4).otherwise(df[\"EDUCATION\"]))\n",
    "\n",
    "# Replace values in the MARRIAGE column\n",
    "df = df.withColumn(\"MARRIAGE\", when(df[\"MARRIAGE\"] == 0, 3).otherwise(df[\"MARRIAGE\"]))\n",
    "\n",
    "# Show the value counts after replacement\n",
    "df.groupBy(\"EDUCATION\").count().show()\n",
    "df.groupBy(\"MARRIAGE\").count().show()\n"
   ]
  },
  {
   "cell_type": "raw",
   "id": "5c36acf3-13bb-40fb-a062-890970c6c894",
   "metadata": {},
   "source": [
    "According to the data, the PAY_n variables indicate the number of months of delay and indicates \"pay duly\"with -1. Then what is -2 And what is 0? It seems to me the label has to be adjusted to 0 for pay duly."
   ]
  },
  {
   "cell_type": "code",
   "execution_count": 45,
   "id": "4ac71ea0-b8fa-4a16-a0b1-28c93b443daa",
   "metadata": {
    "tags": []
   },
   "outputs": [
    {
     "data": {
      "text/html": [
       "<div>\n",
       "<style scoped>\n",
       "    .dataframe tbody tr th:only-of-type {\n",
       "        vertical-align: middle;\n",
       "    }\n",
       "\n",
       "    .dataframe tbody tr th {\n",
       "        vertical-align: top;\n",
       "    }\n",
       "\n",
       "    .dataframe thead th {\n",
       "        text-align: right;\n",
       "    }\n",
       "</style>\n",
       "<table border=\"1\" class=\"dataframe\">\n",
       "  <thead>\n",
       "    <tr style=\"text-align: right;\">\n",
       "      <th></th>\n",
       "      <th>ID</th>\n",
       "      <th>LIMIT_BAL</th>\n",
       "      <th>SEX</th>\n",
       "      <th>EDUCATION</th>\n",
       "      <th>MARRIAGE</th>\n",
       "      <th>AGE</th>\n",
       "      <th>PAY_1</th>\n",
       "      <th>PAY_2</th>\n",
       "      <th>PAY_3</th>\n",
       "      <th>PAY_4</th>\n",
       "      <th>...</th>\n",
       "      <th>BILL_AMT4</th>\n",
       "      <th>BILL_AMT5</th>\n",
       "      <th>BILL_AMT6</th>\n",
       "      <th>PAY_AMT1</th>\n",
       "      <th>PAY_AMT2</th>\n",
       "      <th>PAY_AMT3</th>\n",
       "      <th>PAY_AMT4</th>\n",
       "      <th>PAY_AMT5</th>\n",
       "      <th>PAY_AMT6</th>\n",
       "      <th>def_pay</th>\n",
       "    </tr>\n",
       "  </thead>\n",
       "  <tbody>\n",
       "    <tr>\n",
       "      <th>0</th>\n",
       "      <td>1</td>\n",
       "      <td>20000</td>\n",
       "      <td>2</td>\n",
       "      <td>2</td>\n",
       "      <td>1</td>\n",
       "      <td>24</td>\n",
       "      <td>2</td>\n",
       "      <td>2</td>\n",
       "      <td>-1</td>\n",
       "      <td>-1</td>\n",
       "      <td>...</td>\n",
       "      <td>0</td>\n",
       "      <td>0</td>\n",
       "      <td>0</td>\n",
       "      <td>0</td>\n",
       "      <td>689</td>\n",
       "      <td>0</td>\n",
       "      <td>0</td>\n",
       "      <td>0</td>\n",
       "      <td>0</td>\n",
       "      <td>1</td>\n",
       "    </tr>\n",
       "    <tr>\n",
       "      <th>1</th>\n",
       "      <td>2</td>\n",
       "      <td>120000</td>\n",
       "      <td>2</td>\n",
       "      <td>2</td>\n",
       "      <td>2</td>\n",
       "      <td>26</td>\n",
       "      <td>-1</td>\n",
       "      <td>2</td>\n",
       "      <td>0</td>\n",
       "      <td>0</td>\n",
       "      <td>...</td>\n",
       "      <td>3272</td>\n",
       "      <td>3455</td>\n",
       "      <td>3261</td>\n",
       "      <td>0</td>\n",
       "      <td>1000</td>\n",
       "      <td>1000</td>\n",
       "      <td>1000</td>\n",
       "      <td>0</td>\n",
       "      <td>2000</td>\n",
       "      <td>1</td>\n",
       "    </tr>\n",
       "    <tr>\n",
       "      <th>2</th>\n",
       "      <td>3</td>\n",
       "      <td>90000</td>\n",
       "      <td>2</td>\n",
       "      <td>2</td>\n",
       "      <td>2</td>\n",
       "      <td>34</td>\n",
       "      <td>0</td>\n",
       "      <td>0</td>\n",
       "      <td>0</td>\n",
       "      <td>0</td>\n",
       "      <td>...</td>\n",
       "      <td>14331</td>\n",
       "      <td>14948</td>\n",
       "      <td>15549</td>\n",
       "      <td>1518</td>\n",
       "      <td>1500</td>\n",
       "      <td>1000</td>\n",
       "      <td>1000</td>\n",
       "      <td>1000</td>\n",
       "      <td>5000</td>\n",
       "      <td>0</td>\n",
       "    </tr>\n",
       "    <tr>\n",
       "      <th>3</th>\n",
       "      <td>4</td>\n",
       "      <td>50000</td>\n",
       "      <td>2</td>\n",
       "      <td>2</td>\n",
       "      <td>1</td>\n",
       "      <td>37</td>\n",
       "      <td>0</td>\n",
       "      <td>0</td>\n",
       "      <td>0</td>\n",
       "      <td>0</td>\n",
       "      <td>...</td>\n",
       "      <td>28314</td>\n",
       "      <td>28959</td>\n",
       "      <td>29547</td>\n",
       "      <td>2000</td>\n",
       "      <td>2019</td>\n",
       "      <td>1200</td>\n",
       "      <td>1100</td>\n",
       "      <td>1069</td>\n",
       "      <td>1000</td>\n",
       "      <td>0</td>\n",
       "    </tr>\n",
       "    <tr>\n",
       "      <th>4</th>\n",
       "      <td>5</td>\n",
       "      <td>50000</td>\n",
       "      <td>1</td>\n",
       "      <td>2</td>\n",
       "      <td>1</td>\n",
       "      <td>57</td>\n",
       "      <td>-1</td>\n",
       "      <td>0</td>\n",
       "      <td>-1</td>\n",
       "      <td>0</td>\n",
       "      <td>...</td>\n",
       "      <td>20940</td>\n",
       "      <td>19146</td>\n",
       "      <td>19131</td>\n",
       "      <td>2000</td>\n",
       "      <td>36681</td>\n",
       "      <td>10000</td>\n",
       "      <td>9000</td>\n",
       "      <td>689</td>\n",
       "      <td>679</td>\n",
       "      <td>0</td>\n",
       "    </tr>\n",
       "  </tbody>\n",
       "</table>\n",
       "<p>5 rows × 25 columns</p>\n",
       "</div>"
      ],
      "text/plain": [
       "   ID  LIMIT_BAL  SEX  EDUCATION  MARRIAGE  AGE  PAY_1  PAY_2  PAY_3  PAY_4  \\\n",
       "0   1      20000    2          2         1   24      2      2     -1     -1   \n",
       "1   2     120000    2          2         2   26     -1      2      0      0   \n",
       "2   3      90000    2          2         2   34      0      0      0      0   \n",
       "3   4      50000    2          2         1   37      0      0      0      0   \n",
       "4   5      50000    1          2         1   57     -1      0     -1      0   \n",
       "\n",
       "   ...  BILL_AMT4  BILL_AMT5  BILL_AMT6  PAY_AMT1  PAY_AMT2  PAY_AMT3  \\\n",
       "0  ...          0          0          0         0       689         0   \n",
       "1  ...       3272       3455       3261         0      1000      1000   \n",
       "2  ...      14331      14948      15549      1518      1500      1000   \n",
       "3  ...      28314      28959      29547      2000      2019      1200   \n",
       "4  ...      20940      19146      19131      2000     36681     10000   \n",
       "\n",
       "   PAY_AMT4  PAY_AMT5  PAY_AMT6  def_pay  \n",
       "0         0         0         0        1  \n",
       "1      1000         0      2000        1  \n",
       "2      1000      1000      5000        0  \n",
       "3      1100      1069      1000        0  \n",
       "4      9000       689       679        0  \n",
       "\n",
       "[5 rows x 25 columns]"
      ]
     },
     "execution_count": 45,
     "metadata": {},
     "output_type": "execute_result"
    }
   ],
   "source": [
    "# Rename columns PAY_0 to PAY_1 and default payment next month to def_pay\n",
    "# We can also use 'df.selectExpr' \n",
    "\n",
    "df = df.withColumnRenamed('PAY_0', 'PAY_1').withColumnRenamed('default payment next month', 'def_pay')\n",
    "df.toPandas().head()"
   ]
  },
  {
   "cell_type": "code",
   "execution_count": 46,
   "id": "94fe3def-1f55-4c77-8707-5e1eb2784187",
   "metadata": {
    "tags": []
   },
   "outputs": [
    {
     "data": {
      "text/plain": [
       "<Figure size 640x480 with 0 Axes>"
      ]
     },
     "metadata": {},
     "output_type": "display_data"
    },
    {
     "data": {
      "image/png": "[encoded data removed]",
      "text/plain": [
       "<Figure size 1200x800 with 6 Axes>"
      ]
     },
     "metadata": {},
     "output_type": "display_data"
    }
   ],
   "source": [
    "from pyspark.sql.functions import when\n",
    "import matplotlib.pyplot as plt\n",
    "\n",
    "# Define the columns to clean and plot\n",
    "late_columns = ['PAY_1', 'PAY_2', 'PAY_3', 'PAY_4', 'PAY_5', 'PAY_6']\n",
    "\n",
    "# Replace values in the specified columns\n",
    "for col in late_columns:\n",
    "    df = df.withColumn(col, when((df[col] == -2) | (df[col] == -1) | (df[col] == 0), 0).otherwise(df[col]))\n",
    "\n",
    "# Show histograms for the specified columns\n",
    "late = df[late_columns].toPandas()\n",
    "fig = plt.figure()\n",
    "late.hist(bins=10, figsize=(12, 8))\n",
    "plt.tight_layout()\n",
    "plt.show()"
   ]
  },
  {
   "cell_type": "code",
   "execution_count": 47,
   "id": "41583939-6030-4096-9016-5414f0d16abf",
   "metadata": {
    "tags": []
   },
   "outputs": [
    {
     "data": {
      "image/png": "[encoded data removed]",
      "text/plain": [
       "<Figure size 640x480 with 1 Axes>"
      ]
     },
     "metadata": {},
     "output_type": "display_data"
    }
   ],
   "source": [
    "import matplotlib.pyplot as plt\n",
    "\n",
    "# Group by SEX and def_pay, and count the occurrences\n",
    "gender = df.groupBy('SEX', 'def_pay').count()\n",
    "\n",
    "# Pivot the table to have def_pay as columns\n",
    "gender_pivot = gender.groupBy('SEX').pivot('def_pay').sum('count')\n",
    "\n",
    "# Fill NaN values with 0\n",
    "gender_pivot = gender_pivot.na.fill(0)\n",
    "\n",
    "# Create a stacked bar plot\n",
    "ax = gender_pivot.toPandas().plot(kind='bar', stacked=True)\n",
    "\n",
    "# Customize the plot\n",
    "ax.set_xlabel(\"Gender (SEX)\")\n",
    "ax.set_ylabel(\"Count\")\n",
    "ax.set_title(\"Stacked Bar Plot of Gender and Default Payment\")\n",
    "\n",
    "# Show the plot\n",
    "plt.show()\n"
   ]
  },
  {
   "cell_type": "code",
   "execution_count": 48,
   "id": "a76f9fb2-fa52-4c66-babd-22d87d6f1f4b",
   "metadata": {
    "tags": []
   },
   "outputs": [
    {
     "name": "stdout",
     "output_type": "stream",
     "text": [
      "+---+-----+----+-----+\n",
      "|SEX|    0|   1| perc|\n",
      "+---+-----+----+-----+\n",
      "|  1| 9015|2873|24.17|\n",
      "|  2|14349|3763|20.78|\n",
      "+---+-----+----+-----+\n",
      "\n"
     ]
    }
   ],
   "source": [
    "from pyspark.sql import functions as F\n",
    "\n",
    "# Group by SEX and def_pay, and count the occurrences\n",
    "gender = df.groupBy('SEX', 'def_pay').count()\n",
    "\n",
    "# Pivot the table to have def_pay as columns\n",
    "gender_pivot = gender.groupBy('SEX').pivot('def_pay').sum('count')\n",
    "\n",
    "# Fill NaN values with 0\n",
    "gender_pivot = gender_pivot.na.fill(0)\n",
    "\n",
    "# Calculate the percentage of default payment\n",
    "gender_pivot = gender_pivot.withColumn('perc', (F.col('1') / (F.col('0') + F.col('1')) * 100))\n",
    "\n",
    "# Round the percentage to 2 decimal places\n",
    "gender_pivot = gender_pivot.withColumn('perc', F.round('perc', 2))\n",
    "\n",
    "# Show the resulting DataFrame\n",
    "gender_pivot.show()"
   ]
  },
  {
   "cell_type": "raw",
   "id": "e09a4598-700a-4e2c-a8e3-54035f6a2d68",
   "metadata": {},
   "source": [
    "Based on the above ratio, we can observe two things\n",
    "1. there are significantly more women than men\n",
    "2. men are most likely going to default the next month than women"
   ]
  },
  {
   "cell_type": "markdown",
   "id": "ea27e824-dc05-4181-b3e3-d6e65bdd43c7",
   "metadata": {},
   "source": [
    "## Feature Engineering"
   ]
  },
  {
   "cell_type": "code",
   "execution_count": 49,
   "id": "dace782a-9d27-4093-a9c8-7b49de912a73",
   "metadata": {
    "tags": []
   },
   "outputs": [
    {
     "name": "stdout",
     "output_type": "stream",
     "text": [
      "root\n",
      " |-- ID: integer (nullable = true)\n",
      " |-- LIMIT_BAL: integer (nullable = true)\n",
      " |-- SEX: integer (nullable = true)\n",
      " |-- EDUCATION: integer (nullable = true)\n",
      " |-- MARRIAGE: integer (nullable = true)\n",
      " |-- AGE: integer (nullable = true)\n",
      " |-- PAY_1: integer (nullable = true)\n",
      " |-- PAY_2: integer (nullable = true)\n",
      " |-- PAY_3: integer (nullable = true)\n",
      " |-- PAY_4: integer (nullable = true)\n",
      " |-- PAY_5: integer (nullable = true)\n",
      " |-- PAY_6: integer (nullable = true)\n",
      " |-- BILL_AMT1: integer (nullable = true)\n",
      " |-- BILL_AMT2: integer (nullable = true)\n",
      " |-- BILL_AMT3: integer (nullable = true)\n",
      " |-- BILL_AMT4: integer (nullable = true)\n",
      " |-- BILL_AMT5: integer (nullable = true)\n",
      " |-- BILL_AMT6: integer (nullable = true)\n",
      " |-- PAY_AMT1: integer (nullable = true)\n",
      " |-- PAY_AMT2: integer (nullable = true)\n",
      " |-- PAY_AMT3: integer (nullable = true)\n",
      " |-- PAY_AMT4: integer (nullable = true)\n",
      " |-- PAY_AMT5: integer (nullable = true)\n",
      " |-- PAY_AMT6: integer (nullable = true)\n",
      " |-- def_pay: integer (nullable = true)\n",
      "\n"
     ]
    }
   ],
   "source": [
    "df.printSchema()"
   ]
  },
  {
   "cell_type": "raw",
   "id": "558e03d7-14e3-4b97-80df-e5de94c00515",
   "metadata": {
    "tags": []
   },
   "source": [
    "From the above data, we cant say clearly does married man or married woman or single or divorced men, women are more like to default the loan. so i will create new feature that tells us which of the above section people are most likely to default the loan.\n",
    "\n",
    "This operation will create a category for married man, which I expect to be the one with high probability of defaulting, a combination of married women and single man, a category (expected to be numerically less populated) of \"divorced\" men (in other words, the \"other\" in marriage times the \"male\" in sex), one for single women and one for \"divorced\" women."
   ]
  },
  {
   "cell_type": "code",
   "execution_count": 50,
   "id": "815acffd-5de5-45d5-9c08-8d8bb6bf9e53",
   "metadata": {
    "tags": []
   },
   "outputs": [
    {
     "name": "stdout",
     "output_type": "stream",
     "text": [
      "+---------+-----+----+\n",
      "|EDUCATION|    0|   1|\n",
      "+---------+-----+----+\n",
      "|        1| 8549|2036|\n",
      "|        3| 3680|1237|\n",
      "|        4|  435|  33|\n",
      "|        2|10700|3330|\n",
      "+---------+-----+----+\n",
      "\n"
     ]
    }
   ],
   "source": [
    "result=df.groupBy('EDUCATION', 'def_pay').count().groupBy('EDUCATION').pivot('def_pay').agg(F.sum(\"count\"))\n",
    "result.show()"
   ]
  },
  {
   "cell_type": "code",
   "execution_count": 51,
   "id": "794963ac-f0c6-4e24-ac74-8aad0621b008",
   "metadata": {
    "tags": []
   },
   "outputs": [
    {
     "name": "stdout",
     "output_type": "stream",
     "text": [
      "+---+----+----+---+------------------+\n",
      "|SEX|   1|   2|  3|              perc|\n",
      "+---+----+----+---+------------------+\n",
      "|  1|5190|6553|145|0.5580345737886401|\n",
      "|  2|8469|9411|232|0.5263422818791946|\n",
      "+---+----+----+---+------------------+\n",
      "\n"
     ]
    }
   ],
   "source": [
    "from pyspark.sql.functions import col, first\n",
    "\n",
    "def corr_2_cols(df, col1, col2):\n",
    "    df = df.withColumn(\"SE_MA\", col(col1) * col(col2))\n",
    "    result = df.groupBy(col1, col2).count().groupBy(col1).pivot(col2).sum(\"count\").fillna(0)\n",
    "    result = result.withColumn(\"perc\", result[2] / (result[1] + result[2]))\n",
    "    return result\n",
    "\n",
    "# Example usage:\n",
    "result = corr_2_cols(df, \"SEX\", \"MARRIAGE\")\n",
    "result.show()\n"
   ]
  },
  {
   "cell_type": "code",
   "execution_count": 52,
   "id": "a29800ba-1e0c-470d-a38b-ad9803c679a7",
   "metadata": {
    "tags": []
   },
   "outputs": [
    {
     "name": "stdout",
     "output_type": "stream",
     "text": [
      "+---------+-----+----+-------------------+\n",
      "|EDUCATION|    0|   1|               perc|\n",
      "+---------+-----+----+-------------------+\n",
      "|        1| 8549|2036|0.19234766178554558|\n",
      "|        3| 3680|1237| 0.2515761643278422|\n",
      "|        4|  435|  33|0.07051282051282051|\n",
      "|        2|10700|3330|0.23734853884533144|\n",
      "+---------+-----+----+-------------------+\n",
      "\n"
     ]
    }
   ],
   "source": [
    "# Similarly if we seen for the Eduaction and default \n",
    "corr_2_cols(df, 'EDUCATION', 'def_pay').show()"
   ]
  },
  {
   "cell_type": "raw",
   "id": "d4176f5b-68eb-48bd-807e-ec3c6f51a5b0",
   "metadata": {},
   "source": [
    "It seems that the higher is the education, the lower is the probability of defaulting the next month. Only exception is for the category labeled \"Other\" that, if we follow the documentation, would be lower than high school."
   ]
  },
  {
   "cell_type": "code",
   "execution_count": 53,
   "id": "4e2696c7-fe68-41c3-af2e-60bbd6203a4c",
   "metadata": {
    "tags": []
   },
   "outputs": [
    {
     "name": "stdout",
     "output_type": "stream",
     "text": [
      "+--------+-----+----+-------------------+\n",
      "|MARRIAGE|    0|   1|               perc|\n",
      "+--------+-----+----+-------------------+\n",
      "|       1|10453|3206|0.23471703638626545|\n",
      "|       3|  288|  89|0.23607427055702918|\n",
      "|       2|12623|3341|0.20928338762214985|\n",
      "+--------+-----+----+-------------------+\n",
      "\n"
     ]
    }
   ],
   "source": [
    "corr_2_cols(df, 'MARRIAGE', 'def_pay').show()"
   ]
  },
  {
   "cell_type": "raw",
   "id": "fdb8ccc3-2da5-4d01-adb3-312ce8f2924f",
   "metadata": {},
   "source": [
    "Here it seems that married people are most likely to default as well as the category \"Other\" ( numerically less relevant than the others)"
   ]
  },
  {
   "cell_type": "code",
   "execution_count": 54,
   "id": "e5a12ee9-d01d-4eb3-9949-9703835e48dc",
   "metadata": {
    "tags": []
   },
   "outputs": [
    {
     "name": "stdout",
     "output_type": "stream",
     "text": [
      "+--------+----+----+------------------+\n",
      "|MARRIAGE|   1|   2|              perc|\n",
      "+--------+----+----+------------------+\n",
      "|       1|5190|8469|0.6200307489567318|\n",
      "|       3| 145| 232|0.6153846153846154|\n",
      "|       2|6553|9411|0.5895139062891506|\n",
      "+--------+----+----+------------------+\n",
      "\n"
     ]
    }
   ],
   "source": [
    "corr_2_cols(df, 'MARRIAGE', 'SEX').show()"
   ]
  },
  {
   "cell_type": "raw",
   "id": "b67fafcb-f385-4e15-b344-e1661f86e5ee",
   "metadata": {},
   "source": [
    "I saw that men are most likely to default and also that married people are most likely to default. Thus why not combine them in a single variable given by the product of the two? I chose these two first because they are both labeled 1,2 and they both decrease the probability of defaulting if their value increase.\n",
    "\n",
    "This operation will create a category for married man, which I expect to be the one with high probability of defaulting, a combination of married women and single man, a category (less populated) of \"divorced\" men (in other words, the \"other\" in marriage times the \"male\" in sex), one for single women and one for \"divorced\" women."
   ]
  },
  {
   "cell_type": "code",
   "execution_count": 55,
   "id": "3798fbb3-4504-4399-9361-cd6ba3d0fbee",
   "metadata": {
    "tags": []
   },
   "outputs": [
    {
     "name": "stdout",
     "output_type": "stream",
     "text": [
      "+-------+----+----+-------------------+\n",
      "|SE_MA_2|   0|   1|               perc|\n",
      "+-------+----+----+-------------------+\n",
      "|      1|3844|1346|0.25934489402697497|\n",
      "|      6| 185|  47| 0.2025862068965517|\n",
      "|      3| 103|  42| 0.2896551724137931|\n",
      "|      5|7555|1856| 0.1972160238019339|\n",
      "|      4|6609|1860| 0.2196245129295076|\n",
      "|      2|5068|1485|0.22661376468792918|\n",
      "+-------+----+----+-------------------+\n",
      "\n"
     ]
    }
   ],
   "source": [
    "df = df.withColumn(\"SE_MA\", df[\"SEX\"] * df[\"MARRIAGE\"])\n",
    "df = df.withColumn(\"SE_MA_2\", \n",
    "                   when((df[\"SEX\"] == 1) & (df[\"MARRIAGE\"] == 1), 1) #married man\n",
    "                   .when((df[\"SEX\"] == 1) & (df[\"MARRIAGE\"] == 2), 2) #single man\n",
    "                   .when((df[\"SEX\"] == 1) & (df[\"MARRIAGE\"] == 3), 3) #divorced man\n",
    "                   .when((df[\"SEX\"] == 2) & (df[\"MARRIAGE\"] == 1), 4) #married women\n",
    "                   .when((df[\"SEX\"] == 2) & (df[\"MARRIAGE\"] == 2), 5) #single women\n",
    "                   .when((df[\"SEX\"] == 2) & (df[\"MARRIAGE\"] == 3), 6) #divorced women\n",
    "                   .otherwise(0)\n",
    "                  )\n",
    "corr_2_cols(df, 'SE_MA_2', 'def_pay').show()"
   ]
  },
  {
   "cell_type": "raw",
   "id": "d43655bd-280e-4767-b0cf-4be75c73d835",
   "metadata": {},
   "source": [
    "I can see clearly that married men have a higher probability of defaulting, single men have nothing special with respect to the all population and single women have a lowe probability of defaulting. Among the divorced, men have more troubles (but these categories are not very much populated)."
   ]
  },
  {
   "cell_type": "code",
   "execution_count": 56,
   "id": "9b7a75f2-4996-4c8b-9e85-46f8562c393d",
   "metadata": {
    "tags": []
   },
   "outputs": [],
   "source": [
    "df = df.drop(\"SE_MA\")\n",
    "df=df.withColumnRenamed('SE_MA_2', 'SE_MA')"
   ]
  },
  {
   "cell_type": "code",
   "execution_count": null,
   "id": "4621d0e1-839a-49de-b0b9-55125d77c62c",
   "metadata": {
    "tags": []
   },
   "outputs": [],
   "source": [
    "df.printSchema()"
   ]
  },
  {
   "cell_type": "raw",
   "id": "adbe0217-5384-4ecd-9e8f-6a44d70fb67e",
   "metadata": {},
   "source": [
    "Now we are going to create new feature named AgeBin, which shows the category of people falling in each category."
   ]
  },
  {
   "cell_type": "code",
   "execution_count": 58,
   "id": "36e5e6fb-51ce-421a-87ed-818b05e3ad5b",
   "metadata": {
    "tags": []
   },
   "outputs": [
    {
     "data": {
      "image/png": "[encoded data removed]",
      "text/plain": [
       "<Figure size 640x480 with 1 Axes>"
      ]
     },
     "metadata": {},
     "output_type": "display_data"
    }
   ],
   "source": [
    "from pyspark.sql.functions import when, col\n",
    "import matplotlib.pyplot as plt\n",
    "\n",
    "# Define age bin conditions\n",
    "age_bins = [\n",
    "    (col(\"AGE\") > 20) & (col(\"AGE\") < 30),\n",
    "    (col(\"AGE\") >= 30) & (col(\"AGE\") < 40),\n",
    "    (col(\"AGE\") >= 40) & (col(\"AGE\") < 50),\n",
    "    (col(\"AGE\") >= 50) & (col(\"AGE\") < 60),\n",
    "    (col(\"AGE\") >= 60) & (col(\"AGE\") < 70),\n",
    "    (col(\"AGE\") >= 70) & (col(\"AGE\") <= 80)\n",
    "]\n",
    "\n",
    "# Define corresponding age bin labels\n",
    "age_bin_labels = [1, 2, 3, 4, 5, 6]\n",
    "\n",
    "# Add a new column 'AgeBin' based on the conditions\n",
    "df = df.withColumn(\"AgeBin\", when(age_bins[0], age_bin_labels[0])\n",
    "                    .when(age_bins[1], age_bin_labels[1])\n",
    "                    .when(age_bins[2], age_bin_labels[2])\n",
    "                    .when(age_bins[3], age_bin_labels[3])\n",
    "                    .when(age_bins[4], age_bin_labels[4])\n",
    "                    .when(age_bins[5], age_bin_labels[5])\n",
    "                    .otherwise(0))\n",
    "\n",
    "# Calculate the histogram of the 'AgeBin' column\n",
    "hist_data = df.groupBy(\"AgeBin\").count().orderBy(\"AgeBin\")\n",
    "\n",
    "# Convert the result to a Pandas DataFrame for plotting\n",
    "hist_df = hist_data.toPandas()\n",
    "\n",
    "# Plot the histogram\n",
    "plt.bar(hist_df['AgeBin'], hist_df['count'])\n",
    "plt.xlabel(\"Age Bin\")\n",
    "plt.ylabel(\"Count\")\n",
    "plt.title(\"Age Distribution in Bins\")\n",
    "plt.show()\n"
   ]
  },
  {
   "cell_type": "code",
   "execution_count": 59,
   "id": "2e6f0020-e858-400d-b538-341f0b71125a",
   "metadata": {
    "tags": []
   },
   "outputs": [
    {
     "name": "stdout",
     "output_type": "stream",
     "text": [
      "+------+----+----+-------------------+\n",
      "|AgeBin|   0|   1|               perc|\n",
      "+------+----+----+-------------------+\n",
      "|     1|7421|2197|0.22842586816385943|\n",
      "|     6|  18|   7|               0.28|\n",
      "|     3|4979|1485| 0.2297339108910891|\n",
      "|     5| 225|  89|0.28343949044585987|\n",
      "|     4|1759| 582|0.24861170439982913|\n",
      "|     2|8962|2276|0.20252714006050898|\n",
      "+------+----+----+-------------------+\n",
      "\n"
     ]
    }
   ],
   "source": [
    "corr_2_cols(df, 'AgeBin', 'def_pay').show()"
   ]
  },
  {
   "cell_type": "raw",
   "id": "8243291b-8a60-4bee-9ade-c5d61798cff0",
   "metadata": {},
   "source": [
    "From the above table we can observe that the people in the age between 60 and 70 are more like to default. Followed by categorry 6 and category 5. All these are category of people are older and indeed they may not have good source of incomen to pay the next month credit. Where are people in age of teenage and 20's have lower chance of default, followed by people in age 30's."
   ]
  },
  {
   "cell_type": "code",
   "execution_count": 61,
   "id": "06a06b00-8a9b-4511-8ea2-1eaa9016a2f7",
   "metadata": {
    "tags": []
   },
   "outputs": [
    {
     "name": "stdout",
     "output_type": "stream",
     "text": [
      "+-----+----+----+-------------------+\n",
      "|SE_AG|   0|   1|               perc|\n",
      "+-----+----+----+-------------------+\n",
      "|    1|2510| 796|0.24077434966727163|\n",
      "|    6|4929|1408|0.22218715480511284|\n",
      "|    3|2080| 691|0.24936845904005775|\n",
      "|    5| 122|  44|0.26506024096385544|\n",
      "|    9| 962| 287|0.22978382706164932|\n",
      "|    4| 797| 295|0.27014652014652013|\n",
      "|    8|2899| 794|  0.215001353912808|\n",
      "|    7|5447|1226|0.18372546081222837|\n",
      "|   10| 103|  45|0.30405405405405406|\n",
      "|    2|3515|1050|0.23001095290251916|\n",
      "+-----+----+----+-------------------+\n",
      "\n"
     ]
    }
   ],
   "source": [
    "# Define SE_AG conditions\n",
    "se_ag_conditions = [\n",
    "    (col(\"SEX\") == 1) & (col(\"AgeBin\") == 1),\n",
    "    (col(\"SEX\") == 1) & (col(\"AgeBin\") == 2),\n",
    "    (col(\"SEX\") == 1) & (col(\"AgeBin\") == 3),\n",
    "    (col(\"SEX\") == 1) & (col(\"AgeBin\") == 4),\n",
    "    (col(\"SEX\") == 1) & (col(\"AgeBin\") == 5),\n",
    "    (col(\"SEX\") == 2) & (col(\"AgeBin\") == 1),\n",
    "    (col(\"SEX\") == 2) & (col(\"AgeBin\") == 2),\n",
    "    (col(\"SEX\") == 2) & (col(\"AgeBin\") == 3),\n",
    "    (col(\"SEX\") == 2) & (col(\"AgeBin\") == 4),\n",
    "    (col(\"SEX\") == 2) & (col(\"AgeBin\") == 5)\n",
    "]\n",
    "\n",
    "# Define corresponding SE_AG labels\n",
    "se_ag_labels = [1, 2, 3, 4, 5, 6, 7, 8, 9, 10]\n",
    "\n",
    "# Add a new column 'SE_AG' based on the conditions\n",
    "df = df.withColumn(\"SE_AG\", when(se_ag_conditions[0], se_ag_labels[0]) #man in 20's\n",
    "                    .when(se_ag_conditions[1], se_ag_labels[1]) #man in 30's\n",
    "                    .when(se_ag_conditions[2], se_ag_labels[2]) #man in 40's\n",
    "                    .when(se_ag_conditions[3], se_ag_labels[3]) #man in 50's\n",
    "                    .when(se_ag_conditions[4], se_ag_labels[4]) #man in 60's and above\n",
    "                    .when(se_ag_conditions[5], se_ag_labels[5]) #mwoman in 20's\n",
    "                    .when(se_ag_conditions[6], se_ag_labels[6]) #woman in 30's\n",
    "                    .when(se_ag_conditions[7], se_ag_labels[7]) #woman in 40's\n",
    "                    .when(se_ag_conditions[8], se_ag_labels[8]) #woman in 50's\n",
    "                    .when(se_ag_conditions[9], se_ag_labels[9]) #woman in 60's and above\n",
    "                    .otherwise(1))\n",
    "\n",
    "corr_2_cols(df, 'SE_AG', 'def_pay').show()"
   ]
  },
  {
   "cell_type": "raw",
   "id": "9ab09c19-5e0a-4b6f-bd33-77b0ebfcc383",
   "metadata": {},
   "source": [
    "Now it is time to do something that indicates being a client at a given month or not. I would say that if PAY, BILL_AMT and PAY_AMT are 0, then we are not talking about a client."
   ]
  },
  {
   "cell_type": "code",
   "execution_count": 62,
   "id": "9c5ee6b3-afe4-4e66-9cbb-420d30b3aee9",
   "metadata": {
    "tags": []
   },
   "outputs": [
    {
     "name": "stdout",
     "output_type": "stream",
     "text": [
      "+-----+------------+\n",
      "|Month|Client_Count|\n",
      "+-----+------------+\n",
      "|    6|       26700|\n",
      "|    5|       27247|\n",
      "|    4|       27572|\n",
      "|    3|       27810|\n",
      "|    2|       28183|\n",
      "|    1|       29477|\n",
      "+-----+------------+\n",
      "\n"
     ]
    }
   ],
   "source": [
    "from pyspark.sql.functions import when, col\n",
    "from pyspark.sql import functions as F\n",
    "\n",
    "# Define columns for months\n",
    "months = ['6', '5', '4', '3', '2', '1']\n",
    "\n",
    "# Loop through each month to create the corresponding 'Client_X' columns\n",
    "for month in months:\n",
    "    df = df.withColumn(\"Client_\" + month, when(\n",
    "        (col(\"PAY_\" + month) == 0) &\n",
    "        (col(\"BILL_AMT\" + month) == 0) &\n",
    "        (col(\"PAY_AMT\" + month) == 0), 0\n",
    "    ).otherwise(1))\n",
    "\n",
    "# Calculate the count of clients for each month\n",
    "client_counts = [df.filter(col(\"Client_\" + month) == 1).count() for month in months]\n",
    "\n",
    "# Create a PySpark DataFrame to display the results\n",
    "result_df = spark.createDataFrame(list(zip(months, client_counts)), [\"Month\", \"Client_Count\"])\n",
    "\n",
    "# Show the results\n",
    "result_df.show()"
   ]
  },
  {
   "cell_type": "raw",
   "id": "6e3cf691-c50c-403b-8f98-5b07fee65ec4",
   "metadata": {},
   "source": [
    "Above table provides the summary of the count of active clients for each of the six months (from month 6 to month 1). Here's what it tells you:\n",
    "\n",
    "In month 6, there were 26,700 active clients.\n",
    "In month 5, there were 27,247 active clients.\n",
    "In month 4, there were 27,572 active clients.\n",
    "In month 3, there were 27,810 active clients.\n",
    "In month 2, there were 28,183 active clients.\n",
    "In month 1, there were 29,477 active clients.\n",
    "\n",
    "Client count decreases in each month."
   ]
  },
  {
   "cell_type": "raw",
   "id": "26544d0d-14fc-49c5-bee8-8ebc41cb1603",
   "metadata": {
    "tags": []
   },
   "source": [
    "Next, I want something to describe the expenses of a client. for example\n",
    "1. if i have bill x and paid y.\n",
    "2. in the next month i have to pay x-y+x', x' being new bill and if i paid y', i will get balance to be apid in next term with new payment."
   ]
  },
  {
   "cell_type": "code",
   "execution_count": 66,
   "id": "6ce3ed95-52cd-433e-bbd7-5f0101bae438",
   "metadata": {
    "tags": []
   },
   "outputs": [
    {
     "data": {
      "text/html": [
       "<div>\n",
       "<style scoped>\n",
       "    .dataframe tbody tr th:only-of-type {\n",
       "        vertical-align: middle;\n",
       "    }\n",
       "\n",
       "    .dataframe tbody tr th {\n",
       "        vertical-align: top;\n",
       "    }\n",
       "\n",
       "    .dataframe thead th {\n",
       "        text-align: right;\n",
       "    }\n",
       "</style>\n",
       "<table border=\"1\" class=\"dataframe\">\n",
       "  <thead>\n",
       "    <tr style=\"text-align: right;\">\n",
       "      <th></th>\n",
       "      <th>LIMIT_BAL</th>\n",
       "      <th>Avg_exp_5</th>\n",
       "      <th>BILL_AMT5</th>\n",
       "      <th>Avg_exp_4</th>\n",
       "      <th>BILL_AMT4</th>\n",
       "      <th>Avg_exp_3</th>\n",
       "      <th>BILL_AMT3</th>\n",
       "      <th>Avg_exp_2</th>\n",
       "      <th>BILL_AMT2</th>\n",
       "      <th>Avg_exp_1</th>\n",
       "      <th>BILL_AMT1</th>\n",
       "      <th>def_pay</th>\n",
       "    </tr>\n",
       "  </thead>\n",
       "  <tbody>\n",
       "    <tr>\n",
       "      <th>0</th>\n",
       "      <td>100000</td>\n",
       "      <td>0.009610</td>\n",
       "      <td>-159</td>\n",
       "      <td>0.014415</td>\n",
       "      <td>221</td>\n",
       "      <td>0.020487</td>\n",
       "      <td>601</td>\n",
       "      <td>0.023970</td>\n",
       "      <td>380</td>\n",
       "      <td>0.050572</td>\n",
       "      <td>11876</td>\n",
       "      <td>0</td>\n",
       "    </tr>\n",
       "    <tr>\n",
       "      <th>1</th>\n",
       "      <td>20000</td>\n",
       "      <td>0.022550</td>\n",
       "      <td>17905</td>\n",
       "      <td>0.033375</td>\n",
       "      <td>18338</td>\n",
       "      <td>0.054033</td>\n",
       "      <td>17428</td>\n",
       "      <td>0.080975</td>\n",
       "      <td>18010</td>\n",
       "      <td>0.108460</td>\n",
       "      <td>15376</td>\n",
       "      <td>1</td>\n",
       "    </tr>\n",
       "    <tr>\n",
       "      <th>2</th>\n",
       "      <td>360000</td>\n",
       "      <td>0.000000</td>\n",
       "      <td>0</td>\n",
       "      <td>0.000000</td>\n",
       "      <td>0</td>\n",
       "      <td>0.000000</td>\n",
       "      <td>0</td>\n",
       "      <td>0.000000</td>\n",
       "      <td>0</td>\n",
       "      <td>0.000000</td>\n",
       "      <td>0</td>\n",
       "      <td>0</td>\n",
       "    </tr>\n",
       "    <tr>\n",
       "      <th>3</th>\n",
       "      <td>70000</td>\n",
       "      <td>0.011386</td>\n",
       "      <td>38659</td>\n",
       "      <td>0.016843</td>\n",
       "      <td>39423</td>\n",
       "      <td>0.026738</td>\n",
       "      <td>38355</td>\n",
       "      <td>0.038886</td>\n",
       "      <td>36171</td>\n",
       "      <td>0.051189</td>\n",
       "      <td>37042</td>\n",
       "      <td>1</td>\n",
       "    </tr>\n",
       "    <tr>\n",
       "      <th>4</th>\n",
       "      <td>200000</td>\n",
       "      <td>0.002430</td>\n",
       "      <td>700</td>\n",
       "      <td>0.003595</td>\n",
       "      <td>1166</td>\n",
       "      <td>0.005287</td>\n",
       "      <td>782</td>\n",
       "      <td>0.006735</td>\n",
       "      <td>1098</td>\n",
       "      <td>0.008409</td>\n",
       "      <td>1587</td>\n",
       "      <td>0</td>\n",
       "    </tr>\n",
       "    <tr>\n",
       "      <th>...</th>\n",
       "      <td>...</td>\n",
       "      <td>...</td>\n",
       "      <td>...</td>\n",
       "      <td>...</td>\n",
       "      <td>...</td>\n",
       "      <td>...</td>\n",
       "      <td>...</td>\n",
       "      <td>...</td>\n",
       "      <td>...</td>\n",
       "      <td>...</td>\n",
       "      <td>...</td>\n",
       "      <td>...</td>\n",
       "    </tr>\n",
       "    <tr>\n",
       "      <th>2986</th>\n",
       "      <td>220000</td>\n",
       "      <td>0.001200</td>\n",
       "      <td>528</td>\n",
       "      <td>0.001800</td>\n",
       "      <td>292</td>\n",
       "      <td>0.002800</td>\n",
       "      <td>264</td>\n",
       "      <td>0.003900</td>\n",
       "      <td>264</td>\n",
       "      <td>0.005040</td>\n",
       "      <td>528</td>\n",
       "      <td>0</td>\n",
       "    </tr>\n",
       "    <tr>\n",
       "      <th>2987</th>\n",
       "      <td>180000</td>\n",
       "      <td>0.062861</td>\n",
       "      <td>1415</td>\n",
       "      <td>0.100319</td>\n",
       "      <td>14834</td>\n",
       "      <td>0.166233</td>\n",
       "      <td>28674</td>\n",
       "      <td>0.247522</td>\n",
       "      <td>44638</td>\n",
       "      <td>0.330443</td>\n",
       "      <td>51323</td>\n",
       "      <td>0</td>\n",
       "    </tr>\n",
       "    <tr>\n",
       "      <th>2988</th>\n",
       "      <td>50000</td>\n",
       "      <td>0.095540</td>\n",
       "      <td>19971</td>\n",
       "      <td>0.429430</td>\n",
       "      <td>50360</td>\n",
       "      <td>0.790233</td>\n",
       "      <td>49397</td>\n",
       "      <td>0.862690</td>\n",
       "      <td>49123</td>\n",
       "      <td>0.938080</td>\n",
       "      <td>43998</td>\n",
       "      <td>0</td>\n",
       "    </tr>\n",
       "    <tr>\n",
       "      <th>2989</th>\n",
       "      <td>100000</td>\n",
       "      <td>0.164690</td>\n",
       "      <td>69473</td>\n",
       "      <td>0.185455</td>\n",
       "      <td>70626</td>\n",
       "      <td>0.327453</td>\n",
       "      <td>102996</td>\n",
       "      <td>0.595457</td>\n",
       "      <td>1427</td>\n",
       "      <td>0.679300</td>\n",
       "      <td>3042</td>\n",
       "      <td>0</td>\n",
       "    </tr>\n",
       "    <tr>\n",
       "      <th>2990</th>\n",
       "      <td>80000</td>\n",
       "      <td>0.018113</td>\n",
       "      <td>82607</td>\n",
       "      <td>0.030062</td>\n",
       "      <td>77519</td>\n",
       "      <td>0.049783</td>\n",
       "      <td>79384</td>\n",
       "      <td>0.071025</td>\n",
       "      <td>77708</td>\n",
       "      <td>0.092747</td>\n",
       "      <td>72557</td>\n",
       "      <td>1</td>\n",
       "    </tr>\n",
       "  </tbody>\n",
       "</table>\n",
       "<p>2991 rows × 12 columns</p>\n",
       "</div>"
      ],
      "text/plain": [
       "      LIMIT_BAL  Avg_exp_5  BILL_AMT5  Avg_exp_4  BILL_AMT4  Avg_exp_3  \\\n",
       "0        100000   0.009610       -159   0.014415        221   0.020487   \n",
       "1         20000   0.022550      17905   0.033375      18338   0.054033   \n",
       "2        360000   0.000000          0   0.000000          0   0.000000   \n",
       "3         70000   0.011386      38659   0.016843      39423   0.026738   \n",
       "4        200000   0.002430        700   0.003595       1166   0.005287   \n",
       "...         ...        ...        ...        ...        ...        ...   \n",
       "2986     220000   0.001200        528   0.001800        292   0.002800   \n",
       "2987     180000   0.062861       1415   0.100319      14834   0.166233   \n",
       "2988      50000   0.095540      19971   0.429430      50360   0.790233   \n",
       "2989     100000   0.164690      69473   0.185455      70626   0.327453   \n",
       "2990      80000   0.018113      82607   0.030062      77519   0.049783   \n",
       "\n",
       "      BILL_AMT3  Avg_exp_2  BILL_AMT2  Avg_exp_1  BILL_AMT1  def_pay  \n",
       "0           601   0.023970        380   0.050572      11876        0  \n",
       "1         17428   0.080975      18010   0.108460      15376        1  \n",
       "2             0   0.000000          0   0.000000          0        0  \n",
       "3         38355   0.038886      36171   0.051189      37042        1  \n",
       "4           782   0.006735       1098   0.008409       1587        0  \n",
       "...         ...        ...        ...        ...        ...      ...  \n",
       "2986        264   0.003900        264   0.005040        528        0  \n",
       "2987      28674   0.247522      44638   0.330443      51323        0  \n",
       "2988      49397   0.862690      49123   0.938080      43998        0  \n",
       "2989     102996   0.595457       1427   0.679300       3042        0  \n",
       "2990      79384   0.071025      77708   0.092747      72557        1  \n",
       "\n",
       "[2991 rows x 12 columns]"
      ]
     },
     "execution_count": 66,
     "metadata": {},
     "output_type": "execute_result"
    }
   ],
   "source": [
    "from pyspark.sql.functions import col\n",
    "\n",
    "# Define the columns and perform the calculations\n",
    "df = df.withColumn(\"Avg_exp_5\", ((col(\"BILL_AMT5\") - (col(\"BILL_AMT6\") - col(\"PAY_AMT5\"))) / col(\"LIMIT_BAL\")))\n",
    "df = df.withColumn(\"Avg_exp_4\", (((col(\"BILL_AMT5\") - (col(\"BILL_AMT6\") - col(\"PAY_AMT5\"))) +\n",
    "                 (col(\"BILL_AMT4\") - (col(\"BILL_AMT5\") - col(\"PAY_AMT4\"))) / 2) / col(\"LIMIT_BAL\")))\n",
    "df = df.withColumn(\"Avg_exp_3\", (((col(\"BILL_AMT5\") - (col(\"BILL_AMT6\") - col(\"PAY_AMT5\"))) +\n",
    "                 (col(\"BILL_AMT4\") - (col(\"BILL_AMT5\") - col(\"PAY_AMT4\"))) +\n",
    "                 (col(\"BILL_AMT3\") - (col(\"BILL_AMT4\") - col(\"PAY_AMT3\"))) / 3) / col(\"LIMIT_BAL\")))\n",
    "df = df.withColumn(\"Avg_exp_2\", (((col(\"BILL_AMT5\") - (col(\"BILL_AMT6\") - col(\"PAY_AMT5\"))) +\n",
    "                 (col(\"BILL_AMT4\") - (col(\"BILL_AMT5\") - col(\"PAY_AMT4\"))) +\n",
    "                 (col(\"BILL_AMT3\") - (col(\"BILL_AMT4\") - col(\"PAY_AMT3\"))) +\n",
    "                 (col(\"BILL_AMT2\") - (col(\"BILL_AMT3\") - col(\"PAY_AMT2\"))) / 4) / col(\"LIMIT_BAL\")))\n",
    "df = df.withColumn(\"Avg_exp_1\", (((col(\"BILL_AMT5\") - (col(\"BILL_AMT6\") - col(\"PAY_AMT5\"))) +\n",
    "                 (col(\"BILL_AMT4\") - (col(\"BILL_AMT5\") - col(\"PAY_AMT4\"))) +\n",
    "                 (col(\"BILL_AMT3\") - (col(\"BILL_AMT4\") - col(\"PAY_AMT3\"))) +\n",
    "                 (col(\"BILL_AMT2\") - (col(\"BILL_AMT3\") - col(\"PAY_AMT2\"))) +\n",
    "                 (col(\"BILL_AMT1\") - (col(\"BILL_AMT2\") - col(\"PAY_AMT1\"))) / 5) / col(\"LIMIT_BAL\")))\n",
    "\n",
    "# Select the columns of interest and sample 20 rows\n",
    "result_df = df.select(\"LIMIT_BAL\", \"Avg_exp_5\", \"BILL_AMT5\", \"Avg_exp_4\", \"BILL_AMT4\",\n",
    "                      \"Avg_exp_3\", \"BILL_AMT3\", \"Avg_exp_2\", \"BILL_AMT2\", \"Avg_exp_1\",\n",
    "                      \"BILL_AMT1\", \"def_pay\").sample(withReplacement=False, fraction=0.1, seed=42)\n",
    "\n",
    "# Show the resulting DataFrame\n",
    "result_df.toPandas()\n"
   ]
  },
  {
   "cell_type": "raw",
   "id": "634e5b68-8f8f-4520-8a4f-47544202b819",
   "metadata": {},
   "source": [
    "One last thing: how far the bill is from the limit should matter, thus I will create that variable. Since the result can vary a lot from one client to the other (the LIMIT_BAL variable has a very wide range), I will again weight this difference on the LIMIT_BAL feature"
   ]
  },
  {
   "cell_type": "code",
   "execution_count": 67,
   "id": "bf098f0f-4f69-49c6-8617-ebdaaf39c1d4",
   "metadata": {
    "tags": []
   },
   "outputs": [],
   "source": [
    "# Create the 'Closeness_X' columns\n",
    "for month in range(1, 7):\n",
    "    df = df.withColumn(f\"Closeness_{month}\", (col(\"LIMIT_BAL\") - col(f\"BILL_AMT{month}\")) / col(\"LIMIT_BAL\"))\n"
   ]
  },
  {
   "cell_type": "code",
   "execution_count": 68,
   "id": "744c2da4-8698-4816-83d0-5dfe0c0fecf8",
   "metadata": {
    "tags": []
   },
   "outputs": [
    {
     "name": "stdout",
     "output_type": "stream",
     "text": [
      "root\n",
      " |-- ID: integer (nullable = true)\n",
      " |-- LIMIT_BAL: integer (nullable = true)\n",
      " |-- SEX: integer (nullable = true)\n",
      " |-- EDUCATION: integer (nullable = true)\n",
      " |-- MARRIAGE: integer (nullable = true)\n",
      " |-- AGE: integer (nullable = true)\n",
      " |-- PAY_1: integer (nullable = true)\n",
      " |-- PAY_2: integer (nullable = true)\n",
      " |-- PAY_3: integer (nullable = true)\n",
      " |-- PAY_4: integer (nullable = true)\n",
      " |-- PAY_5: integer (nullable = true)\n",
      " |-- PAY_6: integer (nullable = true)\n",
      " |-- BILL_AMT1: integer (nullable = true)\n",
      " |-- BILL_AMT2: integer (nullable = true)\n",
      " |-- BILL_AMT3: integer (nullable = true)\n",
      " |-- BILL_AMT4: integer (nullable = true)\n",
      " |-- BILL_AMT5: integer (nullable = true)\n",
      " |-- BILL_AMT6: integer (nullable = true)\n",
      " |-- PAY_AMT1: integer (nullable = true)\n",
      " |-- PAY_AMT2: integer (nullable = true)\n",
      " |-- PAY_AMT3: integer (nullable = true)\n",
      " |-- PAY_AMT4: integer (nullable = true)\n",
      " |-- PAY_AMT5: integer (nullable = true)\n",
      " |-- PAY_AMT6: integer (nullable = true)\n",
      " |-- def_pay: integer (nullable = true)\n",
      " |-- SE_MA: integer (nullable = false)\n",
      " |-- AgeBin: integer (nullable = false)\n",
      " |-- SE_AG: integer (nullable = false)\n",
      " |-- Client_6: integer (nullable = false)\n",
      " |-- Client_5: integer (nullable = false)\n",
      " |-- Client_4: integer (nullable = false)\n",
      " |-- Client_3: integer (nullable = false)\n",
      " |-- Client_2: integer (nullable = false)\n",
      " |-- Client_1: integer (nullable = false)\n",
      " |-- Avg_exp_5: double (nullable = true)\n",
      " |-- Avg_exp_4: double (nullable = true)\n",
      " |-- Avg_exp_3: double (nullable = true)\n",
      " |-- Avg_exp_2: double (nullable = true)\n",
      " |-- Avg_exp_1: double (nullable = true)\n",
      " |-- Closeness_1: double (nullable = true)\n",
      " |-- Closeness_2: double (nullable = true)\n",
      " |-- Closeness_3: double (nullable = true)\n",
      " |-- Closeness_4: double (nullable = true)\n",
      " |-- Closeness_5: double (nullable = true)\n",
      " |-- Closeness_6: double (nullable = true)\n",
      "\n"
     ]
    }
   ],
   "source": [
    "df.printSchema()"
   ]
  },
  {
   "cell_type": "code",
   "execution_count": 69,
   "id": "90024dff-64cd-4807-987c-c97fa94ac1eb",
   "metadata": {
    "tags": []
   },
   "outputs": [
    {
     "data": {
      "text/html": [
       "<div>\n",
       "<style scoped>\n",
       "    .dataframe tbody tr th:only-of-type {\n",
       "        vertical-align: middle;\n",
       "    }\n",
       "\n",
       "    .dataframe tbody tr th {\n",
       "        vertical-align: top;\n",
       "    }\n",
       "\n",
       "    .dataframe thead th {\n",
       "        text-align: right;\n",
       "    }\n",
       "</style>\n",
       "<table border=\"1\" class=\"dataframe\">\n",
       "  <thead>\n",
       "    <tr style=\"text-align: right;\">\n",
       "      <th></th>\n",
       "      <th>ID</th>\n",
       "      <th>LIMIT_BAL</th>\n",
       "      <th>SEX</th>\n",
       "      <th>EDUCATION</th>\n",
       "      <th>MARRIAGE</th>\n",
       "      <th>AGE</th>\n",
       "      <th>PAY_1</th>\n",
       "      <th>PAY_2</th>\n",
       "      <th>PAY_3</th>\n",
       "      <th>PAY_4</th>\n",
       "      <th>...</th>\n",
       "      <th>Avg_exp_4</th>\n",
       "      <th>Avg_exp_3</th>\n",
       "      <th>Avg_exp_2</th>\n",
       "      <th>Avg_exp_1</th>\n",
       "      <th>Closeness_1</th>\n",
       "      <th>Closeness_2</th>\n",
       "      <th>Closeness_3</th>\n",
       "      <th>Closeness_4</th>\n",
       "      <th>Closeness_5</th>\n",
       "      <th>Closeness_6</th>\n",
       "    </tr>\n",
       "  </thead>\n",
       "  <tbody>\n",
       "    <tr>\n",
       "      <th>0</th>\n",
       "      <td>1</td>\n",
       "      <td>20000</td>\n",
       "      <td>2</td>\n",
       "      <td>2</td>\n",
       "      <td>1</td>\n",
       "      <td>24</td>\n",
       "      <td>2</td>\n",
       "      <td>2</td>\n",
       "      <td>0</td>\n",
       "      <td>0</td>\n",
       "      <td>...</td>\n",
       "      <td>0.000000</td>\n",
       "      <td>0.011483</td>\n",
       "      <td>0.073225</td>\n",
       "      <td>0.197660</td>\n",
       "      <td>0.804350</td>\n",
       "      <td>0.844900</td>\n",
       "      <td>0.965550</td>\n",
       "      <td>1.000000</td>\n",
       "      <td>1.000000</td>\n",
       "      <td>1.000000</td>\n",
       "    </tr>\n",
       "    <tr>\n",
       "      <th>1</th>\n",
       "      <td>2</td>\n",
       "      <td>120000</td>\n",
       "      <td>2</td>\n",
       "      <td>2</td>\n",
       "      <td>2</td>\n",
       "      <td>26</td>\n",
       "      <td>0</td>\n",
       "      <td>2</td>\n",
       "      <td>0</td>\n",
       "      <td>0</td>\n",
       "      <td>...</td>\n",
       "      <td>0.005021</td>\n",
       "      <td>0.009564</td>\n",
       "      <td>0.011931</td>\n",
       "      <td>0.013795</td>\n",
       "      <td>0.977650</td>\n",
       "      <td>0.985625</td>\n",
       "      <td>0.977650</td>\n",
       "      <td>0.972733</td>\n",
       "      <td>0.971208</td>\n",
       "      <td>0.972825</td>\n",
       "    </tr>\n",
       "    <tr>\n",
       "      <th>2</th>\n",
       "      <td>3</td>\n",
       "      <td>90000</td>\n",
       "      <td>2</td>\n",
       "      <td>2</td>\n",
       "      <td>2</td>\n",
       "      <td>34</td>\n",
       "      <td>0</td>\n",
       "      <td>0</td>\n",
       "      <td>0</td>\n",
       "      <td>0</td>\n",
       "      <td>...</td>\n",
       "      <td>0.006561</td>\n",
       "      <td>0.009533</td>\n",
       "      <td>0.016689</td>\n",
       "      <td>0.070267</td>\n",
       "      <td>0.675122</td>\n",
       "      <td>0.844144</td>\n",
       "      <td>0.849344</td>\n",
       "      <td>0.840767</td>\n",
       "      <td>0.833911</td>\n",
       "      <td>0.827233</td>\n",
       "    </tr>\n",
       "    <tr>\n",
       "      <th>3</th>\n",
       "      <td>4</td>\n",
       "      <td>50000</td>\n",
       "      <td>2</td>\n",
       "      <td>2</td>\n",
       "      <td>1</td>\n",
       "      <td>37</td>\n",
       "      <td>0</td>\n",
       "      <td>0</td>\n",
       "      <td>0</td>\n",
       "      <td>0</td>\n",
       "      <td>...</td>\n",
       "      <td>0.014170</td>\n",
       "      <td>0.166567</td>\n",
       "      <td>0.467065</td>\n",
       "      <td>0.484508</td>\n",
       "      <td>0.060200</td>\n",
       "      <td>0.035340</td>\n",
       "      <td>0.014180</td>\n",
       "      <td>0.433720</td>\n",
       "      <td>0.420820</td>\n",
       "      <td>0.409060</td>\n",
       "    </tr>\n",
       "    <tr>\n",
       "      <th>4</th>\n",
       "      <td>5</td>\n",
       "      <td>50000</td>\n",
       "      <td>1</td>\n",
       "      <td>2</td>\n",
       "      <td>1</td>\n",
       "      <td>57</td>\n",
       "      <td>0</td>\n",
       "      <td>0</td>\n",
       "      <td>0</td>\n",
       "      <td>0</td>\n",
       "      <td>...</td>\n",
       "      <td>0.122020</td>\n",
       "      <td>0.395927</td>\n",
       "      <td>0.760440</td>\n",
       "      <td>0.877968</td>\n",
       "      <td>0.827660</td>\n",
       "      <td>0.886600</td>\n",
       "      <td>0.283300</td>\n",
       "      <td>0.581200</td>\n",
       "      <td>0.617080</td>\n",
       "      <td>0.617380</td>\n",
       "    </tr>\n",
       "    <tr>\n",
       "      <th>...</th>\n",
       "      <td>...</td>\n",
       "      <td>...</td>\n",
       "      <td>...</td>\n",
       "      <td>...</td>\n",
       "      <td>...</td>\n",
       "      <td>...</td>\n",
       "      <td>...</td>\n",
       "      <td>...</td>\n",
       "      <td>...</td>\n",
       "      <td>...</td>\n",
       "      <td>...</td>\n",
       "      <td>...</td>\n",
       "      <td>...</td>\n",
       "      <td>...</td>\n",
       "      <td>...</td>\n",
       "      <td>...</td>\n",
       "      <td>...</td>\n",
       "      <td>...</td>\n",
       "      <td>...</td>\n",
       "      <td>...</td>\n",
       "      <td>...</td>\n",
       "    </tr>\n",
       "    <tr>\n",
       "      <th>29995</th>\n",
       "      <td>29996</td>\n",
       "      <td>220000</td>\n",
       "      <td>1</td>\n",
       "      <td>3</td>\n",
       "      <td>1</td>\n",
       "      <td>39</td>\n",
       "      <td>0</td>\n",
       "      <td>0</td>\n",
       "      <td>0</td>\n",
       "      <td>0</td>\n",
       "      <td>...</td>\n",
       "      <td>0.228018</td>\n",
       "      <td>0.553905</td>\n",
       "      <td>0.938852</td>\n",
       "      <td>0.958235</td>\n",
       "      <td>0.141145</td>\n",
       "      <td>0.123568</td>\n",
       "      <td>0.052886</td>\n",
       "      <td>0.599982</td>\n",
       "      <td>0.858014</td>\n",
       "      <td>0.927364</td>\n",
       "    </tr>\n",
       "    <tr>\n",
       "      <th>29996</th>\n",
       "      <td>29997</td>\n",
       "      <td>150000</td>\n",
       "      <td>1</td>\n",
       "      <td>3</td>\n",
       "      <td>2</td>\n",
       "      <td>43</td>\n",
       "      <td>0</td>\n",
       "      <td>0</td>\n",
       "      <td>0</td>\n",
       "      <td>0</td>\n",
       "      <td>...</td>\n",
       "      <td>0.047660</td>\n",
       "      <td>0.068544</td>\n",
       "      <td>0.087280</td>\n",
       "      <td>0.098796</td>\n",
       "      <td>0.988780</td>\n",
       "      <td>0.987813</td>\n",
       "      <td>0.976653</td>\n",
       "      <td>0.940140</td>\n",
       "      <td>0.965400</td>\n",
       "      <td>1.000000</td>\n",
       "    </tr>\n",
       "    <tr>\n",
       "      <th>29997</th>\n",
       "      <td>29998</td>\n",
       "      <td>30000</td>\n",
       "      <td>1</td>\n",
       "      <td>2</td>\n",
       "      <td>2</td>\n",
       "      <td>37</td>\n",
       "      <td>4</td>\n",
       "      <td>3</td>\n",
       "      <td>2</td>\n",
       "      <td>0</td>\n",
       "      <td>...</td>\n",
       "      <td>0.182433</td>\n",
       "      <td>0.300478</td>\n",
       "      <td>0.391683</td>\n",
       "      <td>0.408027</td>\n",
       "      <td>0.881167</td>\n",
       "      <td>0.888133</td>\n",
       "      <td>0.908067</td>\n",
       "      <td>0.304067</td>\n",
       "      <td>0.313933</td>\n",
       "      <td>0.354767</td>\n",
       "    </tr>\n",
       "    <tr>\n",
       "      <th>29998</th>\n",
       "      <td>29999</td>\n",
       "      <td>80000</td>\n",
       "      <td>1</td>\n",
       "      <td>3</td>\n",
       "      <td>1</td>\n",
       "      <td>41</td>\n",
       "      <td>1</td>\n",
       "      <td>0</td>\n",
       "      <td>0</td>\n",
       "      <td>0</td>\n",
       "      <td>...</td>\n",
       "      <td>0.466219</td>\n",
       "      <td>0.836950</td>\n",
       "      <td>1.059988</td>\n",
       "      <td>1.126090</td>\n",
       "      <td>1.020563</td>\n",
       "      <td>0.020262</td>\n",
       "      <td>0.046200</td>\n",
       "      <td>0.340325</td>\n",
       "      <td>0.851812</td>\n",
       "      <td>0.388200</td>\n",
       "    </tr>\n",
       "    <tr>\n",
       "      <th>29999</th>\n",
       "      <td>30000</td>\n",
       "      <td>50000</td>\n",
       "      <td>1</td>\n",
       "      <td>2</td>\n",
       "      <td>1</td>\n",
       "      <td>46</td>\n",
       "      <td>0</td>\n",
       "      <td>0</td>\n",
       "      <td>0</td>\n",
       "      <td>0</td>\n",
       "      <td>...</td>\n",
       "      <td>0.413370</td>\n",
       "      <td>0.562167</td>\n",
       "      <td>0.762325</td>\n",
       "      <td>0.780848</td>\n",
       "      <td>0.041420</td>\n",
       "      <td>0.021900</td>\n",
       "      <td>0.004720</td>\n",
       "      <td>0.269300</td>\n",
       "      <td>0.351440</td>\n",
       "      <td>0.693740</td>\n",
       "    </tr>\n",
       "  </tbody>\n",
       "</table>\n",
       "<p>30000 rows × 45 columns</p>\n",
       "</div>"
      ],
      "text/plain": [
       "          ID  LIMIT_BAL  SEX  EDUCATION  MARRIAGE  AGE  PAY_1  PAY_2  PAY_3  \\\n",
       "0          1      20000    2          2         1   24      2      2      0   \n",
       "1          2     120000    2          2         2   26      0      2      0   \n",
       "2          3      90000    2          2         2   34      0      0      0   \n",
       "3          4      50000    2          2         1   37      0      0      0   \n",
       "4          5      50000    1          2         1   57      0      0      0   \n",
       "...      ...        ...  ...        ...       ...  ...    ...    ...    ...   \n",
       "29995  29996     220000    1          3         1   39      0      0      0   \n",
       "29996  29997     150000    1          3         2   43      0      0      0   \n",
       "29997  29998      30000    1          2         2   37      4      3      2   \n",
       "29998  29999      80000    1          3         1   41      1      0      0   \n",
       "29999  30000      50000    1          2         1   46      0      0      0   \n",
       "\n",
       "       PAY_4  ...  Avg_exp_4  Avg_exp_3  Avg_exp_2  Avg_exp_1  Closeness_1  \\\n",
       "0          0  ...   0.000000   0.011483   0.073225   0.197660     0.804350   \n",
       "1          0  ...   0.005021   0.009564   0.011931   0.013795     0.977650   \n",
       "2          0  ...   0.006561   0.009533   0.016689   0.070267     0.675122   \n",
       "3          0  ...   0.014170   0.166567   0.467065   0.484508     0.060200   \n",
       "4          0  ...   0.122020   0.395927   0.760440   0.877968     0.827660   \n",
       "...      ...  ...        ...        ...        ...        ...          ...   \n",
       "29995      0  ...   0.228018   0.553905   0.938852   0.958235     0.141145   \n",
       "29996      0  ...   0.047660   0.068544   0.087280   0.098796     0.988780   \n",
       "29997      0  ...   0.182433   0.300478   0.391683   0.408027     0.881167   \n",
       "29998      0  ...   0.466219   0.836950   1.059988   1.126090     1.020563   \n",
       "29999      0  ...   0.413370   0.562167   0.762325   0.780848     0.041420   \n",
       "\n",
       "       Closeness_2  Closeness_3  Closeness_4  Closeness_5  Closeness_6  \n",
       "0         0.844900     0.965550     1.000000     1.000000     1.000000  \n",
       "1         0.985625     0.977650     0.972733     0.971208     0.972825  \n",
       "2         0.844144     0.849344     0.840767     0.833911     0.827233  \n",
       "3         0.035340     0.014180     0.433720     0.420820     0.409060  \n",
       "4         0.886600     0.283300     0.581200     0.617080     0.617380  \n",
       "...            ...          ...          ...          ...          ...  \n",
       "29995     0.123568     0.052886     0.599982     0.858014     0.927364  \n",
       "29996     0.987813     0.976653     0.940140     0.965400     1.000000  \n",
       "29997     0.888133     0.908067     0.304067     0.313933     0.354767  \n",
       "29998     0.020262     0.046200     0.340325     0.851812     0.388200  \n",
       "29999     0.021900     0.004720     0.269300     0.351440     0.693740  \n",
       "\n",
       "[30000 rows x 45 columns]"
      ]
     },
     "execution_count": 69,
     "metadata": {},
     "output_type": "execute_result"
    }
   ],
   "source": [
    "df.toPandas()"
   ]
  },
  {
   "cell_type": "markdown",
   "id": "7f636b05-3406-4045-8386-0e3b66904872",
   "metadata": {},
   "source": [
    "### Unbalanced Target Variable"
   ]
  },
  {
   "cell_type": "code",
   "execution_count": 70,
   "id": "819c7fd5-aff5-4b17-9d95-7d6910e38a13",
   "metadata": {
    "tags": []
   },
   "outputs": [
    {
     "name": "stdout",
     "output_type": "stream",
     "text": [
      "+-------+-----+\n",
      "|def_pay|count|\n",
      "+-------+-----+\n",
      "|      1| 6636|\n",
      "|      0|23364|\n",
      "+-------+-----+\n",
      "\n"
     ]
    }
   ],
   "source": [
    "class_counts = df.groupBy(\"def_pay\").count()\n",
    "class_counts.show()"
   ]
  },
  {
   "cell_type": "code",
   "execution_count": 81,
   "id": "90e3598a-6bb3-4d53-9058-59e6cdebf046",
   "metadata": {
    "tags": []
   },
   "outputs": [
    {
     "data": {
      "text/plain": [
       "(30000, 45)"
      ]
     },
     "execution_count": 81,
     "metadata": {},
     "output_type": "execute_result"
    }
   ],
   "source": [
    "temp_df=df.toPandas()\n",
    "temp_df.shape"
   ]
  },
  {
   "cell_type": "raw",
   "id": "a1eebdfc-b0bc-4cee-a1f5-43fcdc61eb8c",
   "metadata": {},
   "source": [
    "Ftom the above target label, we can see that the both the classes in def_pay column is unbalanced. to deal with this we can try three methods\n",
    "1. upsample low count class to match.\n",
    "2. Down sample the high count class to match to low one.\n",
    "3. Using SMOTE algorithm to create synthetic data.\n",
    "\n",
    "I chose SMOTE. SMOTE introduces some randomness in creating synthetic minority instances and serves as a more robust solution than simply resample."
   ]
  },
  {
   "cell_type": "code",
   "execution_count": 72,
   "id": "fef835a8-c8ac-418c-8728-b646b80d64a9",
   "metadata": {
    "tags": []
   },
   "outputs": [],
   "source": [
    "df1=df # create a temporary copy of the orginal dataframe so that any changes in the temporary one will not affect the orginal dataframe."
   ]
  },
  {
   "cell_type": "code",
   "execution_count": 74,
   "id": "1bd75e16-4ab9-4c5b-b60d-f7db93abd43c",
   "metadata": {
    "tags": []
   },
   "outputs": [
    {
     "name": "stdout",
     "output_type": "stream",
     "text": [
      "Collecting imbalanced-learn\n",
      "  Obtaining dependency information for imbalanced-learn from https://files.pythonhosted.org/packages/a3/9e/fbe60a768502af54563dcb59ca7856f5a8833b3ad5ada658922e1ab09b7f/imbalanced_learn-0.11.0-py3-none-any.whl.metadata\n",
      "  Downloading imbalanced_learn-0.11.0-py3-none-any.whl.metadata (8.3 kB)\n",
      "Requirement already satisfied: numpy>=1.17.3 in /home/student/miniconda3/envs/bd/lib/python3.11/site-packages (from imbalanced-learn) (1.24.3)\n",
      "Requirement already satisfied: scipy>=1.5.0 in /home/student/miniconda3/envs/bd/lib/python3.11/site-packages (from imbalanced-learn) (1.11.1)\n",
      "Requirement already satisfied: scikit-learn>=1.0.2 in /home/student/miniconda3/envs/bd/lib/python3.11/site-packages (from imbalanced-learn) (1.3.0)\n",
      "Requirement already satisfied: joblib>=1.1.1 in /home/student/miniconda3/envs/bd/lib/python3.11/site-packages (from imbalanced-learn) (1.2.0)\n",
      "Requirement already satisfied: threadpoolctl>=2.0.0 in /home/student/miniconda3/envs/bd/lib/python3.11/site-packages (from imbalanced-learn) (2.2.0)\n",
      "Downloading imbalanced_learn-0.11.0-py3-none-any.whl (235 kB)\n",
      "\u001b[2K   \u001b[38;2;114;156;31m━━━━━━━━━━━━━━━━━━━━━━━━━━━━━━━━━━━━━━━━\u001b[0m \u001b[32m235.6/235.6 kB\u001b[0m \u001b[31m11.5 MB/s\u001b[0m eta \u001b[36m0:00:00\u001b[0m\n",
      "\u001b[?25hInstalling collected packages: imbalanced-learn\n",
      "Successfully installed imbalanced-learn-0.11.0\n",
      "Note: you may need to restart the kernel to use updated packages.\n"
     ]
    }
   ],
   "source": [
    "pip install imbalanced-learn"
   ]
  },
  {
   "cell_type": "code",
   "execution_count": 77,
   "id": "8eee6ca0-5379-4a0c-a3a0-cfff85f227f3",
   "metadata": {
    "tags": []
   },
   "outputs": [
    {
     "name": "stdout",
     "output_type": "stream",
     "text": [
      "+-------+-----+\n",
      "|def_pay|count|\n",
      "+-------+-----+\n",
      "|      0|23364|\n",
      "|      1|23364|\n",
      "+-------+-----+\n",
      "\n"
     ]
    }
   ],
   "source": [
    "from imblearn.over_sampling import SMOTE\n",
    "from pyspark.sql.functions import col\n",
    "\n",
    "# Define the target column name\n",
    "target_column = 'def_pay'\n",
    "\n",
    "# Select the feature columns and target column\n",
    "feature_columns = [col_name for col_name in df1.columns if col_name != target_column]\n",
    "df1 = df1.select(feature_columns + [target_column])\n",
    "\n",
    "# Convert the PySpark DataFrame to a pandas DataFrame\n",
    "pandas_df = df1.toPandas()\n",
    "\n",
    "# Apply SMOTE on the pandas DataFrame\n",
    "oversampler = SMOTE(sampling_strategy='auto', random_state=42)\n",
    "X_resampled, y_resampled = oversampler.fit_resample(pandas_df[feature_columns], pandas_df[target_column])\n",
    "\n",
    "# Create a new pandas DataFrame with resampled data\n",
    "resampled_df = pd.concat([pd.DataFrame(y_resampled, columns=[target_column]), pd.DataFrame(X_resampled, columns=feature_columns)], axis=1)\n",
    "\n",
    "# Convert the resampled pandas DataFrame back to a PySpark DataFrame\n",
    "resampled_df_spark = spark.createDataFrame(resampled_df)\n",
    "\n",
    "# Display the class distribution after SMOTE\n",
    "class_distribution = resampled_df_spark.groupBy(target_column).count()\n",
    "class_distribution.show()"
   ]
  },
  {
   "cell_type": "code",
   "execution_count": 80,
   "id": "d33fc826-854c-43f6-844c-b9bae2ee80e6",
   "metadata": {
    "tags": []
   },
   "outputs": [
    {
     "name": "stdout",
     "output_type": "stream",
     "text": [
      "+-------------+-----+\n",
      "|def_pay_smote|count|\n",
      "+-------------+-----+\n",
      "|            0|23364|\n",
      "|            1|23364|\n",
      "+-------------+-----+\n",
      "\n"
     ]
    }
   ],
   "source": [
    "resampled_df_spark.groupBy('def_pay_smote').count().show()"
   ]
  },
  {
   "cell_type": "code",
   "execution_count": 84,
   "id": "4d75098a-f308-44d7-a9d1-079c02c0d94d",
   "metadata": {
    "tags": []
   },
   "outputs": [
    {
     "data": {
      "text/plain": [
       "(46728, 46)"
      ]
     },
     "execution_count": 84,
     "metadata": {},
     "output_type": "execute_result"
    }
   ],
   "source": [
    "resampled_df_spark.toPandas().shape"
   ]
  },
  {
   "cell_type": "code",
   "execution_count": 85,
   "id": "61ab50fe-b638-450d-8374-53394ee188ea",
   "metadata": {
    "tags": []
   },
   "outputs": [
    {
     "data": {
      "text/html": [
       "<div>\n",
       "<style scoped>\n",
       "    .dataframe tbody tr th:only-of-type {\n",
       "        vertical-align: middle;\n",
       "    }\n",
       "\n",
       "    .dataframe tbody tr th {\n",
       "        vertical-align: top;\n",
       "    }\n",
       "\n",
       "    .dataframe thead th {\n",
       "        text-align: right;\n",
       "    }\n",
       "</style>\n",
       "<table border=\"1\" class=\"dataframe\">\n",
       "  <thead>\n",
       "    <tr style=\"text-align: right;\">\n",
       "      <th></th>\n",
       "      <th>def_pay</th>\n",
       "      <th>ID</th>\n",
       "      <th>LIMIT_BAL</th>\n",
       "      <th>SEX</th>\n",
       "      <th>EDUCATION</th>\n",
       "      <th>MARRIAGE</th>\n",
       "      <th>AGE</th>\n",
       "      <th>PAY_1</th>\n",
       "      <th>PAY_2</th>\n",
       "      <th>PAY_3</th>\n",
       "      <th>...</th>\n",
       "      <th>Avg_exp_3</th>\n",
       "      <th>Avg_exp_2</th>\n",
       "      <th>Avg_exp_1</th>\n",
       "      <th>Closeness_1</th>\n",
       "      <th>Closeness_2</th>\n",
       "      <th>Closeness_3</th>\n",
       "      <th>Closeness_4</th>\n",
       "      <th>Closeness_5</th>\n",
       "      <th>Closeness_6</th>\n",
       "      <th>def_pay_smote</th>\n",
       "    </tr>\n",
       "  </thead>\n",
       "  <tbody>\n",
       "    <tr>\n",
       "      <th>0</th>\n",
       "      <td>1</td>\n",
       "      <td>1</td>\n",
       "      <td>20000</td>\n",
       "      <td>2</td>\n",
       "      <td>2</td>\n",
       "      <td>1</td>\n",
       "      <td>24</td>\n",
       "      <td>2</td>\n",
       "      <td>2</td>\n",
       "      <td>0</td>\n",
       "      <td>...</td>\n",
       "      <td>0.011483</td>\n",
       "      <td>0.073225</td>\n",
       "      <td>0.197660</td>\n",
       "      <td>0.804350</td>\n",
       "      <td>0.844900</td>\n",
       "      <td>0.965550</td>\n",
       "      <td>1.000000</td>\n",
       "      <td>1.000000</td>\n",
       "      <td>1.000000</td>\n",
       "      <td>1</td>\n",
       "    </tr>\n",
       "    <tr>\n",
       "      <th>1</th>\n",
       "      <td>1</td>\n",
       "      <td>2</td>\n",
       "      <td>120000</td>\n",
       "      <td>2</td>\n",
       "      <td>2</td>\n",
       "      <td>2</td>\n",
       "      <td>26</td>\n",
       "      <td>0</td>\n",
       "      <td>2</td>\n",
       "      <td>0</td>\n",
       "      <td>...</td>\n",
       "      <td>0.009564</td>\n",
       "      <td>0.011931</td>\n",
       "      <td>0.013795</td>\n",
       "      <td>0.977650</td>\n",
       "      <td>0.985625</td>\n",
       "      <td>0.977650</td>\n",
       "      <td>0.972733</td>\n",
       "      <td>0.971208</td>\n",
       "      <td>0.972825</td>\n",
       "      <td>1</td>\n",
       "    </tr>\n",
       "    <tr>\n",
       "      <th>2</th>\n",
       "      <td>0</td>\n",
       "      <td>3</td>\n",
       "      <td>90000</td>\n",
       "      <td>2</td>\n",
       "      <td>2</td>\n",
       "      <td>2</td>\n",
       "      <td>34</td>\n",
       "      <td>0</td>\n",
       "      <td>0</td>\n",
       "      <td>0</td>\n",
       "      <td>...</td>\n",
       "      <td>0.009533</td>\n",
       "      <td>0.016689</td>\n",
       "      <td>0.070267</td>\n",
       "      <td>0.675122</td>\n",
       "      <td>0.844144</td>\n",
       "      <td>0.849344</td>\n",
       "      <td>0.840767</td>\n",
       "      <td>0.833911</td>\n",
       "      <td>0.827233</td>\n",
       "      <td>0</td>\n",
       "    </tr>\n",
       "    <tr>\n",
       "      <th>3</th>\n",
       "      <td>0</td>\n",
       "      <td>4</td>\n",
       "      <td>50000</td>\n",
       "      <td>2</td>\n",
       "      <td>2</td>\n",
       "      <td>1</td>\n",
       "      <td>37</td>\n",
       "      <td>0</td>\n",
       "      <td>0</td>\n",
       "      <td>0</td>\n",
       "      <td>...</td>\n",
       "      <td>0.166567</td>\n",
       "      <td>0.467065</td>\n",
       "      <td>0.484508</td>\n",
       "      <td>0.060200</td>\n",
       "      <td>0.035340</td>\n",
       "      <td>0.014180</td>\n",
       "      <td>0.433720</td>\n",
       "      <td>0.420820</td>\n",
       "      <td>0.409060</td>\n",
       "      <td>0</td>\n",
       "    </tr>\n",
       "    <tr>\n",
       "      <th>4</th>\n",
       "      <td>0</td>\n",
       "      <td>5</td>\n",
       "      <td>50000</td>\n",
       "      <td>1</td>\n",
       "      <td>2</td>\n",
       "      <td>1</td>\n",
       "      <td>57</td>\n",
       "      <td>0</td>\n",
       "      <td>0</td>\n",
       "      <td>0</td>\n",
       "      <td>...</td>\n",
       "      <td>0.395927</td>\n",
       "      <td>0.760440</td>\n",
       "      <td>0.877968</td>\n",
       "      <td>0.827660</td>\n",
       "      <td>0.886600</td>\n",
       "      <td>0.283300</td>\n",
       "      <td>0.581200</td>\n",
       "      <td>0.617080</td>\n",
       "      <td>0.617380</td>\n",
       "      <td>0</td>\n",
       "    </tr>\n",
       "    <tr>\n",
       "      <th>5</th>\n",
       "      <td>0</td>\n",
       "      <td>6</td>\n",
       "      <td>50000</td>\n",
       "      <td>1</td>\n",
       "      <td>1</td>\n",
       "      <td>2</td>\n",
       "      <td>37</td>\n",
       "      <td>0</td>\n",
       "      <td>0</td>\n",
       "      <td>0</td>\n",
       "      <td>...</td>\n",
       "      <td>0.286540</td>\n",
       "      <td>0.811200</td>\n",
       "      <td>0.869664</td>\n",
       "      <td>-0.288000</td>\n",
       "      <td>-0.141380</td>\n",
       "      <td>-0.152160</td>\n",
       "      <td>0.612120</td>\n",
       "      <td>0.607620</td>\n",
       "      <td>0.599520</td>\n",
       "      <td>0</td>\n",
       "    </tr>\n",
       "    <tr>\n",
       "      <th>6</th>\n",
       "      <td>0</td>\n",
       "      <td>7</td>\n",
       "      <td>500000</td>\n",
       "      <td>1</td>\n",
       "      <td>1</td>\n",
       "      <td>2</td>\n",
       "      <td>29</td>\n",
       "      <td>0</td>\n",
       "      <td>0</td>\n",
       "      <td>0</td>\n",
       "      <td>...</td>\n",
       "      <td>0.165632</td>\n",
       "      <td>0.089612</td>\n",
       "      <td>0.104513</td>\n",
       "      <td>0.264070</td>\n",
       "      <td>0.175954</td>\n",
       "      <td>0.109986</td>\n",
       "      <td>-0.085306</td>\n",
       "      <td>0.033994</td>\n",
       "      <td>0.052112</td>\n",
       "      <td>0</td>\n",
       "    </tr>\n",
       "    <tr>\n",
       "      <th>7</th>\n",
       "      <td>0</td>\n",
       "      <td>8</td>\n",
       "      <td>100000</td>\n",
       "      <td>2</td>\n",
       "      <td>2</td>\n",
       "      <td>2</td>\n",
       "      <td>23</td>\n",
       "      <td>0</td>\n",
       "      <td>0</td>\n",
       "      <td>0</td>\n",
       "      <td>...</td>\n",
       "      <td>0.020487</td>\n",
       "      <td>0.023970</td>\n",
       "      <td>0.050572</td>\n",
       "      <td>0.881240</td>\n",
       "      <td>0.996200</td>\n",
       "      <td>0.993990</td>\n",
       "      <td>0.997790</td>\n",
       "      <td>1.001590</td>\n",
       "      <td>0.994330</td>\n",
       "      <td>0</td>\n",
       "    </tr>\n",
       "    <tr>\n",
       "      <th>8</th>\n",
       "      <td>0</td>\n",
       "      <td>9</td>\n",
       "      <td>140000</td>\n",
       "      <td>2</td>\n",
       "      <td>3</td>\n",
       "      <td>1</td>\n",
       "      <td>28</td>\n",
       "      <td>0</td>\n",
       "      <td>0</td>\n",
       "      <td>2</td>\n",
       "      <td>...</td>\n",
       "      <td>0.075726</td>\n",
       "      <td>0.080843</td>\n",
       "      <td>0.092233</td>\n",
       "      <td>0.919393</td>\n",
       "      <td>0.899314</td>\n",
       "      <td>0.913514</td>\n",
       "      <td>0.912779</td>\n",
       "      <td>0.915764</td>\n",
       "      <td>0.973436</td>\n",
       "      <td>0</td>\n",
       "    </tr>\n",
       "    <tr>\n",
       "      <th>9</th>\n",
       "      <td>0</td>\n",
       "      <td>10</td>\n",
       "      <td>20000</td>\n",
       "      <td>1</td>\n",
       "      <td>3</td>\n",
       "      <td>2</td>\n",
       "      <td>35</td>\n",
       "      <td>0</td>\n",
       "      <td>0</td>\n",
       "      <td>0</td>\n",
       "      <td>...</td>\n",
       "      <td>0.010850</td>\n",
       "      <td>0.010850</td>\n",
       "      <td>0.010850</td>\n",
       "      <td>1.000000</td>\n",
       "      <td>1.000000</td>\n",
       "      <td>1.000000</td>\n",
       "      <td>1.000000</td>\n",
       "      <td>0.349650</td>\n",
       "      <td>0.304400</td>\n",
       "      <td>0</td>\n",
       "    </tr>\n",
       "  </tbody>\n",
       "</table>\n",
       "<p>10 rows × 46 columns</p>\n",
       "</div>"
      ],
      "text/plain": [
       "   def_pay  ID  LIMIT_BAL  SEX  EDUCATION  MARRIAGE  AGE  PAY_1  PAY_2  PAY_3  \\\n",
       "0        1   1      20000    2          2         1   24      2      2      0   \n",
       "1        1   2     120000    2          2         2   26      0      2      0   \n",
       "2        0   3      90000    2          2         2   34      0      0      0   \n",
       "3        0   4      50000    2          2         1   37      0      0      0   \n",
       "4        0   5      50000    1          2         1   57      0      0      0   \n",
       "5        0   6      50000    1          1         2   37      0      0      0   \n",
       "6        0   7     500000    1          1         2   29      0      0      0   \n",
       "7        0   8     100000    2          2         2   23      0      0      0   \n",
       "8        0   9     140000    2          3         1   28      0      0      2   \n",
       "9        0  10      20000    1          3         2   35      0      0      0   \n",
       "\n",
       "   ...  Avg_exp_3  Avg_exp_2  Avg_exp_1  Closeness_1  Closeness_2  \\\n",
       "0  ...   0.011483   0.073225   0.197660     0.804350     0.844900   \n",
       "1  ...   0.009564   0.011931   0.013795     0.977650     0.985625   \n",
       "2  ...   0.009533   0.016689   0.070267     0.675122     0.844144   \n",
       "3  ...   0.166567   0.467065   0.484508     0.060200     0.035340   \n",
       "4  ...   0.395927   0.760440   0.877968     0.827660     0.886600   \n",
       "5  ...   0.286540   0.811200   0.869664    -0.288000    -0.141380   \n",
       "6  ...   0.165632   0.089612   0.104513     0.264070     0.175954   \n",
       "7  ...   0.020487   0.023970   0.050572     0.881240     0.996200   \n",
       "8  ...   0.075726   0.080843   0.092233     0.919393     0.899314   \n",
       "9  ...   0.010850   0.010850   0.010850     1.000000     1.000000   \n",
       "\n",
       "   Closeness_3  Closeness_4  Closeness_5  Closeness_6  def_pay_smote  \n",
       "0     0.965550     1.000000     1.000000     1.000000              1  \n",
       "1     0.977650     0.972733     0.971208     0.972825              1  \n",
       "2     0.849344     0.840767     0.833911     0.827233              0  \n",
       "3     0.014180     0.433720     0.420820     0.409060              0  \n",
       "4     0.283300     0.581200     0.617080     0.617380              0  \n",
       "5    -0.152160     0.612120     0.607620     0.599520              0  \n",
       "6     0.109986    -0.085306     0.033994     0.052112              0  \n",
       "7     0.993990     0.997790     1.001590     0.994330              0  \n",
       "8     0.913514     0.912779     0.915764     0.973436              0  \n",
       "9     1.000000     1.000000     0.349650     0.304400              0  \n",
       "\n",
       "[10 rows x 46 columns]"
      ]
     },
     "execution_count": 85,
     "metadata": {},
     "output_type": "execute_result"
    }
   ],
   "source": [
    "resampled_df_spark.toPandas().head(10)"
   ]
  },
  {
   "cell_type": "code",
   "execution_count": 86,
   "id": "e095ae62-5e76-4b2d-bd44-afb180973a92",
   "metadata": {
    "tags": []
   },
   "outputs": [
    {
     "name": "stdout",
     "output_type": "stream",
     "text": [
      "root\n",
      " |-- ID: long (nullable = true)\n",
      " |-- LIMIT_BAL: long (nullable = true)\n",
      " |-- SEX: long (nullable = true)\n",
      " |-- EDUCATION: long (nullable = true)\n",
      " |-- MARRIAGE: long (nullable = true)\n",
      " |-- AGE: long (nullable = true)\n",
      " |-- PAY_1: long (nullable = true)\n",
      " |-- PAY_2: long (nullable = true)\n",
      " |-- PAY_3: long (nullable = true)\n",
      " |-- PAY_4: long (nullable = true)\n",
      " |-- PAY_5: long (nullable = true)\n",
      " |-- PAY_6: long (nullable = true)\n",
      " |-- BILL_AMT1: long (nullable = true)\n",
      " |-- BILL_AMT2: long (nullable = true)\n",
      " |-- BILL_AMT3: long (nullable = true)\n",
      " |-- BILL_AMT4: long (nullable = true)\n",
      " |-- BILL_AMT5: long (nullable = true)\n",
      " |-- BILL_AMT6: long (nullable = true)\n",
      " |-- PAY_AMT1: long (nullable = true)\n",
      " |-- PAY_AMT2: long (nullable = true)\n",
      " |-- PAY_AMT3: long (nullable = true)\n",
      " |-- PAY_AMT4: long (nullable = true)\n",
      " |-- PAY_AMT5: long (nullable = true)\n",
      " |-- PAY_AMT6: long (nullable = true)\n",
      " |-- SE_MA: long (nullable = true)\n",
      " |-- AgeBin: long (nullable = true)\n",
      " |-- SE_AG: long (nullable = true)\n",
      " |-- Client_6: long (nullable = true)\n",
      " |-- Client_5: long (nullable = true)\n",
      " |-- Client_4: long (nullable = true)\n",
      " |-- Client_3: long (nullable = true)\n",
      " |-- Client_2: long (nullable = true)\n",
      " |-- Client_1: long (nullable = true)\n",
      " |-- Avg_exp_5: double (nullable = true)\n",
      " |-- Avg_exp_4: double (nullable = true)\n",
      " |-- Avg_exp_3: double (nullable = true)\n",
      " |-- Avg_exp_2: double (nullable = true)\n",
      " |-- Avg_exp_1: double (nullable = true)\n",
      " |-- Closeness_1: double (nullable = true)\n",
      " |-- Closeness_2: double (nullable = true)\n",
      " |-- Closeness_3: double (nullable = true)\n",
      " |-- Closeness_4: double (nullable = true)\n",
      " |-- Closeness_5: double (nullable = true)\n",
      " |-- Closeness_6: double (nullable = true)\n",
      " |-- def_pay_smote: long (nullable = true)\n",
      "\n"
     ]
    }
   ],
   "source": [
    "# Drop the column def_pay. As def_pay and def_pay_smote are both same column.\n",
    "df_spark_new = resampled_df_spark.drop('def_pay')\n",
    "df_spark_new.printSchema()"
   ]
  },
  {
   "cell_type": "markdown",
   "id": "f7dd695c-e4b7-49dc-aab1-fab4b69270f0",
   "metadata": {},
   "source": [
    "## Train, Test split"
   ]
  },
  {
   "cell_type": "code",
   "execution_count": 90,
   "id": "b7293cb8-fad7-4a84-aea9-2347842a7f5f",
   "metadata": {
    "tags": []
   },
   "outputs": [
    {
     "name": "stdout",
     "output_type": "stream",
     "text": [
      "+---+---------+---+---------+--------+---+-----+-----+-----+-----+-----+-----+---------+---------+---------+---------+---------+---------+--------+--------+--------+--------+--------+--------+-----+------+-----+--------+--------+--------+--------+--------+--------+---------+---------+---------+---------+---------+-----------+-----------+-----------+-----------+-----------+-----------+-------------+\n",
      "| ID|LIMIT_BAL|SEX|EDUCATION|MARRIAGE|AGE|PAY_1|PAY_2|PAY_3|PAY_4|PAY_5|PAY_6|BILL_AMT1|BILL_AMT2|BILL_AMT3|BILL_AMT4|BILL_AMT5|BILL_AMT6|PAY_AMT1|PAY_AMT2|PAY_AMT3|PAY_AMT4|PAY_AMT5|PAY_AMT6|SE_MA|AgeBin|SE_AG|Client_6|Client_5|Client_4|Client_3|Client_2|Client_1|Avg_exp_5|Avg_exp_4|Avg_exp_3|Avg_exp_2|Avg_exp_1|Closeness_1|Closeness_2|Closeness_3|Closeness_4|Closeness_5|Closeness_6|def_pay_smote|\n",
      "+---+---------+---+---------+--------+---+-----+-----+-----+-----+-----+-----+---------+---------+---------+---------+---------+---------+--------+--------+--------+--------+--------+--------+-----+------+-----+--------+--------+--------+--------+--------+--------+---------+---------+---------+---------+---------+-----------+-----------+-----------+-----------+-----------+-----------+-------------+\n",
      "|  0|        0|  0|        0|       0|  0|    0|    0|    0|    0|    0|    0|        0|        0|        0|        0|        0|        0|       0|       0|       0|       0|       0|       0|    0|     0|    0|       0|       0|       0|       0|       0|       0|        0|        0|        0|        0|        0|          0|          0|          0|          0|          0|          0|            0|\n",
      "+---+---------+---+---------+--------+---+-----+-----+-----+-----+-----+-----+---------+---------+---------+---------+---------+---------+--------+--------+--------+--------+--------+--------+-----+------+-----+--------+--------+--------+--------+--------+--------+---------+---------+---------+---------+---------+-----------+-----------+-----------+-----------+-----------+-----------+-------------+\n",
      "\n"
     ]
    }
   ],
   "source": [
    "from pyspark.sql.functions import col, sum\n",
    "\n",
    "# Check for null values in each column\n",
    "null_counts = df_spark_new.select([sum(col(c).isNull().cast(\"int\")).alias(c) for c in df_spark_new.columns])\n",
    "\n",
    "# Display the counts of null values in each column\n",
    "null_counts.show()\n"
   ]
  },
  {
   "cell_type": "code",
   "execution_count": 91,
   "id": "6d8dc48b-0ec8-4086-a8bc-0c1af71877f6",
   "metadata": {
    "tags": []
   },
   "outputs": [],
   "source": [
    "# Split the data into training and testing sets using randomSplit\n",
    "train_df, test_df = df_spark_new.randomSplit([0.7, 0.3], seed=42)\n",
    "\n",
    "# Define features (all columns except 'def_pay_smote') and the target label\n",
    "features = [col for col in df_spark_new.columns if col != 'def_pay_smote']\n",
    "target_label = 'def_pay_smote'"
   ]
  },
  {
   "cell_type": "markdown",
   "id": "74a5c41f-b07a-45d8-ae91-2e787d900b67",
   "metadata": {},
   "source": [
    "### Logistic Regression"
   ]
  },
  {
   "cell_type": "code",
   "execution_count": 92,
   "id": "d5072049-32e9-4b84-b3cd-c4942fc2675b",
   "metadata": {
    "tags": []
   },
   "outputs": [
    {
     "name": "stderr",
     "output_type": "stream",
     "text": [
      "                                                                                \r"
     ]
    },
    {
     "name": "stdout",
     "output_type": "stream",
     "text": [
      "Area Under ROC Curve: 0.8684346483176747\n"
     ]
    }
   ],
   "source": [
    "from pyspark.ml.classification import LogisticRegression\n",
    "from pyspark.ml.evaluation import BinaryClassificationEvaluator\n",
    "from pyspark.ml.feature import VectorAssembler\n",
    "\n",
    "# Create a VectorAssembler to assemble features\n",
    "assembler = VectorAssembler(inputCols=features, outputCol=\"features\")\n",
    "train_data = assembler.transform(train_df)\n",
    "test_data = assembler.transform(test_df)\n",
    "\n",
    "# Create a Logistic Regression model\n",
    "lr = LogisticRegression(featuresCol=\"features\", labelCol=target_label)\n",
    "\n",
    "# Fit the model to the training data\n",
    "lr_model = lr.fit(train_data)\n",
    "\n",
    "# Make predictions on the test data\n",
    "predictions = lr_model.transform(test_data)\n",
    "\n",
    "# Evaluate the model using BinaryClassificationEvaluator\n",
    "evaluator = BinaryClassificationEvaluator(rawPredictionCol=\"rawPrediction\", labelCol=target_label)\n",
    "area_under_curve = evaluator.evaluate(predictions)\n",
    "print(f\"Area Under ROC Curve: {area_under_curve}\")"
   ]
  },
  {
   "cell_type": "markdown",
   "id": "ba704f9c-ec8b-4270-bec5-ce6c7df18f14",
   "metadata": {},
   "source": [
    "### Classification Metrics: Accuracy, Precision, Recall, F1 score, confusion Matrix"
   ]
  },
  {
   "cell_type": "code",
   "execution_count": 93,
   "id": "ce786dd3-06e2-49d3-952c-01fed3589b87",
   "metadata": {
    "tags": []
   },
   "outputs": [
    {
     "name": "stdout",
     "output_type": "stream",
     "text": [
      "Confusion Matrix:\n",
      "[5062, 908]\n",
      "[1932, 5982]\n",
      "Accuracy: 0.7954479976951887\n",
      "Precision: 0.8479061976549414\n",
      "Recall: 0.7237632256219617\n",
      "F1-Score: 0.7809318111693921\n"
     ]
    }
   ],
   "source": [
    "# Confusion Matrix\n",
    "true_positive = predictions[(predictions[target_label] == 1) & (predictions['prediction'] == 1)].count()\n",
    "false_positive = predictions[(predictions[target_label] == 0) & (predictions['prediction'] == 1)].count()\n",
    "true_negative = predictions[(predictions[target_label] == 0) & (predictions['prediction'] == 0)].count()\n",
    "false_negative = predictions[(predictions[target_label] == 1) & (predictions['prediction'] == 0)].count()\n",
    "\n",
    "confusion_matrix = [[true_positive, false_positive], [false_negative, true_negative]]\n",
    "print(\"Confusion Matrix:\")\n",
    "for row in confusion_matrix:\n",
    "    print(row)\n",
    "\n",
    "# Accuracy, Precision, Recall, and F1-Score\n",
    "accuracy = (true_positive + true_negative) / (true_positive + false_positive + true_negative + false_negative)\n",
    "precision = true_positive / (true_positive + false_positive)\n",
    "recall = true_positive / (true_positive + false_negative)\n",
    "f1_score = 2 * (precision * recall) / (precision + recall)\n",
    "\n",
    "print(f\"Accuracy: {accuracy}\")\n",
    "print(f\"Precision: {precision}\")\n",
    "print(f\"Recall: {recall}\")\n",
    "print(f\"F1-Score: {f1_score}\")"
   ]
  },
  {
   "cell_type": "code",
   "execution_count": 94,
   "id": "9b1299f6-348f-4a08-957c-190b0c644268",
   "metadata": {
    "tags": []
   },
   "outputs": [
    {
     "name": "stdout",
     "output_type": "stream",
     "text": [
      "Area Under Precision-Recall Curve: 0.8909705869866685\n"
     ]
    }
   ],
   "source": [
    "area_under_pr = evaluator.evaluate(predictions, {evaluator.metricName: \"areaUnderPR\"})\n",
    "print(f\"Area Under Precision-Recall Curve: {area_under_pr}\")"
   ]
  },
  {
   "cell_type": "markdown",
   "id": "9ba1f346-7911-48d5-892f-2bd197841801",
   "metadata": {},
   "source": [
    "### Plots ROC and area under PR curve"
   ]
  },
  {
   "cell_type": "code",
   "execution_count": 101,
   "id": "11113976-6244-4e6b-86ba-027e58079012",
   "metadata": {
    "tags": []
   },
   "outputs": [],
   "source": [
    "from sklearn.metrics import roc_curve, auc, precision_recall_curve, average_precision_score\n",
    "\n",
    "# Extract raw predictions and labels\n",
    "raw_predictions = predictions.select(\"rawPrediction\").rdd.map(lambda row: row[0].toArray())\n",
    "labels = predictions.select(target_label).rdd.map(lambda row: row[0])"
   ]
  },
  {
   "cell_type": "code",
   "execution_count": 103,
   "id": "45a5344f-9bed-45fc-8d1b-74868de46fe6",
   "metadata": {
    "tags": []
   },
   "outputs": [
    {
     "name": "stderr",
     "output_type": "stream",
     "text": [
      "                                                                                \r"
     ]
    }
   ],
   "source": [
    "import numpy as np\n",
    "\n",
    "# Convert raw predictions and labels to NumPy arrays\n",
    "raw_predictions = np.array(raw_predictions.collect())\n",
    "labels = np.array(labels.collect())\n"
   ]
  },
  {
   "cell_type": "code",
   "execution_count": 104,
   "id": "e4d79f87-e1b5-476a-a8a9-a0e383427e9e",
   "metadata": {
    "tags": []
   },
   "outputs": [],
   "source": [
    "# Calculate ROC curve\n",
    "fpr, tpr, _ = roc_curve(labels, raw_predictions[:, 1])\n",
    "roc_auc = auc(fpr, tpr)"
   ]
  },
  {
   "cell_type": "code",
   "execution_count": 105,
   "id": "ca2617eb-3b3b-4a10-9dfa-2bf9307941c9",
   "metadata": {
    "tags": []
   },
   "outputs": [],
   "source": [
    "# Calculate precision-recall curve\n",
    "precision, recall, _ = precision_recall_curve(labels, raw_predictions[:, 1])\n",
    "average_precision = average_precision_score(labels, raw_predictions[:, 1])\n"
   ]
  },
  {
   "cell_type": "code",
   "execution_count": 108,
   "id": "03604d95-6fd1-4f60-8c21-e2133cc4c45d",
   "metadata": {
    "tags": []
   },
   "outputs": [
    {
     "data": {
      "image/png": "[encoded data removed]",
      "text/plain": [
       "<Figure size 1200x400 with 2 Axes>"
      ]
     },
     "metadata": {},
     "output_type": "display_data"
    }
   ],
   "source": [
    "# Plot ROC curve\n",
    "plt.figure(figsize=(12, 4))\n",
    "plt.subplot(1, 2, 1)\n",
    "plt.plot(fpr, tpr, lw=2, label=f'ROC curve (area = {roc_auc:.2f})')\n",
    "plt.plot([0, 1], [0, 1], 'k--')\n",
    "plt.xlim([0.0, 1.0])\n",
    "plt.ylim([0.0, 1.05])\n",
    "plt.xlabel('False Positive Rate')\n",
    "plt.ylabel('True Positive Rate')\n",
    "plt.title('Receiver Operating Characteristic')\n",
    "plt.legend(loc=\"lower right\")\n",
    "\n",
    "# Plot precision-recall curve\n",
    "plt.subplot(1, 2, 2)\n",
    "plt.plot(recall, precision, lw=2, label=f'Precision-Recall curve (area = {average_precision:.2f})', color='orange')\n",
    "plt.xlim([0.0, 1.0])\n",
    "plt.ylim([0.0, 1.05])\n",
    "plt.xlabel('Recall')\n",
    "plt.ylabel('Precision')\n",
    "plt.title('Precision-Recall Curve')\n",
    "plt.legend(loc=\"lower left\")\n",
    "\n",
    "plt.show()"
   ]
  },
  {
   "cell_type": "markdown",
   "id": "1a1c84be-4594-42fc-957d-de0115d6bf90",
   "metadata": {},
   "source": [
    "### Support Vector Machines"
   ]
  },
  {
   "cell_type": "code",
   "execution_count": 112,
   "id": "14c549fc-b8ef-4f9e-91a7-238665c7504a",
   "metadata": {
    "tags": []
   },
   "outputs": [],
   "source": [
    "# Split the data into training and testing sets using randomSplit\n",
    "train_df, test_df = df_spark_new.randomSplit([0.7, 0.3], seed=42)\n",
    "\n",
    "# Define features (all columns except 'def_pay_smote') and the target label\n",
    "features = [col for col in df_spark_new.columns if col != 'def_pay_smote']\n",
    "target_label = 'def_pay_smote'"
   ]
  },
  {
   "cell_type": "code",
   "execution_count": 115,
   "id": "4760146c-3d8c-4b00-81e1-dcf6b98cd5df",
   "metadata": {
    "tags": []
   },
   "outputs": [
    {
     "name": "stdout",
     "output_type": "stream",
     "text": [
      "Prediction Accuracy: 0.7900460962258715\n",
      "Confusion Matrix:\n",
      "[[6050  840]\n",
      " [2075 4919]]\n"
     ]
    }
   ],
   "source": [
    "from pyspark.ml.classification import LinearSVC\n",
    "from pyspark.ml.evaluation import BinaryClassificationEvaluator\n",
    "from pyspark.ml.feature import VectorAssembler\n",
    "from pyspark.ml.tuning import ParamGridBuilder, CrossValidator\n",
    "from pyspark.ml import Pipeline\n",
    "\n",
    "# Create a VectorAssembler to assemble features\n",
    "assembler = VectorAssembler(inputCols=features, outputCol=\"features\")\n",
    "train_data = assembler.transform(train_df)\n",
    "test_data = assembler.transform(test_df)\n",
    "\n",
    "# Create a LinearSVC model\n",
    "svm = LinearSVC(featuresCol=\"features\", labelCol=target_label, maxIter=50)\n",
    "svm_model = svm.fit(train_data)\n",
    "\n",
    "# Make predictions on the test data\n",
    "predictions = svm_model.transform(test_data)\n",
    "\n",
    "# Evaluate the model using MulticlassClassificationEvaluator\n",
    "evaluator = MulticlassClassificationEvaluator(labelCol=target_label, metricName=\"accuracy\")\n",
    "accuracy = evaluator.evaluate(predictions)\n",
    "print(\"Prediction Accuracy:\", accuracy)\n",
    "\n",
    "# Create a confusion matrix\n",
    "from sklearn.metrics import confusion_matrix\n",
    "y_pred = predictions.select(\"prediction\").collect()\n",
    "y_orig = predictions.select(target_label).collect()\n",
    "cm = confusion_matrix(y_orig, y_pred)\n",
    "print(\"Confusion Matrix:\")\n",
    "print(cm)"
   ]
  },
  {
   "cell_type": "code",
   "execution_count": 117,
   "id": "59d16ca6-0b80-4a5b-a33a-a7388ec4ea0f",
   "metadata": {
    "tags": []
   },
   "outputs": [
    {
     "name": "stdout",
     "output_type": "stream",
     "text": [
      "Precision: 0.7997885738850052\n",
      "Recall: 0.7900460962258715\n",
      "F1 Score: 0.7885146003896647\n",
      "Area Under ROC Curve (AUC): 0.8629065634943988\n"
     ]
    }
   ],
   "source": [
    "from pyspark.ml.evaluation import MulticlassClassificationEvaluator\n",
    "\n",
    "# Define the evaluator\n",
    "evaluator = MulticlassClassificationEvaluator(labelCol=target_label, predictionCol=\"prediction\")\n",
    "\n",
    "# Calculate precision\n",
    "precision = evaluator.evaluate(predictions, {evaluator.metricName: \"weightedPrecision\"})\n",
    "print(f\"Precision: {precision}\")\n",
    "\n",
    "# Calculate recall\n",
    "recall = evaluator.evaluate(predictions, {evaluator.metricName: \"weightedRecall\"})\n",
    "print(f\"Recall: {recall}\")\n",
    "\n",
    "# Calculate F1 score\n",
    "f1 = evaluator.evaluate(predictions, {evaluator.metricName: \"f1\"})\n",
    "print(f\"F1 Score: {f1}\")\n",
    "\n",
    "# AUC is not available in MulticlassClassificationEvaluator, you can calculate it using BinaryClassificationEvaluator\n",
    "from pyspark.ml.evaluation import BinaryClassificationEvaluator\n",
    "binary_evaluator = BinaryClassificationEvaluator(rawPredictionCol=\"rawPrediction\", labelCol=target_label)\n",
    "auc = binary_evaluator.evaluate(predictions, {binary_evaluator.metricName: \"areaUnderROC\"})\n",
    "print(f\"Area Under ROC Curve (AUC): {auc}\")\n"
   ]
  },
  {
   "cell_type": "markdown",
   "id": "57806dc7-e55d-4df4-9abf-8bee74f669ad",
   "metadata": {},
   "source": [
    "# Random Forest Classifier"
   ]
  },
  {
   "cell_type": "code",
   "execution_count": 120,
   "id": "daaddc57-3d1f-439d-a7da-a1d5bb305c4f",
   "metadata": {
    "tags": []
   },
   "outputs": [
    {
     "name": "stdout",
     "output_type": "stream",
     "text": [
      "Accuracy: 0.7708153269951022\n",
      "Precision: 0.7782652647808288\n",
      "Recall: 0.7708153269951024\n",
      " F1 Score: 0.7694653866326708\n",
      " Area Under Curve: 0.8425363249361987\n"
     ]
    }
   ],
   "source": [
    "from pyspark.ml.classification import RandomForestClassifier\n",
    "from pyspark.ml.evaluation import MulticlassClassificationEvaluator\n",
    "\n",
    "# Create a Random Forest model\n",
    "rf = RandomForestClassifier(featuresCol=\"features\", labelCol=target_label, numTrees=100, maxDepth=5, seed=42)\n",
    "\n",
    "# Fit the model to the training data\n",
    "rf_model = rf.fit(train_data)\n",
    "\n",
    "# Make predictions on the test data\n",
    "rf_predictions = rf_model.transform(test_data)\n",
    "\n",
    "# Create an evaluator for multiclass classification\n",
    "evaluator = MulticlassClassificationEvaluator(labelCol=target_label, predictionCol=\"prediction\")\n",
    "\n",
    "# Calculate accuracy\n",
    "accuracy = evaluator.evaluate(rf_predictions, {evaluator.metricName: \"accuracy\"})\n",
    "print(f\"Accuracy: {accuracy}\")\n",
    "\n",
    "# Calculate weighted precision\n",
    "precision = evaluator.evaluate(rf_predictions, {evaluator.metricName: \"weightedPrecision\"})\n",
    "print(f\"Precision: {precision}\")\n",
    "\n",
    "# Calculate weighted recall\n",
    "recall = evaluator.evaluate(rf_predictions, {evaluator.metricName: \"weightedRecall\"})\n",
    "print(f\"Recall: {recall}\")\n",
    "\n",
    "# Calculate weighted F1 score\n",
    "f1 = evaluator.evaluate(rf_predictions, {evaluator.metricName: \"f1\"})\n",
    "print(f\" F1 Score: {f1}\")\n",
    "\n",
    "# caluclate AUC\n",
    "from pyspark.ml.evaluation import BinaryClassificationEvaluator\n",
    "binary_evaluator_random = BinaryClassificationEvaluator(rawPredictionCol=\"rawPrediction\", labelCol=target_label)\n",
    "auc = binary_evaluator_random.evaluate(rf_predictions, {binary_evaluator_random.metricName: \"areaUnderROC\"})\n",
    "print(f\" Area Under Curve: {auc}\")\n"
   ]
  },
  {
   "cell_type": "markdown",
   "id": "a48f3f5e-9511-4a1c-aad1-585b1234dafe",
   "metadata": {},
   "source": [
    "# Decision Tree Classifier"
   ]
  },
  {
   "cell_type": "code",
   "execution_count": 122,
   "id": "4ce1a175-3c12-49de-a77c-cf76c8302795",
   "metadata": {
    "tags": []
   },
   "outputs": [],
   "source": [
    "# Split the data into training and testing sets using randomSplit\n",
    "train_df, test_df = df_spark_new.randomSplit([0.7, 0.3], seed=42)\n",
    "\n",
    "# Define features (all columns except 'def_pay_smote') and the target label\n",
    "features = [col for col in df_spark_new.columns if col != 'def_pay_smote']\n",
    "target_label = 'def_pay_smote'"
   ]
  },
  {
   "cell_type": "code",
   "execution_count": 126,
   "id": "e88f2a67-898f-48ff-a578-cacdbf6685f3",
   "metadata": {
    "tags": []
   },
   "outputs": [
    {
     "name": "stdout",
     "output_type": "stream",
     "text": [
      "Prediction Accuracy: 0.7203255545952175\n",
      "Confusion Matrix:\n",
      "[[4964 1926]\n",
      " [1957 5037]]\n"
     ]
    }
   ],
   "source": [
    "from pyspark.ml.classification import DecisionTreeClassifier\n",
    "from pyspark.ml.evaluation import BinaryClassificationEvaluator\n",
    "from pyspark.ml.feature import VectorAssembler\n",
    "from pyspark.ml.tuning import ParamGridBuilder, CrossValidator\n",
    "from pyspark.ml import Pipeline\n",
    "\n",
    "# Create a VectorAssembler to assemble features\n",
    "assembler = VectorAssembler(inputCols=features, outputCol=\"features\")\n",
    "train_data = assembler.transform(train_df)\n",
    "test_data = assembler.transform(test_df)\n",
    "\n",
    "# Create a LinearSVC model\n",
    "dt = DecisionTreeClassifier(featuresCol=\"features\", labelCol=target_label)\n",
    "dt_model = dt.fit(train_data)\n",
    "\n",
    "# Make predictions on the test data\n",
    "dt_predictions = dt_model.transform(test_data)\n",
    "\n",
    "# Evaluate the model using MulticlassClassificationEvaluator\n",
    "evaluator_dt = MulticlassClassificationEvaluator(labelCol=target_label, metricName=\"accuracy\")\n",
    "accuracy = evaluator_dt.evaluate(dt_predictions)\n",
    "print(\"Prediction Accuracy:\", accuracy)\n",
    "\n",
    "# Create a confusion matrix\n",
    "from sklearn.metrics import confusion_matrix\n",
    "y_pred = dt_predictions.select(\"prediction\").collect()\n",
    "y_orig = dt_predictions.select(target_label).collect()\n",
    "cm = confusion_matrix(y_orig, y_pred)\n",
    "print(\"Confusion Matrix:\")\n",
    "print(cm)"
   ]
  },
  {
   "cell_type": "code",
   "execution_count": 127,
   "id": "6a794d92-4b1d-40a4-90e6-9bee395bdc54",
   "metadata": {
    "tags": []
   },
   "outputs": [
    {
     "name": "stdout",
     "output_type": "stream",
     "text": [
      "Precision: 0.7203393034097807\n",
      "Recall: 0.7203255545952175\n",
      "F1 Score: 0.7203288379675612\n",
      "Area Under ROC Curve (AUC): 0.6129455249430054\n"
     ]
    }
   ],
   "source": [
    "# Calculate precision\n",
    "precision = evaluator_dt.evaluate(predictions, {evaluator_dt.metricName: \"weightedPrecision\"})\n",
    "print(f\"Precision: {precision}\")\n",
    "\n",
    "# Calculate recall\n",
    "recall = evaluator_dt.evaluate(predictions, {evaluator_dt.metricName: \"weightedRecall\"})\n",
    "print(f\"Recall: {recall}\")\n",
    "\n",
    "# Calculate F1 score\n",
    "f1 = evaluator_dt.evaluate(predictions, {evaluator_dt.metricName: \"f1\"})\n",
    "print(f\"F1 Score: {f1}\")\n",
    "\n",
    "# AUC is not available in MulticlassClassificationEvaluator, we can calculate it using BinaryClassificationEvaluator\n",
    "from pyspark.ml.evaluation import BinaryClassificationEvaluator\n",
    "binary_evaluator_dt = BinaryClassificationEvaluator(rawPredictionCol=\"rawPrediction\", labelCol=target_label)\n",
    "auc = binary_evaluator_dt.evaluate(dt_predictions, {binary_evaluator.metricName: \"areaUnderROC\"})\n",
    "print(f\"Area Under ROC Curve (AUC): {auc}\")\n"
   ]
  },
  {
   "cell_type": "markdown",
   "id": "29ce5399-29d6-49a5-a900-7d252f93e2e0",
   "metadata": {},
   "source": [
    "# Multilayer Perceptron"
   ]
  },
  {
   "cell_type": "code",
   "execution_count": 132,
   "id": "b3263299-6842-47f3-911f-78633ca1ffd1",
   "metadata": {
    "tags": []
   },
   "outputs": [],
   "source": [
    "# Split the data into training and testing sets using randomSplit\n",
    "train_df, test_df = df_spark_new.randomSplit([0.7, 0.3], seed=42)\n",
    "\n",
    "# Define features (all columns except 'def_pay_smote') and the target label\n",
    "features = [col for col in df_spark_new.columns if col != 'def_pay_smote']\n",
    "target_label = 'def_pay_smote'"
   ]
  },
  {
   "cell_type": "code",
   "execution_count": 143,
   "id": "82fda1c2-86cb-47af-b9ec-0624129e2be8",
   "metadata": {
    "tags": []
   },
   "outputs": [
    {
     "name": "stderr",
     "output_type": "stream",
     "text": [
      "23/11/08 19:26:11 ERROR StrongWolfeLineSearch: Encountered bad values in function evaluation. Decreasing step size to 0.5\n",
      "23/11/08 19:26:12 ERROR StrongWolfeLineSearch: Encountered bad values in function evaluation. Decreasing step size to 0.25\n",
      "                                                                                \r"
     ]
    },
    {
     "name": "stdout",
     "output_type": "stream",
     "text": [
      "Accuracy: 0.49625468164794007\n",
      "Precision: 0.24626870905749834\n",
      "Recall: 0.49625468164794007\n",
      "F1 Score: 0.3291802018440654\n"
     ]
    }
   ],
   "source": [
    "from pyspark.ml.classification import MultilayerPerceptronClassifier\n",
    "from pyspark.ml.evaluation import MulticlassClassificationEvaluator\n",
    "\n",
    "\n",
    "# Create a VectorAssembler to assemble features\n",
    "assembler = VectorAssembler(inputCols=features, outputCol=\"features\")\n",
    "train_data = assembler.transform(train_df)  # Assuming you have a train DataFrame\n",
    "\n",
    "# Define the layers for the MLP\n",
    "# For example, 3 input features, 2 hidden layers with 5 nodes each, and 3 output classes\n",
    "layers = [len(features), 5, 5, 3]\n",
    "\n",
    "# Create an MLP classifier\n",
    "mlp = MultilayerPerceptronClassifier(featuresCol=\"features\", labelCol=target_label, layers=layers)\n",
    "\n",
    "# Fit the model to the training data\n",
    "mlp_model = mlp.fit(train_data)\n",
    "\n",
    "# Make predictions on the test data\n",
    "test_data = assembler.transform(test_df)  \n",
    "mlp_predictions = mlp_model.transform(test_data)\n",
    "\n",
    "# Define the evaluator\n",
    "evaluator_mlp = MultilayerPerceptronClassifier(maxIter=100, layers=layers, blockSize=128, seed=1234)\n",
    "\n",
    "# Create a MulticlassClassificationEvaluator for evaluating accuracy, precision, recall, and F1 score\n",
    "evaluator_multiclass = MulticlassClassificationEvaluator(labelCol=target_label, predictionCol=\"prediction\")\n",
    "\n",
    "# Calculate accuracy\n",
    "accuracy = evaluator_multiclass.evaluate(mlp_predictions, {evaluator_multiclass.metricName: \"accuracy\"})\n",
    "print(f\"Accuracy: {accuracy}\")\n",
    "\n",
    "# Calculate precision\n",
    "precision = evaluator_multiclass.evaluate(mlp_predictions, {evaluator_multiclass.metricName: \"weightedPrecision\"})\n",
    "print(f\"Precision: {precision}\")\n",
    "\n",
    "# Calculate recall\n",
    "recall = evaluator_multiclass.evaluate(mlp_predictions, {evaluator_multiclass.metricName: \"weightedRecall\"})\n",
    "print(f\"Recall: {recall}\")\n",
    "\n",
    "# Calculate F1 score\n",
    "f1 = evaluator_multiclass.evaluate(mlp_predictions, {evaluator_multiclass.metricName: \"f1\"})\n",
    "print(f\"F1 Score: {f1}\")\n",
    "\n"
   ]
  }
 ],
 "metadata": {
  "kernelspec": {
   "display_name": "Python 3 (ipykernel)",
   "language": "python",
   "name": "python3"
  },
  "language_info": {
   "codemirror_mode": {
    "name": "ipython",
    "version": 3
   },
   "file_extension": ".py",
   "mimetype": "text/x-python",
   "name": "python",
   "nbconvert_exporter": "python",
   "pygments_lexer": "ipython3",
   "version": "3.11.4"
  }
 },
 "nbformat": 4,
 "nbformat_minor": 5
}
